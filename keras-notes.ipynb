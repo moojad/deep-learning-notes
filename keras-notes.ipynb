{
 "cells": [
  {
   "cell_type": "markdown",
   "metadata": {},
   "source": [
    "# 1. Basics of MLP\n",
    "vanilla neural networks (i.e., Multilayer perceptrons)"
   ]
  },
  {
   "cell_type": "code",
   "execution_count": 22,
   "metadata": {},
   "outputs": [],
   "source": [
    "import tensorflow as tf\n",
    "from tensorflow.keras.models import Sequential\n",
    "from tensorflow.keras.layers import Dense, Activation, BatchNormalization, Dropout\n",
    "from tensorflow.keras import optimizers"
   ]
  },
  {
   "cell_type": "markdown",
   "metadata": {},
   "source": [
    "models: https://keras.io/models/sequential/\n",
    "layers: https://keras.io/layers/core/\n",
    "optimizers: https://keras.io/optimizers/\n",
    "losses: https://keras.io/losses/\n",
    "metrics: https://keras.io/metrics/\n",
    "weight initilization: https://keras.io/initializers/\n",
    "activation functions: https://keras.io/activations/\n",
    "dropout: https://keras.io/layers/core/#dropout\n"
   ]
  },
  {
   "cell_type": "markdown",
   "metadata": {},
   "source": [
    "## 1.1 MLP for Regression Task (Boston Housing Prices)\n",
    "Doc: https://keras.io/datasets/"
   ]
  },
  {
   "cell_type": "markdown",
   "metadata": {},
   "source": [
    "### Dataset"
   ]
  },
  {
   "cell_type": "code",
   "execution_count": 23,
   "metadata": {},
   "outputs": [],
   "source": [
    "from tensorflow.keras.datasets import boston_housing"
   ]
  },
  {
   "cell_type": "code",
   "execution_count": 24,
   "metadata": {},
   "outputs": [],
   "source": [
    "(X_train, y_train),(X_test, y_test) = boston_housing.load_data()"
   ]
  },
  {
   "cell_type": "code",
   "execution_count": 25,
   "metadata": {},
   "outputs": [
    {
     "name": "stdout",
     "output_type": "stream",
     "text": [
      "(404, 13)\n",
      "(404,)\n",
      "(102, 13)\n",
      "(102,)\n"
     ]
    }
   ],
   "source": [
    "print (X_train.shape)\n",
    "print(y_train.shape)\n",
    "print(X_test.shape)\n",
    "print(y_test.shape)"
   ]
  },
  {
   "cell_type": "markdown",
   "metadata": {},
   "source": [
    "### Model\n",
    "models: https://keras.io/models/sequential/ "
   ]
  },
  {
   "cell_type": "code",
   "execution_count": 26,
   "metadata": {},
   "outputs": [],
   "source": [
    "model = Sequential()"
   ]
  },
  {
   "cell_type": "markdown",
   "metadata": {},
   "source": [
    "#### - Model Layers\n",
    "layers: https://keras.io/layers/core/ weight initilization: https://keras.io/initializers/ activation functions: https://keras.io/activations/ dropout: https://keras.io/layers/core/#dropout"
   ]
  },
  {
   "cell_type": "code",
   "execution_count": 27,
   "metadata": {},
   "outputs": [],
   "source": [
    "# Keras model with two hidden layer with 10 neurons each\n",
    "model.add(Dense(10, input_shape=(13,)))   # Input layer => input_shape should be explicitly designated\n",
    "model.add(Activation('sigmoid'))\n",
    "\n",
    "model.add(Dense(10))                      # Hidden layer => only output dimension should be designated\n",
    "model.add(Activation('sigmoid'))\n",
    "\n",
    "model.add(Dense(10))                      # Hidden layer => only output dimension should be designated\n",
    "model.add(Activation('sigmoid'))\n",
    "\n",
    "model.add(Dense(1))                       # Output layer => output dimension = 1 since it is regression problem"
   ]
  },
  {
   "cell_type": "markdown",
   "metadata": {},
   "source": [
    "#### - Model Compile (with optimizer)\n",
    "optimizers: https://keras.io/optimizers/ \n",
    "losses: https://keras.io/losses/\n",
    "metrics: https://keras.io/metrics/"
   ]
  },
  {
   "cell_type": "code",
   "execution_count": 29,
   "metadata": {},
   "outputs": [],
   "source": [
    "sgd = optimizers.SGD(learning_rate=0.01, momentum=0.0)\n",
    "model.compile(optimizer=sgd, loss='mean_squared_error', metrics=['mse'])  # for regression problems, mean squared error (MSE) is often employed\n",
    "\n"
   ]
  },
  {
   "cell_type": "code",
   "execution_count": 30,
   "metadata": {},
   "outputs": [
    {
     "name": "stdout",
     "output_type": "stream",
     "text": [
      "Model: \"sequential\"\n",
      "_________________________________________________________________\n",
      "Layer (type)                 Output Shape              Param #   \n",
      "=================================================================\n",
      "dense (Dense)                (None, 10)                140       \n",
      "_________________________________________________________________\n",
      "activation (Activation)      (None, 10)                0         \n",
      "_________________________________________________________________\n",
      "dense_1 (Dense)              (None, 10)                110       \n",
      "_________________________________________________________________\n",
      "activation_1 (Activation)    (None, 10)                0         \n",
      "_________________________________________________________________\n",
      "dense_2 (Dense)              (None, 10)                110       \n",
      "_________________________________________________________________\n",
      "activation_2 (Activation)    (None, 10)                0         \n",
      "_________________________________________________________________\n",
      "dense_3 (Dense)              (None, 1)                 11        \n",
      "=================================================================\n",
      "Total params: 371\n",
      "Trainable params: 371\n",
      "Non-trainable params: 0\n",
      "_________________________________________________________________\n"
     ]
    }
   ],
   "source": [
    "model.summary()"
   ]
  },
  {
   "cell_type": "markdown",
   "metadata": {},
   "source": [
    "#### - Model Fit"
   ]
  },
  {
   "cell_type": "code",
   "execution_count": 31,
   "metadata": {},
   "outputs": [
    {
     "name": "stdout",
     "output_type": "stream",
     "text": [
      "Train on 404 samples\n",
      "Epoch 1/100\n",
      "404/404 [==============================] - 0s 809us/sample - loss: 344.5431 - mse: 344.5430\n",
      "Epoch 2/100\n",
      "404/404 [==============================] - 0s 78us/sample - loss: 99.6952 - mse: 99.6952\n",
      "Epoch 3/100\n",
      "404/404 [==============================] - 0s 93us/sample - loss: 86.1264 - mse: 86.1264\n",
      "Epoch 4/100\n",
      "404/404 [==============================] - 0s 78us/sample - loss: 84.0497 - mse: 84.0497\n",
      "Epoch 5/100\n",
      "404/404 [==============================] - 0s 66us/sample - loss: 83.6449 - mse: 83.6449\n",
      "Epoch 6/100\n",
      "404/404 [==============================] - 0s 64us/sample - loss: 84.0394 - mse: 84.0394\n",
      "Epoch 7/100\n",
      "404/404 [==============================] - 0s 92us/sample - loss: 83.4234 - mse: 83.4234\n",
      "Epoch 8/100\n",
      "404/404 [==============================] - 0s 54us/sample - loss: 82.8080 - mse: 82.8079\n",
      "Epoch 9/100\n",
      "404/404 [==============================] - 0s 104us/sample - loss: 82.1625 - mse: 82.1625\n",
      "Epoch 10/100\n",
      "404/404 [==============================] - 0s 60us/sample - loss: 80.7629 - mse: 80.7629\n",
      "Epoch 11/100\n",
      "404/404 [==============================] - 0s 68us/sample - loss: 80.0202 - mse: 80.0202\n",
      "Epoch 12/100\n",
      "404/404 [==============================] - 0s 114us/sample - loss: 82.4985 - mse: 82.4985\n",
      "Epoch 13/100\n",
      "404/404 [==============================] - 0s 84us/sample - loss: 83.8242 - mse: 83.8242\n",
      "Epoch 14/100\n",
      "404/404 [==============================] - 0s 98us/sample - loss: 83.6088 - mse: 83.6088\n",
      "Epoch 15/100\n",
      "404/404 [==============================] - 0s 62us/sample - loss: 84.1816 - mse: 84.1816\n",
      "Epoch 16/100\n",
      "404/404 [==============================] - 0s 75us/sample - loss: 83.3010 - mse: 83.3010\n",
      "Epoch 17/100\n",
      "404/404 [==============================] - 0s 63us/sample - loss: 84.1599 - mse: 84.1599\n",
      "Epoch 18/100\n",
      "404/404 [==============================] - 0s 85us/sample - loss: 83.3068 - mse: 83.3068\n",
      "Epoch 19/100\n",
      "404/404 [==============================] - 0s 64us/sample - loss: 84.6645 - mse: 84.6645\n",
      "Epoch 20/100\n",
      "404/404 [==============================] - 0s 124us/sample - loss: 82.7803 - mse: 82.7803\n",
      "Epoch 21/100\n",
      "404/404 [==============================] - 0s 71us/sample - loss: 82.7585 - mse: 82.7585\n",
      "Epoch 22/100\n",
      "404/404 [==============================] - 0s 57us/sample - loss: 82.6691 - mse: 82.6691\n",
      "Epoch 23/100\n",
      "404/404 [==============================] - 0s 82us/sample - loss: 83.2408 - mse: 83.2408\n",
      "Epoch 24/100\n",
      "404/404 [==============================] - 0s 119us/sample - loss: 83.0986 - mse: 83.0986\n",
      "Epoch 25/100\n",
      "404/404 [==============================] - 0s 69us/sample - loss: 82.6672 - mse: 82.6672\n",
      "Epoch 26/100\n",
      "404/404 [==============================] - 0s 57us/sample - loss: 81.2662 - mse: 81.2662\n",
      "Epoch 27/100\n",
      "404/404 [==============================] - 0s 70us/sample - loss: 82.4612 - mse: 82.4612\n",
      "Epoch 28/100\n",
      "404/404 [==============================] - 0s 78us/sample - loss: 81.5399 - mse: 81.5399\n",
      "Epoch 29/100\n",
      "404/404 [==============================] - 0s 71us/sample - loss: 81.3556 - mse: 81.3556\n",
      "Epoch 30/100\n",
      "404/404 [==============================] - 0s 78us/sample - loss: 81.4520 - mse: 81.4520\n",
      "Epoch 31/100\n",
      "404/404 [==============================] - 0s 67us/sample - loss: 81.8283 - mse: 81.8282\n",
      "Epoch 32/100\n",
      "404/404 [==============================] - 0s 65us/sample - loss: 81.9554 - mse: 81.9554\n",
      "Epoch 33/100\n",
      "404/404 [==============================] - 0s 101us/sample - loss: 80.4521 - mse: 80.4521\n",
      "Epoch 34/100\n",
      "404/404 [==============================] - 0s 84us/sample - loss: 79.6930 - mse: 79.6930\n",
      "Epoch 35/100\n",
      "404/404 [==============================] - 0s 96us/sample - loss: 79.5128 - mse: 79.5128\n",
      "Epoch 36/100\n",
      "404/404 [==============================] - 0s 61us/sample - loss: 79.7773 - mse: 79.7773\n",
      "Epoch 37/100\n",
      "404/404 [==============================] - 0s 75us/sample - loss: 80.2532 - mse: 80.2532\n",
      "Epoch 38/100\n",
      "404/404 [==============================] - 0s 61us/sample - loss: 80.3544 - mse: 80.3544\n",
      "Epoch 39/100\n",
      "404/404 [==============================] - 0s 59us/sample - loss: 83.1228 - mse: 83.1228\n",
      "Epoch 40/100\n",
      "404/404 [==============================] - 0s 64us/sample - loss: 79.0363 - mse: 79.0363\n",
      "Epoch 41/100\n",
      "404/404 [==============================] - 0s 69us/sample - loss: 78.7175 - mse: 78.7175\n",
      "Epoch 42/100\n",
      "404/404 [==============================] - 0s 95us/sample - loss: 82.7607 - mse: 82.7607\n",
      "Epoch 43/100\n",
      "404/404 [==============================] - 0s 70us/sample - loss: 79.6042 - mse: 79.6042\n",
      "Epoch 44/100\n",
      "404/404 [==============================] - 0s 54us/sample - loss: 78.8924 - mse: 78.8924\n",
      "Epoch 45/100\n",
      "404/404 [==============================] - 0s 67us/sample - loss: 78.6941 - mse: 78.6941\n",
      "Epoch 46/100\n",
      "404/404 [==============================] - 0s 49us/sample - loss: 79.4696 - mse: 79.4696\n",
      "Epoch 47/100\n",
      "404/404 [==============================] - 0s 89us/sample - loss: 78.0017 - mse: 78.0017\n",
      "Epoch 48/100\n",
      "404/404 [==============================] - 0s 70us/sample - loss: 79.1647 - mse: 79.1647\n",
      "Epoch 49/100\n",
      "404/404 [==============================] - 0s 75us/sample - loss: 78.5736 - mse: 78.5736\n",
      "Epoch 50/100\n",
      "404/404 [==============================] - 0s 59us/sample - loss: 77.8023 - mse: 77.8023\n",
      "Epoch 51/100\n",
      "404/404 [==============================] - 0s 113us/sample - loss: 78.3110 - mse: 78.3110\n",
      "Epoch 52/100\n",
      "404/404 [==============================] - 0s 86us/sample - loss: 77.7609 - mse: 77.7609\n",
      "Epoch 53/100\n",
      "404/404 [==============================] - 0s 73us/sample - loss: 79.9742 - mse: 79.9742\n",
      "Epoch 54/100\n",
      "404/404 [==============================] - 0s 59us/sample - loss: 78.2847 - mse: 78.2847\n",
      "Epoch 55/100\n",
      "404/404 [==============================] - 0s 61us/sample - loss: 78.4423 - mse: 78.4423\n",
      "Epoch 56/100\n",
      "404/404 [==============================] - 0s 42us/sample - loss: 77.8405 - mse: 77.8405\n",
      "Epoch 57/100\n",
      "404/404 [==============================] - 0s 73us/sample - loss: 77.2351 - mse: 77.2351\n",
      "Epoch 58/100\n",
      "404/404 [==============================] - 0s 69us/sample - loss: 78.4287 - mse: 78.4287\n",
      "Epoch 59/100\n",
      "404/404 [==============================] - 0s 56us/sample - loss: 78.0275 - mse: 78.0275\n",
      "Epoch 60/100\n",
      "404/404 [==============================] - 0s 67us/sample - loss: 77.5281 - mse: 77.5282\n",
      "Epoch 61/100\n",
      "404/404 [==============================] - 0s 66us/sample - loss: 79.2408 - mse: 79.2408\n",
      "Epoch 62/100\n",
      "404/404 [==============================] - 0s 57us/sample - loss: 78.4550 - mse: 78.4550\n",
      "Epoch 63/100\n",
      "404/404 [==============================] - 0s 59us/sample - loss: 77.3558 - mse: 77.3559\n",
      "Epoch 64/100\n",
      "404/404 [==============================] - 0s 57us/sample - loss: 78.0924 - mse: 78.0924\n",
      "Epoch 65/100\n",
      "404/404 [==============================] - 0s 81us/sample - loss: 77.8476 - mse: 77.8476\n",
      "Epoch 66/100\n",
      "404/404 [==============================] - 0s 65us/sample - loss: 77.7516 - mse: 77.7516\n",
      "Epoch 67/100\n",
      "404/404 [==============================] - 0s 67us/sample - loss: 82.2124 - mse: 82.2124\n",
      "Epoch 68/100\n",
      "404/404 [==============================] - 0s 73us/sample - loss: 77.4561 - mse: 77.4561\n",
      "Epoch 69/100\n",
      "404/404 [==============================] - 0s 62us/sample - loss: 78.4698 - mse: 78.4698\n",
      "Epoch 70/100\n",
      "404/404 [==============================] - 0s 40us/sample - loss: 77.8442 - mse: 77.8442\n",
      "Epoch 71/100\n",
      "404/404 [==============================] - 0s 50us/sample - loss: 78.1581 - mse: 78.1581\n",
      "Epoch 72/100\n",
      "404/404 [==============================] - 0s 64us/sample - loss: 78.0801 - mse: 78.0801\n",
      "Epoch 73/100\n",
      "404/404 [==============================] - 0s 61us/sample - loss: 79.3262 - mse: 79.3262\n",
      "Epoch 74/100\n",
      "404/404 [==============================] - 0s 62us/sample - loss: 77.3765 - mse: 77.3764\n",
      "Epoch 75/100\n",
      "404/404 [==============================] - 0s 46us/sample - loss: 78.1272 - mse: 78.1272\n",
      "Epoch 76/100\n",
      "404/404 [==============================] - 0s 59us/sample - loss: 78.5878 - mse: 78.5878\n",
      "Epoch 77/100\n",
      "404/404 [==============================] - 0s 62us/sample - loss: 78.0408 - mse: 78.0408\n",
      "Epoch 78/100\n",
      "404/404 [==============================] - 0s 68us/sample - loss: 77.6587 - mse: 77.6587\n",
      "Epoch 79/100\n",
      "404/404 [==============================] - 0s 74us/sample - loss: 79.4946 - mse: 79.4946\n",
      "Epoch 80/100\n",
      "404/404 [==============================] - 0s 48us/sample - loss: 77.4189 - mse: 77.4190\n",
      "Epoch 81/100\n"
     ]
    },
    {
     "name": "stdout",
     "output_type": "stream",
     "text": [
      "404/404 [==============================] - 0s 54us/sample - loss: 77.0478 - mse: 77.0478\n",
      "Epoch 82/100\n",
      "404/404 [==============================] - 0s 81us/sample - loss: 77.9033 - mse: 77.9033\n",
      "Epoch 83/100\n",
      "404/404 [==============================] - 0s 50us/sample - loss: 78.3325 - mse: 78.3325\n",
      "Epoch 84/100\n",
      "404/404 [==============================] - 0s 46us/sample - loss: 79.0107 - mse: 79.0107\n",
      "Epoch 85/100\n",
      "404/404 [==============================] - 0s 65us/sample - loss: 77.1588 - mse: 77.1588\n",
      "Epoch 86/100\n",
      "404/404 [==============================] - 0s 53us/sample - loss: 77.3423 - mse: 77.3423\n",
      "Epoch 87/100\n",
      "404/404 [==============================] - 0s 51us/sample - loss: 77.0633 - mse: 77.0633\n",
      "Epoch 88/100\n",
      "404/404 [==============================] - 0s 52us/sample - loss: 77.4140 - mse: 77.4140\n",
      "Epoch 89/100\n",
      "404/404 [==============================] - 0s 50us/sample - loss: 77.2044 - mse: 77.2044\n",
      "Epoch 90/100\n",
      "404/404 [==============================] - 0s 70us/sample - loss: 77.3933 - mse: 77.3933\n",
      "Epoch 91/100\n",
      "404/404 [==============================] - 0s 58us/sample - loss: 77.4610 - mse: 77.4610\n",
      "Epoch 92/100\n",
      "404/404 [==============================] - 0s 58us/sample - loss: 77.6155 - mse: 77.6155\n",
      "Epoch 93/100\n",
      "404/404 [==============================] - 0s 56us/sample - loss: 79.3822 - mse: 79.3822\n",
      "Epoch 94/100\n",
      "404/404 [==============================] - 0s 49us/sample - loss: 76.9706 - mse: 76.9706\n",
      "Epoch 95/100\n",
      "404/404 [==============================] - 0s 43us/sample - loss: 76.6628 - mse: 76.6628\n",
      "Epoch 96/100\n",
      "404/404 [==============================] - 0s 46us/sample - loss: 76.9294 - mse: 76.9294\n",
      "Epoch 97/100\n",
      "404/404 [==============================] - 0s 43us/sample - loss: 77.4373 - mse: 77.4373\n",
      "Epoch 98/100\n",
      "404/404 [==============================] - 0s 47us/sample - loss: 77.4573 - mse: 77.4573\n",
      "Epoch 99/100\n",
      "404/404 [==============================] - 0s 53us/sample - loss: 77.2246 - mse: 77.2246\n",
      "Epoch 100/100\n",
      "404/404 [==============================] - 0s 52us/sample - loss: 77.2310 - mse: 77.2310\n"
     ]
    },
    {
     "data": {
      "text/plain": [
       "<tensorflow.python.keras.callbacks.History at 0x137f49160>"
      ]
     },
     "execution_count": 31,
     "metadata": {},
     "output_type": "execute_result"
    }
   ],
   "source": [
    "model.fit(X_train, y_train, batch_size=50, epochs=100, verbose=1)"
   ]
  },
  {
   "cell_type": "markdown",
   "metadata": {},
   "source": [
    "#### - Model Evaluate\n",
    "metrics: https://keras.io/metrics/"
   ]
  },
  {
   "cell_type": "code",
   "execution_count": 33,
   "metadata": {},
   "outputs": [
    {
     "name": "stdout",
     "output_type": "stream",
     "text": [
      "\r",
      "102/1 [====================================================================================================================================================================================================================================================================================================================================================================================================================================================================================================================================================================================================================================================================================================================================================================================================================================================================================================================================================================================================================================================================================================================================================================================================================================================================================================================================================================================================================================================================================================================================================================================================================================================================================================================================================================================================================================================================================================================================================================================================================================================================================================================================================================================================================================================================================================================================================================================================================================================================================================================================================================================================================================================================================================================================================================================================================================================================================================================================================================================================================================================================================================================================================================================] - 0s 68us/sample - loss: 111.1879 - mse: 76.5312\n"
     ]
    }
   ],
   "source": [
    "results = model.evaluate(X_test, y_test)"
   ]
  },
  {
   "cell_type": "code",
   "execution_count": 34,
   "metadata": {},
   "outputs": [
    {
     "name": "stdout",
     "output_type": "stream",
     "text": [
      "['loss', 'mse']\n",
      "[76.53115276261872, 76.53115]\n"
     ]
    }
   ],
   "source": [
    "print(model.metrics_names)     # list of metric names the model is employing\n",
    "print(results)                 # actual figure of metrics computed"
   ]
  },
  {
   "cell_type": "code",
   "execution_count": 35,
   "metadata": {},
   "outputs": [
    {
     "name": "stdout",
     "output_type": "stream",
     "text": [
      "loss:  76.53115276261872\n",
      "mse:  76.53115\n"
     ]
    }
   ],
   "source": [
    "print('loss: ', results[0])\n",
    "print('mse: ', results[1])"
   ]
  },
  {
   "cell_type": "markdown",
   "metadata": {},
   "source": [
    "#### Clear the model (if needed)"
   ]
  },
  {
   "cell_type": "code",
   "execution_count": 21,
   "metadata": {},
   "outputs": [],
   "source": [
    "tf.keras.backend.clear_session()"
   ]
  },
  {
   "cell_type": "code",
   "execution_count": null,
   "metadata": {},
   "outputs": [],
   "source": []
  },
  {
   "cell_type": "markdown",
   "metadata": {},
   "source": [
    "## 2. MLP for Classification Task"
   ]
  },
  {
   "cell_type": "code",
   "execution_count": null,
   "metadata": {},
   "outputs": [],
   "source": []
  },
  {
   "cell_type": "code",
   "execution_count": null,
   "metadata": {},
   "outputs": [],
   "source": []
  },
  {
   "cell_type": "code",
   "execution_count": null,
   "metadata": {},
   "outputs": [],
   "source": []
  }
 ],
 "metadata": {
  "kernelspec": {
   "display_name": "Python 3",
   "language": "python",
   "name": "python3"
  },
  "language_info": {
   "codemirror_mode": {
    "name": "ipython",
    "version": 3
   },
   "file_extension": ".py",
   "mimetype": "text/x-python",
   "name": "python",
   "nbconvert_exporter": "python",
   "pygments_lexer": "ipython3",
   "version": "3.6.8"
  }
 },
 "nbformat": 4,
 "nbformat_minor": 2
}
