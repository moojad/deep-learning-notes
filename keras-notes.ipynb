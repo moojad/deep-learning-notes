{
 "cells": [
  {
   "cell_type": "markdown",
   "metadata": {},
   "source": [
    "# 1. MLP\n",
    "Vanilla neural networks (i.e., Multilayer perceptrons)"
   ]
  },
  {
   "cell_type": "markdown",
   "metadata": {},
   "source": [
    "## 1.1 MLP for Regression Task (Boston Housing Prices)\n",
    "- When the target (**y**) is continuous (real)\n",
    "- For loss function and evaluation metric, mean squared error (MSE) is commonly used"
   ]
  },
  {
   "cell_type": "code",
   "execution_count": 1,
   "metadata": {},
   "outputs": [],
   "source": [
    "import tensorflow as tf\n",
    "from tensorflow.keras.models import Sequential\n",
    "from tensorflow.keras.layers import Dense, Activation, BatchNormalization, Dropout\n",
    "from tensorflow.keras import optimizers\n",
    "\n",
    "from sklearn.model_selection import train_test_split"
   ]
  },
  {
   "cell_type": "markdown",
   "metadata": {},
   "source": [
    "models: https://keras.io/models/sequential/\n",
    "layers: https://keras.io/layers/core/\n",
    "optimizers: https://keras.io/optimizers/\n",
    "losses: https://keras.io/losses/\n",
    "metrics: https://keras.io/metrics/\n",
    "weight initilization: https://keras.io/initializers/\n",
    "activation functions: https://keras.io/activations/\n",
    "dropout: https://keras.io/layers/core/#dropout\n"
   ]
  },
  {
   "cell_type": "markdown",
   "metadata": {},
   "source": [
    "### Dataset\n",
    "- Boston housing dataset has total 506 data instances (404 training & 102 test)\n",
    "- 13 attributes (features) to predict \"the median values of the houses at a location\"\n",
    "- Doc: https://keras.io/datasets/"
   ]
  },
  {
   "cell_type": "code",
   "execution_count": 2,
   "metadata": {},
   "outputs": [],
   "source": [
    "from tensorflow.keras.datasets import boston_housing"
   ]
  },
  {
   "cell_type": "code",
   "execution_count": 3,
   "metadata": {},
   "outputs": [],
   "source": [
    "(X_train, y_train),(X_test, y_test) = boston_housing.load_data()"
   ]
  },
  {
   "cell_type": "code",
   "execution_count": 4,
   "metadata": {},
   "outputs": [
    {
     "name": "stdout",
     "output_type": "stream",
     "text": [
      "(404, 13)\n",
      "(404,)\n",
      "(102, 13)\n",
      "(102,)\n"
     ]
    }
   ],
   "source": [
    "print (X_train.shape)\n",
    "print(y_train.shape)\n",
    "print(X_test.shape)\n",
    "print(y_test.shape)"
   ]
  },
  {
   "cell_type": "markdown",
   "metadata": {},
   "source": [
    "### Model\n",
    "models: https://keras.io/models/sequential/ "
   ]
  },
  {
   "cell_type": "code",
   "execution_count": 5,
   "metadata": {},
   "outputs": [],
   "source": [
    "model = Sequential()"
   ]
  },
  {
   "cell_type": "markdown",
   "metadata": {},
   "source": [
    "#### - Model Layers\n",
    "layers: https://keras.io/layers/core/ weight initilization: https://keras.io/initializers/ activation functions: https://keras.io/activations/ dropout: https://keras.io/layers/core/#dropout"
   ]
  },
  {
   "cell_type": "code",
   "execution_count": 6,
   "metadata": {},
   "outputs": [],
   "source": [
    "# Keras model with two hidden layer with 10 neurons each\n",
    "model.add(Dense(10, input_shape=(13,)))   # Input layer => input_shape should be explicitly designated\n",
    "model.add(Activation('sigmoid'))\n",
    "\n",
    "model.add(Dense(10))                      # Hidden layer => only output dimension should be designated\n",
    "model.add(Activation('sigmoid'))\n",
    "\n",
    "model.add(Dense(10))                      # Hidden layer => only output dimension should be designated\n",
    "model.add(Activation('sigmoid'))\n",
    "\n",
    "model.add(Dense(1))                       # Output layer => output dimension = 1 since it is regression problem"
   ]
  },
  {
   "cell_type": "markdown",
   "metadata": {},
   "source": [
    "#### - Model Compile (with optimizer)\n",
    "optimizers: https://keras.io/optimizers/ \n",
    "losses: https://keras.io/losses/\n",
    "metrics: https://keras.io/metrics/"
   ]
  },
  {
   "cell_type": "code",
   "execution_count": 7,
   "metadata": {},
   "outputs": [],
   "source": [
    "sgd = optimizers.SGD(learning_rate=0.01, momentum=0.0)\n",
    "model.compile(optimizer=sgd, loss='mean_squared_error', metrics=['mse'])  # for regression problems, mean squared error (MSE) is often employed\n",
    "\n"
   ]
  },
  {
   "cell_type": "code",
   "execution_count": 8,
   "metadata": {},
   "outputs": [
    {
     "name": "stdout",
     "output_type": "stream",
     "text": [
      "Model: \"sequential\"\n",
      "_________________________________________________________________\n",
      "Layer (type)                 Output Shape              Param #   \n",
      "=================================================================\n",
      "dense (Dense)                (None, 10)                140       \n",
      "_________________________________________________________________\n",
      "activation (Activation)      (None, 10)                0         \n",
      "_________________________________________________________________\n",
      "dense_1 (Dense)              (None, 10)                110       \n",
      "_________________________________________________________________\n",
      "activation_1 (Activation)    (None, 10)                0         \n",
      "_________________________________________________________________\n",
      "dense_2 (Dense)              (None, 10)                110       \n",
      "_________________________________________________________________\n",
      "activation_2 (Activation)    (None, 10)                0         \n",
      "_________________________________________________________________\n",
      "dense_3 (Dense)              (None, 1)                 11        \n",
      "=================================================================\n",
      "Total params: 371\n",
      "Trainable params: 371\n",
      "Non-trainable params: 0\n",
      "_________________________________________________________________\n"
     ]
    }
   ],
   "source": [
    "model.summary()"
   ]
  },
  {
   "cell_type": "markdown",
   "metadata": {},
   "source": [
    "#### - Model Fit (Train)"
   ]
  },
  {
   "cell_type": "code",
   "execution_count": 9,
   "metadata": {},
   "outputs": [
    {
     "name": "stdout",
     "output_type": "stream",
     "text": [
      "Train on 404 samples\n",
      "Epoch 1/100\n",
      "404/404 [==============================] - 1s 1ms/sample - loss: 365.5055 - mse: 365.5055\n",
      "Epoch 2/100\n",
      "404/404 [==============================] - 0s 49us/sample - loss: 102.3870 - mse: 102.3870\n",
      "Epoch 3/100\n",
      "404/404 [==============================] - 0s 52us/sample - loss: 83.8280 - mse: 83.8280\n",
      "Epoch 4/100\n",
      "404/404 [==============================] - 0s 50us/sample - loss: 84.1185 - mse: 84.1185\n",
      "Epoch 5/100\n",
      "404/404 [==============================] - 0s 56us/sample - loss: 84.0177 - mse: 84.0177\n",
      "Epoch 6/100\n",
      "404/404 [==============================] - 0s 89us/sample - loss: 82.6715 - mse: 82.6715\n",
      "Epoch 7/100\n",
      "404/404 [==============================] - 0s 75us/sample - loss: 82.8856 - mse: 82.8856\n",
      "Epoch 8/100\n",
      "404/404 [==============================] - 0s 46us/sample - loss: 81.4509 - mse: 81.4509\n",
      "Epoch 9/100\n",
      "404/404 [==============================] - 0s 60us/sample - loss: 80.3800 - mse: 80.3800\n",
      "Epoch 10/100\n",
      "404/404 [==============================] - 0s 49us/sample - loss: 81.1025 - mse: 81.1025\n",
      "Epoch 11/100\n",
      "404/404 [==============================] - 0s 52us/sample - loss: 79.7856 - mse: 79.7856\n",
      "Epoch 12/100\n",
      "404/404 [==============================] - 0s 56us/sample - loss: 78.1310 - mse: 78.1310\n",
      "Epoch 13/100\n",
      "404/404 [==============================] - 0s 128us/sample - loss: 78.8671 - mse: 78.8671\n",
      "Epoch 14/100\n",
      "404/404 [==============================] - 0s 54us/sample - loss: 81.7580 - mse: 81.7580\n",
      "Epoch 15/100\n",
      "404/404 [==============================] - 0s 109us/sample - loss: 82.4526 - mse: 82.4526\n",
      "Epoch 16/100\n",
      "404/404 [==============================] - 0s 72us/sample - loss: 84.0010 - mse: 84.0010\n",
      "Epoch 17/100\n",
      "404/404 [==============================] - 0s 80us/sample - loss: 82.7942 - mse: 82.7942\n",
      "Epoch 18/100\n",
      "404/404 [==============================] - 0s 55us/sample - loss: 81.5902 - mse: 81.5902\n",
      "Epoch 19/100\n",
      "404/404 [==============================] - 0s 62us/sample - loss: 82.4961 - mse: 82.4961\n",
      "Epoch 20/100\n",
      "404/404 [==============================] - 0s 55us/sample - loss: 81.7781 - mse: 81.7781\n",
      "Epoch 21/100\n",
      "404/404 [==============================] - 0s 51us/sample - loss: 81.0154 - mse: 81.0154\n",
      "Epoch 22/100\n",
      "404/404 [==============================] - 0s 48us/sample - loss: 82.6459 - mse: 82.6459\n",
      "Epoch 23/100\n",
      "404/404 [==============================] - 0s 43us/sample - loss: 81.3487 - mse: 81.3487\n",
      "Epoch 24/100\n",
      "404/404 [==============================] - 0s 42us/sample - loss: 80.5575 - mse: 80.5575\n",
      "Epoch 25/100\n",
      "404/404 [==============================] - 0s 82us/sample - loss: 81.0042 - mse: 81.0042\n",
      "Epoch 26/100\n",
      "404/404 [==============================] - 0s 54us/sample - loss: 81.0594 - mse: 81.0594\n",
      "Epoch 27/100\n",
      "404/404 [==============================] - 0s 47us/sample - loss: 81.4313 - mse: 81.4313\n",
      "Epoch 28/100\n",
      "404/404 [==============================] - 0s 54us/sample - loss: 80.1268 - mse: 80.1268\n",
      "Epoch 29/100\n",
      "404/404 [==============================] - 0s 56us/sample - loss: 81.7455 - mse: 81.7455\n",
      "Epoch 30/100\n",
      "404/404 [==============================] - 0s 62us/sample - loss: 83.5390 - mse: 83.5390\n",
      "Epoch 31/100\n",
      "404/404 [==============================] - 0s 62us/sample - loss: 79.9905 - mse: 79.9905\n",
      "Epoch 32/100\n",
      "404/404 [==============================] - 0s 50us/sample - loss: 80.2129 - mse: 80.2129\n",
      "Epoch 33/100\n",
      "404/404 [==============================] - 0s 60us/sample - loss: 78.9422 - mse: 78.9422\n",
      "Epoch 34/100\n",
      "404/404 [==============================] - 0s 45us/sample - loss: 79.0374 - mse: 79.0374\n",
      "Epoch 35/100\n",
      "404/404 [==============================] - 0s 76us/sample - loss: 79.5748 - mse: 79.5748\n",
      "Epoch 36/100\n",
      "404/404 [==============================] - 0s 64us/sample - loss: 78.3011 - mse: 78.3011\n",
      "Epoch 37/100\n",
      "404/404 [==============================] - 0s 61us/sample - loss: 78.5239 - mse: 78.5239\n",
      "Epoch 38/100\n",
      "404/404 [==============================] - 0s 62us/sample - loss: 78.6260 - mse: 78.6260\n",
      "Epoch 39/100\n",
      "404/404 [==============================] - 0s 67us/sample - loss: 78.0113 - mse: 78.0113\n",
      "Epoch 40/100\n",
      "404/404 [==============================] - 0s 58us/sample - loss: 77.9661 - mse: 77.9661\n",
      "Epoch 41/100\n",
      "404/404 [==============================] - 0s 52us/sample - loss: 79.0416 - mse: 79.0416\n",
      "Epoch 42/100\n",
      "404/404 [==============================] - 0s 36us/sample - loss: 79.2180 - mse: 79.2180\n",
      "Epoch 43/100\n",
      "404/404 [==============================] - 0s 59us/sample - loss: 79.2106 - mse: 79.2106\n",
      "Epoch 44/100\n",
      "404/404 [==============================] - 0s 50us/sample - loss: 78.0101 - mse: 78.0101\n",
      "Epoch 45/100\n",
      "404/404 [==============================] - 0s 40us/sample - loss: 79.9921 - mse: 79.9921\n",
      "Epoch 46/100\n",
      "404/404 [==============================] - 0s 53us/sample - loss: 78.8048 - mse: 78.8048\n",
      "Epoch 47/100\n",
      "404/404 [==============================] - 0s 67us/sample - loss: 79.3189 - mse: 79.3189\n",
      "Epoch 48/100\n",
      "404/404 [==============================] - 0s 62us/sample - loss: 79.1597 - mse: 79.1597\n",
      "Epoch 49/100\n",
      "404/404 [==============================] - 0s 56us/sample - loss: 78.2788 - mse: 78.2788\n",
      "Epoch 50/100\n",
      "404/404 [==============================] - 0s 56us/sample - loss: 79.0529 - mse: 79.0530\n",
      "Epoch 51/100\n",
      "404/404 [==============================] - 0s 70us/sample - loss: 77.9707 - mse: 77.9707\n",
      "Epoch 52/100\n",
      "404/404 [==============================] - 0s 93us/sample - loss: 77.5849 - mse: 77.5849\n",
      "Epoch 53/100\n",
      "404/404 [==============================] - 0s 88us/sample - loss: 78.0965 - mse: 78.0965\n",
      "Epoch 54/100\n",
      "404/404 [==============================] - 0s 52us/sample - loss: 78.2456 - mse: 78.2456\n",
      "Epoch 55/100\n",
      "404/404 [==============================] - 0s 65us/sample - loss: 79.2623 - mse: 79.2623\n",
      "Epoch 56/100\n",
      "404/404 [==============================] - 0s 47us/sample - loss: 79.1784 - mse: 79.1784\n",
      "Epoch 57/100\n",
      "404/404 [==============================] - 0s 52us/sample - loss: 78.1220 - mse: 78.1220\n",
      "Epoch 58/100\n",
      "404/404 [==============================] - 0s 60us/sample - loss: 77.6840 - mse: 77.6840\n",
      "Epoch 59/100\n",
      "404/404 [==============================] - 0s 61us/sample - loss: 77.6569 - mse: 77.6569\n",
      "Epoch 60/100\n",
      "404/404 [==============================] - 0s 43us/sample - loss: 77.5094 - mse: 77.5094\n",
      "Epoch 61/100\n",
      "404/404 [==============================] - 0s 46us/sample - loss: 77.4735 - mse: 77.4735\n",
      "Epoch 62/100\n",
      "404/404 [==============================] - 0s 43us/sample - loss: 78.8837 - mse: 78.8837\n",
      "Epoch 63/100\n",
      "404/404 [==============================] - 0s 36us/sample - loss: 77.1736 - mse: 77.1736\n",
      "Epoch 64/100\n",
      "404/404 [==============================] - 0s 37us/sample - loss: 78.5169 - mse: 78.5169\n",
      "Epoch 65/100\n",
      "404/404 [==============================] - 0s 40us/sample - loss: 77.4512 - mse: 77.4512\n",
      "Epoch 66/100\n",
      "404/404 [==============================] - 0s 47us/sample - loss: 77.3881 - mse: 77.3881\n",
      "Epoch 67/100\n",
      "404/404 [==============================] - 0s 39us/sample - loss: 77.9785 - mse: 77.9785\n",
      "Epoch 68/100\n",
      "404/404 [==============================] - 0s 44us/sample - loss: 77.4714 - mse: 77.4714\n",
      "Epoch 69/100\n",
      "404/404 [==============================] - 0s 48us/sample - loss: 77.3733 - mse: 77.3733\n",
      "Epoch 70/100\n",
      "404/404 [==============================] - 0s 46us/sample - loss: 77.6528 - mse: 77.6528\n",
      "Epoch 71/100\n",
      "404/404 [==============================] - 0s 49us/sample - loss: 77.3107 - mse: 77.3107\n",
      "Epoch 72/100\n",
      "404/404 [==============================] - 0s 45us/sample - loss: 78.9830 - mse: 78.9830\n",
      "Epoch 73/100\n",
      "404/404 [==============================] - 0s 43us/sample - loss: 77.3188 - mse: 77.3188\n",
      "Epoch 74/100\n",
      "404/404 [==============================] - 0s 34us/sample - loss: 78.3565 - mse: 78.3565\n",
      "Epoch 75/100\n",
      "404/404 [==============================] - 0s 42us/sample - loss: 79.5602 - mse: 79.5602\n",
      "Epoch 76/100\n",
      "404/404 [==============================] - 0s 38us/sample - loss: 77.6957 - mse: 77.6957\n",
      "Epoch 77/100\n",
      "404/404 [==============================] - 0s 33us/sample - loss: 78.0276 - mse: 78.0276\n",
      "Epoch 78/100\n",
      "404/404 [==============================] - 0s 41us/sample - loss: 77.5121 - mse: 77.5121\n",
      "Epoch 79/100\n",
      "404/404 [==============================] - 0s 37us/sample - loss: 77.3640 - mse: 77.3640\n",
      "Epoch 80/100\n",
      "404/404 [==============================] - 0s 38us/sample - loss: 76.9276 - mse: 76.9276\n",
      "Epoch 81/100\n"
     ]
    },
    {
     "name": "stdout",
     "output_type": "stream",
     "text": [
      "404/404 [==============================] - 0s 53us/sample - loss: 77.6393 - mse: 77.6393\n",
      "Epoch 82/100\n",
      "404/404 [==============================] - 0s 42us/sample - loss: 77.4259 - mse: 77.4259\n",
      "Epoch 83/100\n",
      "404/404 [==============================] - 0s 41us/sample - loss: 77.4949 - mse: 77.4949\n",
      "Epoch 84/100\n",
      "404/404 [==============================] - 0s 47us/sample - loss: 77.3322 - mse: 77.3322\n",
      "Epoch 85/100\n",
      "404/404 [==============================] - 0s 39us/sample - loss: 77.4082 - mse: 77.4082\n",
      "Epoch 86/100\n",
      "404/404 [==============================] - 0s 53us/sample - loss: 77.2768 - mse: 77.2768\n",
      "Epoch 87/100\n",
      "404/404 [==============================] - 0s 44us/sample - loss: 77.3745 - mse: 77.3745\n",
      "Epoch 88/100\n",
      "404/404 [==============================] - 0s 49us/sample - loss: 77.2202 - mse: 77.2203\n",
      "Epoch 89/100\n",
      "404/404 [==============================] - 0s 35us/sample - loss: 77.5726 - mse: 77.5726\n",
      "Epoch 90/100\n",
      "404/404 [==============================] - 0s 41us/sample - loss: 78.1099 - mse: 78.1099\n",
      "Epoch 91/100\n",
      "404/404 [==============================] - 0s 39us/sample - loss: 78.0194 - mse: 78.0194\n",
      "Epoch 92/100\n",
      "404/404 [==============================] - 0s 40us/sample - loss: 78.2259 - mse: 78.2259\n",
      "Epoch 93/100\n",
      "404/404 [==============================] - 0s 40us/sample - loss: 77.3382 - mse: 77.3382\n",
      "Epoch 94/100\n",
      "404/404 [==============================] - 0s 43us/sample - loss: 77.1060 - mse: 77.1060\n",
      "Epoch 95/100\n",
      "404/404 [==============================] - 0s 49us/sample - loss: 77.2610 - mse: 77.2610\n",
      "Epoch 96/100\n",
      "404/404 [==============================] - 0s 38us/sample - loss: 77.2613 - mse: 77.2613\n",
      "Epoch 97/100\n",
      "404/404 [==============================] - 0s 45us/sample - loss: 77.3706 - mse: 77.3706\n",
      "Epoch 98/100\n",
      "404/404 [==============================] - 0s 63us/sample - loss: 78.3441 - mse: 78.3441\n",
      "Epoch 99/100\n",
      "404/404 [==============================] - 0s 43us/sample - loss: 77.5374 - mse: 77.5374\n",
      "Epoch 100/100\n",
      "404/404 [==============================] - 0s 55us/sample - loss: 77.5204 - mse: 77.5204\n"
     ]
    },
    {
     "data": {
      "text/plain": [
       "<tensorflow.python.keras.callbacks.History at 0x13d563550>"
      ]
     },
     "execution_count": 9,
     "metadata": {},
     "output_type": "execute_result"
    }
   ],
   "source": [
    "model.fit(X_train, y_train, batch_size=50, epochs=100, verbose=1)"
   ]
  },
  {
   "cell_type": "markdown",
   "metadata": {},
   "source": [
    "#### - Model Evaluate\n",
    "metrics: https://keras.io/metrics/"
   ]
  },
  {
   "cell_type": "code",
   "execution_count": 10,
   "metadata": {},
   "outputs": [
    {
     "name": "stdout",
     "output_type": "stream",
     "text": [
      "\r",
      "102/1 [====================================================================================================================================================================================================================================================================================================================================================================================================================================================================================================================================================================================================================================================================================================================================================================================================================================================================================================================================================================================================================================================================================================================================================================================================================================================================================================================================================================================================================================================================================================================================================================================================================================================================================================================================================================================================================================================================================================================================================================================================================================================================================================================================================================================================================================================================================================================================================================================================================================================================================================================================================================================================================================================================================================================================================================================================================================================================================================================================================================================================================================================================================================================================================================================] - 0s 947us/sample - loss: 118.5875 - mse: 77.9206\n"
     ]
    }
   ],
   "source": [
    "results = model.evaluate(X_test, y_test)"
   ]
  },
  {
   "cell_type": "code",
   "execution_count": 11,
   "metadata": {},
   "outputs": [
    {
     "name": "stdout",
     "output_type": "stream",
     "text": [
      "['loss', 'mse']\n",
      "[77.92059565525429, 77.92059]\n"
     ]
    }
   ],
   "source": [
    "print(model.metrics_names)     # list of metric names the model is employing\n",
    "print(results)                 # actual figure of metrics computed"
   ]
  },
  {
   "cell_type": "code",
   "execution_count": 12,
   "metadata": {},
   "outputs": [
    {
     "name": "stdout",
     "output_type": "stream",
     "text": [
      "loss:  77.92059565525429\n",
      "mse:  77.92059\n"
     ]
    }
   ],
   "source": [
    "print('loss: ', results[0])\n",
    "print('mse: ', results[1])"
   ]
  },
  {
   "cell_type": "markdown",
   "metadata": {},
   "source": [
    "#### Clear the model (if needed)"
   ]
  },
  {
   "cell_type": "code",
   "execution_count": 13,
   "metadata": {},
   "outputs": [],
   "source": [
    "tf.keras.backend.clear_session()"
   ]
  },
  {
   "cell_type": "code",
   "execution_count": null,
   "metadata": {},
   "outputs": [],
   "source": []
  },
  {
   "cell_type": "markdown",
   "metadata": {},
   "source": [
    "## 1.2 MLP for Classification Task (Breast Cancer)\n",
    "- When the target (**y**) is discrete (categorical)\n",
    "- For loss function, cross-entropy is used and for evaluation metric, accuracy is commonly used"
   ]
  },
  {
   "cell_type": "code",
   "execution_count": 14,
   "metadata": {},
   "outputs": [],
   "source": [
    "import tensorflow as tf\n",
    "from tensorflow.keras.models import Sequential\n",
    "from tensorflow.keras.layers import Dense, Activation, BatchNormalization, Dropout\n",
    "from tensorflow.keras import optimizers\n",
    "\n",
    "from sklearn.model_selection import train_test_split"
   ]
  },
  {
   "cell_type": "markdown",
   "metadata": {},
   "source": [
    "### Dataset\n",
    "- Breast cancer dataset has total 569 data instances (212 malign, 357 benign instances)\n",
    "- 30 attributes (features) to predict the binary class (M/B)\n",
    "- Doc: http://scikit-learn.org/stable/modules/generated/sklearn.datasets.load_breast_cancer.html#sklearn.datasets.load_breast_cancer"
   ]
  },
  {
   "cell_type": "code",
   "execution_count": 15,
   "metadata": {},
   "outputs": [
    {
     "name": "stderr",
     "output_type": "stream",
     "text": [
      "/anaconda3/lib/python3.6/importlib/_bootstrap.py:219: RuntimeWarning: numpy.ufunc size changed, may indicate binary incompatibility. Expected 216, got 192\n",
      "  return f(*args, **kwds)\n"
     ]
    }
   ],
   "source": [
    "from sklearn.datasets import load_breast_cancer"
   ]
  },
  {
   "cell_type": "code",
   "execution_count": 16,
   "metadata": {},
   "outputs": [],
   "source": [
    "breast_cancer_data = load_breast_cancer()"
   ]
  },
  {
   "cell_type": "code",
   "execution_count": 17,
   "metadata": {},
   "outputs": [],
   "source": [
    "X_data = breast_cancer_data.data\n",
    "y_data = breast_cancer_data.target"
   ]
  },
  {
   "cell_type": "code",
   "execution_count": 18,
   "metadata": {},
   "outputs": [],
   "source": [
    "X_train, X_test, y_train, y_test = train_test_split(X_data, y_data, test_size = 0.3, random_state = 7)"
   ]
  },
  {
   "cell_type": "code",
   "execution_count": 19,
   "metadata": {},
   "outputs": [
    {
     "name": "stdout",
     "output_type": "stream",
     "text": [
      "(398, 30)\n",
      "(398,)\n",
      "(171, 30)\n",
      "(171,)\n"
     ]
    }
   ],
   "source": [
    "print (X_train.shape)\n",
    "print(y_train.shape)\n",
    "print(X_test.shape)\n",
    "print(y_test.shape)"
   ]
  },
  {
   "cell_type": "markdown",
   "metadata": {},
   "source": [
    "### Model"
   ]
  },
  {
   "cell_type": "code",
   "execution_count": 23,
   "metadata": {},
   "outputs": [],
   "source": [
    "model =Sequential()"
   ]
  },
  {
   "cell_type": "code",
   "execution_count": 24,
   "metadata": {},
   "outputs": [],
   "source": [
    "model.add(Dense(10, input_shape=(30,)))\n",
    "model.add(Activation('relu'))\n",
    "model.add(Dense(10))\n",
    "model.add(Activation('relu'))\n",
    "model.add(Dense(10))\n",
    "model.add(Activation('relu'))\n",
    "model.add(Dense(1))\n",
    "model.add(Activation('sigmoid'))"
   ]
  },
  {
   "cell_type": "code",
   "execution_count": 25,
   "metadata": {},
   "outputs": [],
   "source": [
    "sgd=optimizers.SGD(learning_rate=0.01, momentum=0.0)\n",
    "model.compile(optimizer=sgd, loss='binary_crossentropy', metrics=['acc'])"
   ]
  },
  {
   "cell_type": "code",
   "execution_count": 26,
   "metadata": {},
   "outputs": [
    {
     "name": "stdout",
     "output_type": "stream",
     "text": [
      "Model: \"sequential_2\"\n",
      "_________________________________________________________________\n",
      "Layer (type)                 Output Shape              Param #   \n",
      "=================================================================\n",
      "dense_1 (Dense)              (None, 10)                310       \n",
      "_________________________________________________________________\n",
      "activation_1 (Activation)    (None, 10)                0         \n",
      "_________________________________________________________________\n",
      "dense_2 (Dense)              (None, 10)                110       \n",
      "_________________________________________________________________\n",
      "activation_2 (Activation)    (None, 10)                0         \n",
      "_________________________________________________________________\n",
      "dense_3 (Dense)              (None, 10)                110       \n",
      "_________________________________________________________________\n",
      "activation_3 (Activation)    (None, 10)                0         \n",
      "_________________________________________________________________\n",
      "dense_4 (Dense)              (None, 1)                 11        \n",
      "_________________________________________________________________\n",
      "activation_4 (Activation)    (None, 1)                 0         \n",
      "=================================================================\n",
      "Total params: 541\n",
      "Trainable params: 541\n",
      "Non-trainable params: 0\n",
      "_________________________________________________________________\n"
     ]
    }
   ],
   "source": [
    "model.summary()"
   ]
  },
  {
   "cell_type": "code",
   "execution_count": 27,
   "metadata": {},
   "outputs": [
    {
     "name": "stdout",
     "output_type": "stream",
     "text": [
      "Train on 398 samples\n",
      "Epoch 1/100\n",
      "398/398 [==============================] - 1s 2ms/sample - loss: 13.5667 - acc: 0.5804\n",
      "Epoch 2/100\n",
      "398/398 [==============================] - 0s 139us/sample - loss: 0.6864 - acc: 0.6055\n",
      "Epoch 3/100\n",
      "398/398 [==============================] - 0s 99us/sample - loss: 0.6831 - acc: 0.6055\n",
      "Epoch 4/100\n",
      "398/398 [==============================] - 0s 98us/sample - loss: 0.6805 - acc: 0.6055\n",
      "Epoch 5/100\n",
      "398/398 [==============================] - 0s 116us/sample - loss: 0.6784 - acc: 0.6055\n",
      "Epoch 6/100\n",
      "398/398 [==============================] - 0s 147us/sample - loss: 0.6764 - acc: 0.6055\n",
      "Epoch 7/100\n",
      "398/398 [==============================] - ETA: 0s - loss: 0.6697 - acc: 0.633 - 0s 124us/sample - loss: 0.6755 - acc: 0.6055\n",
      "Epoch 8/100\n",
      "398/398 [==============================] - 0s 163us/sample - loss: 0.6745 - acc: 0.6055\n",
      "Epoch 9/100\n",
      "398/398 [==============================] - 0s 151us/sample - loss: 0.6735 - acc: 0.6055\n",
      "Epoch 10/100\n",
      "398/398 [==============================] - 0s 101us/sample - loss: 0.6732 - acc: 0.6055\n",
      "Epoch 11/100\n",
      "398/398 [==============================] - 0s 98us/sample - loss: 0.6727 - acc: 0.6055\n",
      "Epoch 12/100\n",
      "398/398 [==============================] - 0s 98us/sample - loss: 0.6723 - acc: 0.6055\n",
      "Epoch 13/100\n",
      "398/398 [==============================] - 0s 103us/sample - loss: 0.6720 - acc: 0.6055\n",
      "Epoch 14/100\n",
      "398/398 [==============================] - 0s 132us/sample - loss: 0.6717 - acc: 0.6055\n",
      "Epoch 15/100\n",
      "398/398 [==============================] - 0s 101us/sample - loss: 0.6716 - acc: 0.6055\n",
      "Epoch 16/100\n",
      "398/398 [==============================] - 0s 118us/sample - loss: 0.6714 - acc: 0.6055\n",
      "Epoch 17/100\n",
      "398/398 [==============================] - 0s 81us/sample - loss: 0.6712 - acc: 0.6055\n",
      "Epoch 18/100\n",
      "398/398 [==============================] - 0s 128us/sample - loss: 0.6711 - acc: 0.6055\n",
      "Epoch 19/100\n",
      "398/398 [==============================] - 0s 138us/sample - loss: 0.6712 - acc: 0.6055\n",
      "Epoch 20/100\n",
      "398/398 [==============================] - 0s 86us/sample - loss: 0.6712 - acc: 0.6055\n",
      "Epoch 21/100\n",
      "398/398 [==============================] - 0s 102us/sample - loss: 0.6711 - acc: 0.6055\n",
      "Epoch 22/100\n",
      "398/398 [==============================] - 0s 99us/sample - loss: 0.6711 - acc: 0.6055\n",
      "Epoch 23/100\n",
      "398/398 [==============================] - 0s 198us/sample - loss: 0.6710 - acc: 0.6055\n",
      "Epoch 24/100\n",
      "398/398 [==============================] - 0s 132us/sample - loss: 0.6709 - acc: 0.6055\n",
      "Epoch 25/100\n",
      "398/398 [==============================] - 0s 102us/sample - loss: 0.6710 - acc: 0.6055\n",
      "Epoch 26/100\n",
      "398/398 [==============================] - 0s 106us/sample - loss: 0.6709 - acc: 0.6055\n",
      "Epoch 27/100\n",
      "398/398 [==============================] - 0s 105us/sample - loss: 0.6709 - acc: 0.6055\n",
      "Epoch 28/100\n",
      "398/398 [==============================] - 0s 120us/sample - loss: 0.6708 - acc: 0.6055\n",
      "Epoch 29/100\n",
      "398/398 [==============================] - 0s 130us/sample - loss: 0.6708 - acc: 0.6055\n",
      "Epoch 30/100\n",
      "398/398 [==============================] - 0s 114us/sample - loss: 0.6708 - acc: 0.6055\n",
      "Epoch 31/100\n",
      "398/398 [==============================] - 0s 100us/sample - loss: 0.6708 - acc: 0.6055\n",
      "Epoch 32/100\n",
      "398/398 [==============================] - 0s 93us/sample - loss: 0.6708 - acc: 0.6055\n",
      "Epoch 33/100\n",
      "398/398 [==============================] - 0s 111us/sample - loss: 0.6709 - acc: 0.6055\n",
      "Epoch 34/100\n",
      "398/398 [==============================] - 0s 128us/sample - loss: 0.6708 - acc: 0.6055\n",
      "Epoch 35/100\n",
      "398/398 [==============================] - 0s 133us/sample - loss: 0.6709 - acc: 0.6055\n",
      "Epoch 36/100\n",
      "398/398 [==============================] - 0s 152us/sample - loss: 0.6709 - acc: 0.6055\n",
      "Epoch 37/100\n",
      "398/398 [==============================] - 0s 130us/sample - loss: 0.6710 - acc: 0.6055\n",
      "Epoch 38/100\n",
      "398/398 [==============================] - 0s 155us/sample - loss: 0.6708 - acc: 0.6055\n",
      "Epoch 39/100\n",
      "398/398 [==============================] - 0s 127us/sample - loss: 0.6708 - acc: 0.6055\n",
      "Epoch 40/100\n",
      "398/398 [==============================] - 0s 181us/sample - loss: 0.6708 - acc: 0.6055\n",
      "Epoch 41/100\n",
      "398/398 [==============================] - 0s 98us/sample - loss: 0.6709 - acc: 0.6055\n",
      "Epoch 42/100\n",
      "398/398 [==============================] - 0s 145us/sample - loss: 0.6708 - acc: 0.6055\n",
      "Epoch 43/100\n",
      "398/398 [==============================] - 0s 93us/sample - loss: 0.6708 - acc: 0.6055\n",
      "Epoch 44/100\n",
      "398/398 [==============================] - ETA: 0s - loss: 0.6587 - acc: 0.633 - 0s 155us/sample - loss: 0.6709 - acc: 0.6055\n",
      "Epoch 45/100\n",
      "398/398 [==============================] - 0s 266us/sample - loss: 0.6708 - acc: 0.6055\n",
      "Epoch 46/100\n",
      "398/398 [==============================] - 0s 99us/sample - loss: 0.6708 - acc: 0.6055\n",
      "Epoch 47/100\n",
      "398/398 [==============================] - 0s 110us/sample - loss: 0.6709 - acc: 0.6055\n",
      "Epoch 48/100\n",
      "398/398 [==============================] - 0s 124us/sample - loss: 0.6708 - acc: 0.6055\n",
      "Epoch 49/100\n",
      "398/398 [==============================] - 0s 209us/sample - loss: 0.6709 - acc: 0.6055\n",
      "Epoch 50/100\n",
      "398/398 [==============================] - 0s 98us/sample - loss: 0.6708 - acc: 0.6055\n",
      "Epoch 51/100\n",
      "398/398 [==============================] - 0s 132us/sample - loss: 0.6709 - acc: 0.6055\n",
      "Epoch 52/100\n",
      "398/398 [==============================] - 0s 85us/sample - loss: 0.6710 - acc: 0.6055\n",
      "Epoch 53/100\n",
      "398/398 [==============================] - 0s 79us/sample - loss: 0.6708 - acc: 0.6055\n",
      "Epoch 54/100\n",
      "398/398 [==============================] - 0s 123us/sample - loss: 0.6708 - acc: 0.6055\n",
      "Epoch 55/100\n",
      "398/398 [==============================] - 0s 99us/sample - loss: 0.6707 - acc: 0.6055\n",
      "Epoch 56/100\n",
      "398/398 [==============================] - 0s 110us/sample - loss: 0.6708 - acc: 0.6055\n",
      "Epoch 57/100\n",
      "398/398 [==============================] - 0s 121us/sample - loss: 0.6709 - acc: 0.6055\n",
      "Epoch 58/100\n",
      "398/398 [==============================] - 0s 101us/sample - loss: 0.6709 - acc: 0.6055\n",
      "Epoch 59/100\n",
      "398/398 [==============================] - 0s 114us/sample - loss: 0.6708 - acc: 0.6055\n",
      "Epoch 60/100\n",
      "398/398 [==============================] - 0s 85us/sample - loss: 0.6709 - acc: 0.6055\n",
      "Epoch 61/100\n",
      "398/398 [==============================] - 0s 112us/sample - loss: 0.6709 - acc: 0.6055\n",
      "Epoch 62/100\n",
      "398/398 [==============================] - 0s 68us/sample - loss: 0.6708 - acc: 0.6055\n",
      "Epoch 63/100\n",
      "398/398 [==============================] - 0s 127us/sample - loss: 0.6708 - acc: 0.6055\n",
      "Epoch 64/100\n",
      "398/398 [==============================] - 0s 108us/sample - loss: 0.6708 - acc: 0.6055\n",
      "Epoch 65/100\n",
      "398/398 [==============================] - 0s 106us/sample - loss: 0.6709 - acc: 0.6055\n",
      "Epoch 66/100\n",
      "398/398 [==============================] - 0s 102us/sample - loss: 0.6709 - acc: 0.6055\n",
      "Epoch 67/100\n",
      "398/398 [==============================] - 0s 114us/sample - loss: 0.6708 - acc: 0.6055\n",
      "Epoch 68/100\n",
      "398/398 [==============================] - 0s 94us/sample - loss: 0.6708 - acc: 0.6055\n",
      "Epoch 69/100\n",
      "398/398 [==============================] - 0s 88us/sample - loss: 0.6709 - acc: 0.6055\n",
      "Epoch 70/100\n",
      "398/398 [==============================] - 0s 98us/sample - loss: 0.6709 - acc: 0.6055\n",
      "Epoch 71/100\n",
      "398/398 [==============================] - 0s 101us/sample - loss: 0.6708 - acc: 0.6055\n",
      "Epoch 72/100\n",
      "398/398 [==============================] - 0s 87us/sample - loss: 0.6708 - acc: 0.6055\n",
      "Epoch 73/100\n",
      "398/398 [==============================] - 0s 90us/sample - loss: 0.6708 - acc: 0.6055\n",
      "Epoch 74/100\n",
      "398/398 [==============================] - 0s 97us/sample - loss: 0.6708 - acc: 0.6055\n",
      "Epoch 75/100\n",
      "398/398 [==============================] - 0s 132us/sample - loss: 0.6708 - acc: 0.6055\n",
      "Epoch 76/100\n",
      "398/398 [==============================] - 0s 102us/sample - loss: 0.6708 - acc: 0.6055\n",
      "Epoch 77/100\n",
      "398/398 [==============================] - 0s 96us/sample - loss: 0.6707 - acc: 0.6055\n",
      "Epoch 78/100\n",
      "398/398 [==============================] - 0s 126us/sample - loss: 0.6708 - acc: 0.6055\n",
      "Epoch 79/100\n",
      "398/398 [==============================] - 0s 121us/sample - loss: 0.6708 - acc: 0.6055\n",
      "Epoch 80/100\n",
      "398/398 [==============================] - 0s 87us/sample - loss: 0.6708 - acc: 0.6055\n",
      "Epoch 81/100\n"
     ]
    },
    {
     "name": "stdout",
     "output_type": "stream",
     "text": [
      "398/398 [==============================] - 0s 81us/sample - loss: 0.6708 - acc: 0.6055\n",
      "Epoch 82/100\n",
      "398/398 [==============================] - 0s 88us/sample - loss: 0.6708 - acc: 0.6055\n",
      "Epoch 83/100\n",
      "398/398 [==============================] - 0s 72us/sample - loss: 0.6708 - acc: 0.6055\n",
      "Epoch 84/100\n",
      "398/398 [==============================] - 0s 73us/sample - loss: 0.6709 - acc: 0.6055\n",
      "Epoch 85/100\n",
      "398/398 [==============================] - 0s 68us/sample - loss: 0.6708 - acc: 0.6055\n",
      "Epoch 86/100\n",
      "398/398 [==============================] - 0s 67us/sample - loss: 0.6709 - acc: 0.6055\n",
      "Epoch 87/100\n",
      "398/398 [==============================] - 0s 75us/sample - loss: 0.6709 - acc: 0.6055\n",
      "Epoch 88/100\n",
      "398/398 [==============================] - 0s 86us/sample - loss: 0.6708 - acc: 0.6055\n",
      "Epoch 89/100\n",
      "398/398 [==============================] - 0s 73us/sample - loss: 0.6709 - acc: 0.6055\n",
      "Epoch 90/100\n",
      "398/398 [==============================] - 0s 80us/sample - loss: 0.6708 - acc: 0.6055\n",
      "Epoch 91/100\n",
      "398/398 [==============================] - 0s 86us/sample - loss: 0.6708 - acc: 0.6055\n",
      "Epoch 92/100\n",
      "398/398 [==============================] - 0s 84us/sample - loss: 0.6708 - acc: 0.6055\n",
      "Epoch 93/100\n",
      "398/398 [==============================] - 0s 89us/sample - loss: 0.6709 - acc: 0.6055\n",
      "Epoch 94/100\n",
      "398/398 [==============================] - 0s 113us/sample - loss: 0.6708 - acc: 0.6055\n",
      "Epoch 95/100\n",
      "398/398 [==============================] - 0s 71us/sample - loss: 0.6708 - acc: 0.6055\n",
      "Epoch 96/100\n",
      "398/398 [==============================] - 0s 69us/sample - loss: 0.6709 - acc: 0.6055\n",
      "Epoch 97/100\n",
      "398/398 [==============================] - 0s 72us/sample - loss: 0.6708 - acc: 0.6055\n",
      "Epoch 98/100\n",
      "398/398 [==============================] - 0s 66us/sample - loss: 0.6708 - acc: 0.6055\n",
      "Epoch 99/100\n",
      "398/398 [==============================] - 0s 67us/sample - loss: 0.6708 - acc: 0.6055\n",
      "Epoch 100/100\n",
      "398/398 [==============================] - 0s 71us/sample - loss: 0.6708 - acc: 0.6055\n"
     ]
    },
    {
     "data": {
      "text/plain": [
       "<tensorflow.python.keras.callbacks.History at 0x13e9c5ba8>"
      ]
     },
     "execution_count": 27,
     "metadata": {},
     "output_type": "execute_result"
    }
   ],
   "source": [
    "model.fit(X_train, y_train, batch_size=30, epochs=100, verbose=1)"
   ]
  },
  {
   "cell_type": "code",
   "execution_count": 28,
   "metadata": {},
   "outputs": [
    {
     "name": "stdout",
     "output_type": "stream",
     "text": [
      "\r",
      "171/1 [==========================================================================================================================================================================================================================================================================================================================================================================================================================================================================================================================================================================================================================================================================================================================================================================================================================================================================================================================================================================================================================================================================================================================================================================================================================================================================================================================================================================================================================================================================================================================================================================================================================================================================================================================================================================================================================================================================================================================================================================================================================================================================================================================================================================================================================================================================================================================================================================================================================================================================================================================================================================================================================================================================================================================================================================================================================================================================================================================================================================================================================================================================================================================================================================================================================================================================================================================================================================================================================================================================================================================================================================================================================================================================================================================================================================================================================================================================================================================================================================================================================================================================================================================================================================================================================================================================================================================================================================================================================================================================================================================================================================================================================================================================================================================================================================================================================================================================================================================================================================================================================================================================================================================================================================================================================================================================================================================================] - 0s 531us/sample - loss: 0.6482 - acc: 0.6784\n"
     ]
    }
   ],
   "source": [
    "results = model.evaluate(X_test, y_test)"
   ]
  },
  {
   "cell_type": "code",
   "execution_count": 29,
   "metadata": {},
   "outputs": [
    {
     "data": {
      "text/plain": [
       "['loss', 'acc']"
      ]
     },
     "execution_count": 29,
     "metadata": {},
     "output_type": "execute_result"
    }
   ],
   "source": [
    "model.metrics_names"
   ]
  },
  {
   "cell_type": "code",
   "execution_count": 32,
   "metadata": {},
   "outputs": [
    {
     "data": {
      "text/plain": [
       "[0.6390235424041748, 0.67836255]"
      ]
     },
     "execution_count": 32,
     "metadata": {},
     "output_type": "execute_result"
    }
   ],
   "source": [
    "results"
   ]
  },
  {
   "cell_type": "code",
   "execution_count": null,
   "metadata": {},
   "outputs": [],
   "source": []
  },
  {
   "cell_type": "code",
   "execution_count": 33,
   "metadata": {},
   "outputs": [],
   "source": [
    "tf.keras.backend.clear_session()"
   ]
  },
  {
   "cell_type": "code",
   "execution_count": null,
   "metadata": {},
   "outputs": [],
   "source": []
  },
  {
   "cell_type": "markdown",
   "metadata": {},
   "source": [
    "## 1.3 MLP Advanced - MNIST\n",
    "\n",
    "- Weight Initialization\n",
    "- Nonlinearity (Activation function)\n",
    "- Optimizers\n",
    "- Batch Normalization\n",
    "- Dropout (Regularization)\n",
    "- Model Ensemble"
   ]
  },
  {
   "cell_type": "markdown",
   "metadata": {},
   "source": [
    "### Dataset\n",
    "- MNIST: http://yann.lecun.com/exdb/mnist/"
   ]
  },
  {
   "cell_type": "markdown",
   "metadata": {},
   "source": []
  },
  {
   "cell_type": "code",
   "execution_count": 1,
   "metadata": {},
   "outputs": [],
   "source": [
    "from tensorflow.keras.datasets import reuters"
   ]
  },
  {
   "cell_type": "code",
   "execution_count": null,
   "metadata": {},
   "outputs": [],
   "source": []
  }
 ],
 "metadata": {
  "kernelspec": {
   "display_name": "Python 3",
   "language": "python",
   "name": "python3"
  },
  "language_info": {
   "codemirror_mode": {
    "name": "ipython",
    "version": 3
   },
   "file_extension": ".py",
   "mimetype": "text/x-python",
   "name": "python",
   "nbconvert_exporter": "python",
   "pygments_lexer": "ipython3",
   "version": "3.6.8"
  }
 },
 "nbformat": 4,
 "nbformat_minor": 2
}
