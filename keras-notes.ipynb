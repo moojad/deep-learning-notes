{
 "cells": [
  {
   "cell_type": "markdown",
   "metadata": {},
   "source": [
    "# 1. MLP Basics\n",
    "Vanilla neural networks (i.e., Multilayer perceptrons)"
   ]
  },
  {
   "cell_type": "markdown",
   "metadata": {},
   "source": [
    "models: https://keras.io/models/sequential/\n",
    "layers: https://keras.io/layers/core/\n",
    "optimizers: https://keras.io/optimizers/\n",
    "losses: https://keras.io/losses/\n",
    "metrics: https://keras.io/metrics/\n",
    "weight initilization: https://keras.io/initializers/\n",
    "activation functions: https://keras.io/activations/\n",
    "dropout: https://keras.io/layers/core/#dropout\n",
    "normalization: https://keras.io/layers/normalization/\n"
   ]
  },
  {
   "cell_type": "markdown",
   "metadata": {},
   "source": [
    "#### MLP Structures\n",
    "- Each MLP model is consisted of one input layer, several hidden layers, and one output layer\n",
    "- Number of neurons in each layer is not limited\n",
    "<img src=\"http://cs231n.github.io/assets/nn1/neural_net.jpeg\" style=\"width: 300px\"/>\n",
    "<br>\n",
    "<center>**MLP with one hidden layer**</center>\n",
    "- Number of input neurons: 3\n",
    "- Number of hidden neurons: 4\n",
    "- Number of output neurons: 2\n"
   ]
  },
  {
   "cell_type": "markdown",
   "metadata": {},
   "source": [
    "## 1.1. Regression Task (Boston Housing Prices)\n",
    "- When the target (**y**) is continuous (real)\n",
    "- For loss function and evaluation metric, mean squared error (MSE) is commonly used"
   ]
  },
  {
   "cell_type": "code",
   "execution_count": 1,
   "metadata": {},
   "outputs": [],
   "source": [
    "import tensorflow as tf\n",
    "from tensorflow.keras.models import Sequential\n",
    "from tensorflow.keras.layers import Dense, Activation, BatchNormalization, Dropout\n",
    "from tensorflow.keras import optimizers\n",
    "\n",
    "from sklearn.model_selection import train_test_split"
   ]
  },
  {
   "cell_type": "markdown",
   "metadata": {},
   "source": [
    "### Dataset\n",
    "- Boston housing dataset has total 506 data instances (404 training & 102 test)\n",
    "- 13 attributes (features) to predict \"the median values of the houses at a location\"\n",
    "- Doc: https://keras.io/datasets/"
   ]
  },
  {
   "cell_type": "code",
   "execution_count": 2,
   "metadata": {},
   "outputs": [],
   "source": [
    "from tensorflow.keras.datasets import boston_housing"
   ]
  },
  {
   "cell_type": "code",
   "execution_count": 3,
   "metadata": {},
   "outputs": [],
   "source": [
    "(X_train, y_train),(X_test, y_test) = boston_housing.load_data()"
   ]
  },
  {
   "cell_type": "code",
   "execution_count": 4,
   "metadata": {},
   "outputs": [
    {
     "name": "stdout",
     "output_type": "stream",
     "text": [
      "(404, 13)\n",
      "(404,)\n",
      "(102, 13)\n",
      "(102,)\n"
     ]
    }
   ],
   "source": [
    "print (X_train.shape)\n",
    "print(y_train.shape)\n",
    "print(X_test.shape)\n",
    "print(y_test.shape)"
   ]
  },
  {
   "cell_type": "markdown",
   "metadata": {},
   "source": [
    "### Model\n",
    "models: https://keras.io/models/sequential/ "
   ]
  },
  {
   "cell_type": "code",
   "execution_count": 5,
   "metadata": {},
   "outputs": [],
   "source": [
    "model = Sequential()"
   ]
  },
  {
   "cell_type": "markdown",
   "metadata": {},
   "source": [
    "#### - Model Layers\n",
    "layers: https://keras.io/layers/core/ weight initilization: https://keras.io/initializers/ activation functions: https://keras.io/activations/ dropout: https://keras.io/layers/core/#dropout"
   ]
  },
  {
   "cell_type": "code",
   "execution_count": 6,
   "metadata": {},
   "outputs": [],
   "source": [
    "# Keras model with two hidden layer with 10 neurons each\n",
    "model.add(Dense(10, input_shape=(13,)))   # Input layer => input_shape should be explicitly designated\n",
    "model.add(Activation('sigmoid'))\n",
    "\n",
    "model.add(Dense(10))                      # Hidden layer => only output dimension should be designated\n",
    "model.add(Activation('sigmoid'))\n",
    "\n",
    "model.add(Dense(10))                      # Hidden layer => only output dimension should be designated\n",
    "model.add(Activation('sigmoid'))\n",
    "\n",
    "model.add(Dense(1))                       # Output layer => output dimension = 1 since it is regression problem"
   ]
  },
  {
   "cell_type": "markdown",
   "metadata": {},
   "source": [
    "#### - Model Compile (with optimizer)\n",
    "optimizers: https://keras.io/optimizers/ \n",
    "losses: https://keras.io/losses/\n",
    "metrics: https://keras.io/metrics/"
   ]
  },
  {
   "cell_type": "code",
   "execution_count": 7,
   "metadata": {},
   "outputs": [],
   "source": [
    "sgd = optimizers.SGD(learning_rate=0.01, momentum=0.0)\n",
    "model.compile(optimizer=sgd, loss='mean_squared_error', metrics=['mse'])  # for regression problems, mean squared error (MSE) is often employed\n",
    "\n"
   ]
  },
  {
   "cell_type": "code",
   "execution_count": 8,
   "metadata": {},
   "outputs": [
    {
     "name": "stdout",
     "output_type": "stream",
     "text": [
      "Model: \"sequential\"\n",
      "_________________________________________________________________\n",
      "Layer (type)                 Output Shape              Param #   \n",
      "=================================================================\n",
      "dense (Dense)                (None, 10)                140       \n",
      "_________________________________________________________________\n",
      "activation (Activation)      (None, 10)                0         \n",
      "_________________________________________________________________\n",
      "dense_1 (Dense)              (None, 10)                110       \n",
      "_________________________________________________________________\n",
      "activation_1 (Activation)    (None, 10)                0         \n",
      "_________________________________________________________________\n",
      "dense_2 (Dense)              (None, 10)                110       \n",
      "_________________________________________________________________\n",
      "activation_2 (Activation)    (None, 10)                0         \n",
      "_________________________________________________________________\n",
      "dense_3 (Dense)              (None, 1)                 11        \n",
      "=================================================================\n",
      "Total params: 371\n",
      "Trainable params: 371\n",
      "Non-trainable params: 0\n",
      "_________________________________________________________________\n"
     ]
    }
   ],
   "source": [
    "model.summary()"
   ]
  },
  {
   "cell_type": "markdown",
   "metadata": {},
   "source": [
    "#### - Model Fit (Train)"
   ]
  },
  {
   "cell_type": "code",
   "execution_count": 9,
   "metadata": {},
   "outputs": [
    {
     "name": "stdout",
     "output_type": "stream",
     "text": [
      "Train on 404 samples\n",
      "Epoch 1/100\n",
      "404/404 [==============================] - 1s 1ms/sample - loss: 365.5055 - mse: 365.5055\n",
      "Epoch 2/100\n",
      "404/404 [==============================] - 0s 49us/sample - loss: 102.3870 - mse: 102.3870\n",
      "Epoch 3/100\n",
      "404/404 [==============================] - 0s 52us/sample - loss: 83.8280 - mse: 83.8280\n",
      "Epoch 4/100\n",
      "404/404 [==============================] - 0s 50us/sample - loss: 84.1185 - mse: 84.1185\n",
      "Epoch 5/100\n",
      "404/404 [==============================] - 0s 56us/sample - loss: 84.0177 - mse: 84.0177\n",
      "Epoch 6/100\n",
      "404/404 [==============================] - 0s 89us/sample - loss: 82.6715 - mse: 82.6715\n",
      "Epoch 7/100\n",
      "404/404 [==============================] - 0s 75us/sample - loss: 82.8856 - mse: 82.8856\n",
      "Epoch 8/100\n",
      "404/404 [==============================] - 0s 46us/sample - loss: 81.4509 - mse: 81.4509\n",
      "Epoch 9/100\n",
      "404/404 [==============================] - 0s 60us/sample - loss: 80.3800 - mse: 80.3800\n",
      "Epoch 10/100\n",
      "404/404 [==============================] - 0s 49us/sample - loss: 81.1025 - mse: 81.1025\n",
      "Epoch 11/100\n",
      "404/404 [==============================] - 0s 52us/sample - loss: 79.7856 - mse: 79.7856\n",
      "Epoch 12/100\n",
      "404/404 [==============================] - 0s 56us/sample - loss: 78.1310 - mse: 78.1310\n",
      "Epoch 13/100\n",
      "404/404 [==============================] - 0s 128us/sample - loss: 78.8671 - mse: 78.8671\n",
      "Epoch 14/100\n",
      "404/404 [==============================] - 0s 54us/sample - loss: 81.7580 - mse: 81.7580\n",
      "Epoch 15/100\n",
      "404/404 [==============================] - 0s 109us/sample - loss: 82.4526 - mse: 82.4526\n",
      "Epoch 16/100\n",
      "404/404 [==============================] - 0s 72us/sample - loss: 84.0010 - mse: 84.0010\n",
      "Epoch 17/100\n",
      "404/404 [==============================] - 0s 80us/sample - loss: 82.7942 - mse: 82.7942\n",
      "Epoch 18/100\n",
      "404/404 [==============================] - 0s 55us/sample - loss: 81.5902 - mse: 81.5902\n",
      "Epoch 19/100\n",
      "404/404 [==============================] - 0s 62us/sample - loss: 82.4961 - mse: 82.4961\n",
      "Epoch 20/100\n",
      "404/404 [==============================] - 0s 55us/sample - loss: 81.7781 - mse: 81.7781\n",
      "Epoch 21/100\n",
      "404/404 [==============================] - 0s 51us/sample - loss: 81.0154 - mse: 81.0154\n",
      "Epoch 22/100\n",
      "404/404 [==============================] - 0s 48us/sample - loss: 82.6459 - mse: 82.6459\n",
      "Epoch 23/100\n",
      "404/404 [==============================] - 0s 43us/sample - loss: 81.3487 - mse: 81.3487\n",
      "Epoch 24/100\n",
      "404/404 [==============================] - 0s 42us/sample - loss: 80.5575 - mse: 80.5575\n",
      "Epoch 25/100\n",
      "404/404 [==============================] - 0s 82us/sample - loss: 81.0042 - mse: 81.0042\n",
      "Epoch 26/100\n",
      "404/404 [==============================] - 0s 54us/sample - loss: 81.0594 - mse: 81.0594\n",
      "Epoch 27/100\n",
      "404/404 [==============================] - 0s 47us/sample - loss: 81.4313 - mse: 81.4313\n",
      "Epoch 28/100\n",
      "404/404 [==============================] - 0s 54us/sample - loss: 80.1268 - mse: 80.1268\n",
      "Epoch 29/100\n",
      "404/404 [==============================] - 0s 56us/sample - loss: 81.7455 - mse: 81.7455\n",
      "Epoch 30/100\n",
      "404/404 [==============================] - 0s 62us/sample - loss: 83.5390 - mse: 83.5390\n",
      "Epoch 31/100\n",
      "404/404 [==============================] - 0s 62us/sample - loss: 79.9905 - mse: 79.9905\n",
      "Epoch 32/100\n",
      "404/404 [==============================] - 0s 50us/sample - loss: 80.2129 - mse: 80.2129\n",
      "Epoch 33/100\n",
      "404/404 [==============================] - 0s 60us/sample - loss: 78.9422 - mse: 78.9422\n",
      "Epoch 34/100\n",
      "404/404 [==============================] - 0s 45us/sample - loss: 79.0374 - mse: 79.0374\n",
      "Epoch 35/100\n",
      "404/404 [==============================] - 0s 76us/sample - loss: 79.5748 - mse: 79.5748\n",
      "Epoch 36/100\n",
      "404/404 [==============================] - 0s 64us/sample - loss: 78.3011 - mse: 78.3011\n",
      "Epoch 37/100\n",
      "404/404 [==============================] - 0s 61us/sample - loss: 78.5239 - mse: 78.5239\n",
      "Epoch 38/100\n",
      "404/404 [==============================] - 0s 62us/sample - loss: 78.6260 - mse: 78.6260\n",
      "Epoch 39/100\n",
      "404/404 [==============================] - 0s 67us/sample - loss: 78.0113 - mse: 78.0113\n",
      "Epoch 40/100\n",
      "404/404 [==============================] - 0s 58us/sample - loss: 77.9661 - mse: 77.9661\n",
      "Epoch 41/100\n",
      "404/404 [==============================] - 0s 52us/sample - loss: 79.0416 - mse: 79.0416\n",
      "Epoch 42/100\n",
      "404/404 [==============================] - 0s 36us/sample - loss: 79.2180 - mse: 79.2180\n",
      "Epoch 43/100\n",
      "404/404 [==============================] - 0s 59us/sample - loss: 79.2106 - mse: 79.2106\n",
      "Epoch 44/100\n",
      "404/404 [==============================] - 0s 50us/sample - loss: 78.0101 - mse: 78.0101\n",
      "Epoch 45/100\n",
      "404/404 [==============================] - 0s 40us/sample - loss: 79.9921 - mse: 79.9921\n",
      "Epoch 46/100\n",
      "404/404 [==============================] - 0s 53us/sample - loss: 78.8048 - mse: 78.8048\n",
      "Epoch 47/100\n",
      "404/404 [==============================] - 0s 67us/sample - loss: 79.3189 - mse: 79.3189\n",
      "Epoch 48/100\n",
      "404/404 [==============================] - 0s 62us/sample - loss: 79.1597 - mse: 79.1597\n",
      "Epoch 49/100\n",
      "404/404 [==============================] - 0s 56us/sample - loss: 78.2788 - mse: 78.2788\n",
      "Epoch 50/100\n",
      "404/404 [==============================] - 0s 56us/sample - loss: 79.0529 - mse: 79.0530\n",
      "Epoch 51/100\n",
      "404/404 [==============================] - 0s 70us/sample - loss: 77.9707 - mse: 77.9707\n",
      "Epoch 52/100\n",
      "404/404 [==============================] - 0s 93us/sample - loss: 77.5849 - mse: 77.5849\n",
      "Epoch 53/100\n",
      "404/404 [==============================] - 0s 88us/sample - loss: 78.0965 - mse: 78.0965\n",
      "Epoch 54/100\n",
      "404/404 [==============================] - 0s 52us/sample - loss: 78.2456 - mse: 78.2456\n",
      "Epoch 55/100\n",
      "404/404 [==============================] - 0s 65us/sample - loss: 79.2623 - mse: 79.2623\n",
      "Epoch 56/100\n",
      "404/404 [==============================] - 0s 47us/sample - loss: 79.1784 - mse: 79.1784\n",
      "Epoch 57/100\n",
      "404/404 [==============================] - 0s 52us/sample - loss: 78.1220 - mse: 78.1220\n",
      "Epoch 58/100\n",
      "404/404 [==============================] - 0s 60us/sample - loss: 77.6840 - mse: 77.6840\n",
      "Epoch 59/100\n",
      "404/404 [==============================] - 0s 61us/sample - loss: 77.6569 - mse: 77.6569\n",
      "Epoch 60/100\n",
      "404/404 [==============================] - 0s 43us/sample - loss: 77.5094 - mse: 77.5094\n",
      "Epoch 61/100\n",
      "404/404 [==============================] - 0s 46us/sample - loss: 77.4735 - mse: 77.4735\n",
      "Epoch 62/100\n",
      "404/404 [==============================] - 0s 43us/sample - loss: 78.8837 - mse: 78.8837\n",
      "Epoch 63/100\n",
      "404/404 [==============================] - 0s 36us/sample - loss: 77.1736 - mse: 77.1736\n",
      "Epoch 64/100\n",
      "404/404 [==============================] - 0s 37us/sample - loss: 78.5169 - mse: 78.5169\n",
      "Epoch 65/100\n",
      "404/404 [==============================] - 0s 40us/sample - loss: 77.4512 - mse: 77.4512\n",
      "Epoch 66/100\n",
      "404/404 [==============================] - 0s 47us/sample - loss: 77.3881 - mse: 77.3881\n",
      "Epoch 67/100\n",
      "404/404 [==============================] - 0s 39us/sample - loss: 77.9785 - mse: 77.9785\n",
      "Epoch 68/100\n",
      "404/404 [==============================] - 0s 44us/sample - loss: 77.4714 - mse: 77.4714\n",
      "Epoch 69/100\n",
      "404/404 [==============================] - 0s 48us/sample - loss: 77.3733 - mse: 77.3733\n",
      "Epoch 70/100\n",
      "404/404 [==============================] - 0s 46us/sample - loss: 77.6528 - mse: 77.6528\n",
      "Epoch 71/100\n",
      "404/404 [==============================] - 0s 49us/sample - loss: 77.3107 - mse: 77.3107\n",
      "Epoch 72/100\n",
      "404/404 [==============================] - 0s 45us/sample - loss: 78.9830 - mse: 78.9830\n",
      "Epoch 73/100\n",
      "404/404 [==============================] - 0s 43us/sample - loss: 77.3188 - mse: 77.3188\n",
      "Epoch 74/100\n",
      "404/404 [==============================] - 0s 34us/sample - loss: 78.3565 - mse: 78.3565\n",
      "Epoch 75/100\n",
      "404/404 [==============================] - 0s 42us/sample - loss: 79.5602 - mse: 79.5602\n",
      "Epoch 76/100\n",
      "404/404 [==============================] - 0s 38us/sample - loss: 77.6957 - mse: 77.6957\n",
      "Epoch 77/100\n",
      "404/404 [==============================] - 0s 33us/sample - loss: 78.0276 - mse: 78.0276\n",
      "Epoch 78/100\n",
      "404/404 [==============================] - 0s 41us/sample - loss: 77.5121 - mse: 77.5121\n",
      "Epoch 79/100\n",
      "404/404 [==============================] - 0s 37us/sample - loss: 77.3640 - mse: 77.3640\n",
      "Epoch 80/100\n",
      "404/404 [==============================] - 0s 38us/sample - loss: 76.9276 - mse: 76.9276\n",
      "Epoch 81/100\n"
     ]
    },
    {
     "name": "stdout",
     "output_type": "stream",
     "text": [
      "404/404 [==============================] - 0s 53us/sample - loss: 77.6393 - mse: 77.6393\n",
      "Epoch 82/100\n",
      "404/404 [==============================] - 0s 42us/sample - loss: 77.4259 - mse: 77.4259\n",
      "Epoch 83/100\n",
      "404/404 [==============================] - 0s 41us/sample - loss: 77.4949 - mse: 77.4949\n",
      "Epoch 84/100\n",
      "404/404 [==============================] - 0s 47us/sample - loss: 77.3322 - mse: 77.3322\n",
      "Epoch 85/100\n",
      "404/404 [==============================] - 0s 39us/sample - loss: 77.4082 - mse: 77.4082\n",
      "Epoch 86/100\n",
      "404/404 [==============================] - 0s 53us/sample - loss: 77.2768 - mse: 77.2768\n",
      "Epoch 87/100\n",
      "404/404 [==============================] - 0s 44us/sample - loss: 77.3745 - mse: 77.3745\n",
      "Epoch 88/100\n",
      "404/404 [==============================] - 0s 49us/sample - loss: 77.2202 - mse: 77.2203\n",
      "Epoch 89/100\n",
      "404/404 [==============================] - 0s 35us/sample - loss: 77.5726 - mse: 77.5726\n",
      "Epoch 90/100\n",
      "404/404 [==============================] - 0s 41us/sample - loss: 78.1099 - mse: 78.1099\n",
      "Epoch 91/100\n",
      "404/404 [==============================] - 0s 39us/sample - loss: 78.0194 - mse: 78.0194\n",
      "Epoch 92/100\n",
      "404/404 [==============================] - 0s 40us/sample - loss: 78.2259 - mse: 78.2259\n",
      "Epoch 93/100\n",
      "404/404 [==============================] - 0s 40us/sample - loss: 77.3382 - mse: 77.3382\n",
      "Epoch 94/100\n",
      "404/404 [==============================] - 0s 43us/sample - loss: 77.1060 - mse: 77.1060\n",
      "Epoch 95/100\n",
      "404/404 [==============================] - 0s 49us/sample - loss: 77.2610 - mse: 77.2610\n",
      "Epoch 96/100\n",
      "404/404 [==============================] - 0s 38us/sample - loss: 77.2613 - mse: 77.2613\n",
      "Epoch 97/100\n",
      "404/404 [==============================] - 0s 45us/sample - loss: 77.3706 - mse: 77.3706\n",
      "Epoch 98/100\n",
      "404/404 [==============================] - 0s 63us/sample - loss: 78.3441 - mse: 78.3441\n",
      "Epoch 99/100\n",
      "404/404 [==============================] - 0s 43us/sample - loss: 77.5374 - mse: 77.5374\n",
      "Epoch 100/100\n",
      "404/404 [==============================] - 0s 55us/sample - loss: 77.5204 - mse: 77.5204\n"
     ]
    },
    {
     "data": {
      "text/plain": [
       "<tensorflow.python.keras.callbacks.History at 0x13d563550>"
      ]
     },
     "execution_count": 9,
     "metadata": {},
     "output_type": "execute_result"
    }
   ],
   "source": [
    "model.fit(X_train, y_train, batch_size=50, epochs=100, verbose=1)"
   ]
  },
  {
   "cell_type": "markdown",
   "metadata": {},
   "source": [
    "#### - Model Evaluate\n",
    "metrics: https://keras.io/metrics/"
   ]
  },
  {
   "cell_type": "code",
   "execution_count": 10,
   "metadata": {},
   "outputs": [
    {
     "name": "stdout",
     "output_type": "stream",
     "text": [
      "\r",
      "102/1 [====================================================================================================================================================================================================================================================================================================================================================================================================================================================================================================================================================================================================================================================================================================================================================================================================================================================================================================================================================================================================================================================================================================================================================================================================================================================================================================================================================================================================================================================================================================================================================================================================================================================================================================================================================================================================================================================================================================================================================================================================================================================================================================================================================================================================================================================================================================================================================================================================================================================================================================================================================================================================================================================================================================================================================================================================================================================================================================================================================================================================================================================================================================================================================================================] - 0s 947us/sample - loss: 118.5875 - mse: 77.9206\n"
     ]
    }
   ],
   "source": [
    "results = model.evaluate(X_test, y_test)"
   ]
  },
  {
   "cell_type": "code",
   "execution_count": 11,
   "metadata": {},
   "outputs": [
    {
     "name": "stdout",
     "output_type": "stream",
     "text": [
      "['loss', 'mse']\n",
      "[77.92059565525429, 77.92059]\n"
     ]
    }
   ],
   "source": [
    "print(model.metrics_names)     # list of metric names the model is employing\n",
    "print(results)                 # actual figure of metrics computed"
   ]
  },
  {
   "cell_type": "code",
   "execution_count": 12,
   "metadata": {},
   "outputs": [
    {
     "name": "stdout",
     "output_type": "stream",
     "text": [
      "loss:  77.92059565525429\n",
      "mse:  77.92059\n"
     ]
    }
   ],
   "source": [
    "print('loss: ', results[0])\n",
    "print('mse: ', results[1])"
   ]
  },
  {
   "cell_type": "markdown",
   "metadata": {},
   "source": [
    "#### Clear the model (if needed)"
   ]
  },
  {
   "cell_type": "code",
   "execution_count": 13,
   "metadata": {},
   "outputs": [],
   "source": [
    "tf.keras.backend.clear_session()"
   ]
  },
  {
   "cell_type": "code",
   "execution_count": null,
   "metadata": {},
   "outputs": [],
   "source": []
  },
  {
   "cell_type": "markdown",
   "metadata": {},
   "source": [
    "## 1.2. Binary Classification Task (Breast Cancer)\n",
    "- When the target (**y**) is discrete (categorical)\n",
    "- For loss function, cross-entropy is used and for evaluation metric, accuracy is commonly used"
   ]
  },
  {
   "cell_type": "code",
   "execution_count": 14,
   "metadata": {},
   "outputs": [],
   "source": [
    "import tensorflow as tf\n",
    "from tensorflow.keras.models import Sequential\n",
    "from tensorflow.keras.layers import Dense, Activation, BatchNormalization, Dropout\n",
    "from tensorflow.keras import optimizers\n",
    "\n",
    "from sklearn.model_selection import train_test_split"
   ]
  },
  {
   "cell_type": "markdown",
   "metadata": {},
   "source": [
    "### Dataset\n",
    "- Breast cancer dataset has total 569 data instances (212 malign, 357 benign instances)\n",
    "- 30 attributes (features) to predict the binary class (M/B)\n",
    "- Doc: http://scikit-learn.org/stable/modules/generated/sklearn.datasets.load_breast_cancer.html#sklearn.datasets.load_breast_cancer"
   ]
  },
  {
   "cell_type": "code",
   "execution_count": 15,
   "metadata": {},
   "outputs": [
    {
     "name": "stderr",
     "output_type": "stream",
     "text": [
      "/anaconda3/lib/python3.6/importlib/_bootstrap.py:219: RuntimeWarning: numpy.ufunc size changed, may indicate binary incompatibility. Expected 216, got 192\n",
      "  return f(*args, **kwds)\n"
     ]
    }
   ],
   "source": [
    "from sklearn.datasets import load_breast_cancer"
   ]
  },
  {
   "cell_type": "code",
   "execution_count": 16,
   "metadata": {},
   "outputs": [],
   "source": [
    "breast_cancer_data = load_breast_cancer()"
   ]
  },
  {
   "cell_type": "code",
   "execution_count": 17,
   "metadata": {},
   "outputs": [],
   "source": [
    "X_data = breast_cancer_data.data\n",
    "y_data = breast_cancer_data.target"
   ]
  },
  {
   "cell_type": "code",
   "execution_count": 18,
   "metadata": {},
   "outputs": [],
   "source": [
    "X_train, X_test, y_train, y_test = train_test_split(X_data, y_data, test_size = 0.3, random_state = 7)"
   ]
  },
  {
   "cell_type": "code",
   "execution_count": 19,
   "metadata": {},
   "outputs": [
    {
     "name": "stdout",
     "output_type": "stream",
     "text": [
      "(398, 30)\n",
      "(398,)\n",
      "(171, 30)\n",
      "(171,)\n"
     ]
    }
   ],
   "source": [
    "print (X_train.shape)\n",
    "print(y_train.shape)\n",
    "print(X_test.shape)\n",
    "print(y_test.shape)"
   ]
  },
  {
   "cell_type": "markdown",
   "metadata": {},
   "source": [
    "### Model"
   ]
  },
  {
   "cell_type": "code",
   "execution_count": 23,
   "metadata": {},
   "outputs": [],
   "source": [
    "model =Sequential()"
   ]
  },
  {
   "cell_type": "code",
   "execution_count": 24,
   "metadata": {},
   "outputs": [],
   "source": [
    "model.add(Dense(10, input_shape=(30,)))\n",
    "model.add(Activation('relu'))\n",
    "model.add(Dense(10))\n",
    "model.add(Activation('relu'))\n",
    "model.add(Dense(10))\n",
    "model.add(Activation('relu'))\n",
    "model.add(Dense(1))\n",
    "model.add(Activation('sigmoid'))"
   ]
  },
  {
   "cell_type": "code",
   "execution_count": 25,
   "metadata": {},
   "outputs": [],
   "source": [
    "sgd=optimizers.SGD(learning_rate=0.01, momentum=0.0)\n",
    "model.compile(optimizer=sgd, loss='binary_crossentropy', metrics=['acc'])"
   ]
  },
  {
   "cell_type": "code",
   "execution_count": 26,
   "metadata": {},
   "outputs": [
    {
     "name": "stdout",
     "output_type": "stream",
     "text": [
      "Model: \"sequential_2\"\n",
      "_________________________________________________________________\n",
      "Layer (type)                 Output Shape              Param #   \n",
      "=================================================================\n",
      "dense_1 (Dense)              (None, 10)                310       \n",
      "_________________________________________________________________\n",
      "activation_1 (Activation)    (None, 10)                0         \n",
      "_________________________________________________________________\n",
      "dense_2 (Dense)              (None, 10)                110       \n",
      "_________________________________________________________________\n",
      "activation_2 (Activation)    (None, 10)                0         \n",
      "_________________________________________________________________\n",
      "dense_3 (Dense)              (None, 10)                110       \n",
      "_________________________________________________________________\n",
      "activation_3 (Activation)    (None, 10)                0         \n",
      "_________________________________________________________________\n",
      "dense_4 (Dense)              (None, 1)                 11        \n",
      "_________________________________________________________________\n",
      "activation_4 (Activation)    (None, 1)                 0         \n",
      "=================================================================\n",
      "Total params: 541\n",
      "Trainable params: 541\n",
      "Non-trainable params: 0\n",
      "_________________________________________________________________\n"
     ]
    }
   ],
   "source": [
    "model.summary()"
   ]
  },
  {
   "cell_type": "code",
   "execution_count": 27,
   "metadata": {},
   "outputs": [
    {
     "name": "stdout",
     "output_type": "stream",
     "text": [
      "Train on 398 samples\n",
      "Epoch 1/100\n",
      "398/398 [==============================] - 1s 2ms/sample - loss: 13.5667 - acc: 0.5804\n",
      "Epoch 2/100\n",
      "398/398 [==============================] - 0s 139us/sample - loss: 0.6864 - acc: 0.6055\n",
      "Epoch 3/100\n",
      "398/398 [==============================] - 0s 99us/sample - loss: 0.6831 - acc: 0.6055\n",
      "Epoch 4/100\n",
      "398/398 [==============================] - 0s 98us/sample - loss: 0.6805 - acc: 0.6055\n",
      "Epoch 5/100\n",
      "398/398 [==============================] - 0s 116us/sample - loss: 0.6784 - acc: 0.6055\n",
      "Epoch 6/100\n",
      "398/398 [==============================] - 0s 147us/sample - loss: 0.6764 - acc: 0.6055\n",
      "Epoch 7/100\n",
      "398/398 [==============================] - ETA: 0s - loss: 0.6697 - acc: 0.633 - 0s 124us/sample - loss: 0.6755 - acc: 0.6055\n",
      "Epoch 8/100\n",
      "398/398 [==============================] - 0s 163us/sample - loss: 0.6745 - acc: 0.6055\n",
      "Epoch 9/100\n",
      "398/398 [==============================] - 0s 151us/sample - loss: 0.6735 - acc: 0.6055\n",
      "Epoch 10/100\n",
      "398/398 [==============================] - 0s 101us/sample - loss: 0.6732 - acc: 0.6055\n",
      "Epoch 11/100\n",
      "398/398 [==============================] - 0s 98us/sample - loss: 0.6727 - acc: 0.6055\n",
      "Epoch 12/100\n",
      "398/398 [==============================] - 0s 98us/sample - loss: 0.6723 - acc: 0.6055\n",
      "Epoch 13/100\n",
      "398/398 [==============================] - 0s 103us/sample - loss: 0.6720 - acc: 0.6055\n",
      "Epoch 14/100\n",
      "398/398 [==============================] - 0s 132us/sample - loss: 0.6717 - acc: 0.6055\n",
      "Epoch 15/100\n",
      "398/398 [==============================] - 0s 101us/sample - loss: 0.6716 - acc: 0.6055\n",
      "Epoch 16/100\n",
      "398/398 [==============================] - 0s 118us/sample - loss: 0.6714 - acc: 0.6055\n",
      "Epoch 17/100\n",
      "398/398 [==============================] - 0s 81us/sample - loss: 0.6712 - acc: 0.6055\n",
      "Epoch 18/100\n",
      "398/398 [==============================] - 0s 128us/sample - loss: 0.6711 - acc: 0.6055\n",
      "Epoch 19/100\n",
      "398/398 [==============================] - 0s 138us/sample - loss: 0.6712 - acc: 0.6055\n",
      "Epoch 20/100\n",
      "398/398 [==============================] - 0s 86us/sample - loss: 0.6712 - acc: 0.6055\n",
      "Epoch 21/100\n",
      "398/398 [==============================] - 0s 102us/sample - loss: 0.6711 - acc: 0.6055\n",
      "Epoch 22/100\n",
      "398/398 [==============================] - 0s 99us/sample - loss: 0.6711 - acc: 0.6055\n",
      "Epoch 23/100\n",
      "398/398 [==============================] - 0s 198us/sample - loss: 0.6710 - acc: 0.6055\n",
      "Epoch 24/100\n",
      "398/398 [==============================] - 0s 132us/sample - loss: 0.6709 - acc: 0.6055\n",
      "Epoch 25/100\n",
      "398/398 [==============================] - 0s 102us/sample - loss: 0.6710 - acc: 0.6055\n",
      "Epoch 26/100\n",
      "398/398 [==============================] - 0s 106us/sample - loss: 0.6709 - acc: 0.6055\n",
      "Epoch 27/100\n",
      "398/398 [==============================] - 0s 105us/sample - loss: 0.6709 - acc: 0.6055\n",
      "Epoch 28/100\n",
      "398/398 [==============================] - 0s 120us/sample - loss: 0.6708 - acc: 0.6055\n",
      "Epoch 29/100\n",
      "398/398 [==============================] - 0s 130us/sample - loss: 0.6708 - acc: 0.6055\n",
      "Epoch 30/100\n",
      "398/398 [==============================] - 0s 114us/sample - loss: 0.6708 - acc: 0.6055\n",
      "Epoch 31/100\n",
      "398/398 [==============================] - 0s 100us/sample - loss: 0.6708 - acc: 0.6055\n",
      "Epoch 32/100\n",
      "398/398 [==============================] - 0s 93us/sample - loss: 0.6708 - acc: 0.6055\n",
      "Epoch 33/100\n",
      "398/398 [==============================] - 0s 111us/sample - loss: 0.6709 - acc: 0.6055\n",
      "Epoch 34/100\n",
      "398/398 [==============================] - 0s 128us/sample - loss: 0.6708 - acc: 0.6055\n",
      "Epoch 35/100\n",
      "398/398 [==============================] - 0s 133us/sample - loss: 0.6709 - acc: 0.6055\n",
      "Epoch 36/100\n",
      "398/398 [==============================] - 0s 152us/sample - loss: 0.6709 - acc: 0.6055\n",
      "Epoch 37/100\n",
      "398/398 [==============================] - 0s 130us/sample - loss: 0.6710 - acc: 0.6055\n",
      "Epoch 38/100\n",
      "398/398 [==============================] - 0s 155us/sample - loss: 0.6708 - acc: 0.6055\n",
      "Epoch 39/100\n",
      "398/398 [==============================] - 0s 127us/sample - loss: 0.6708 - acc: 0.6055\n",
      "Epoch 40/100\n",
      "398/398 [==============================] - 0s 181us/sample - loss: 0.6708 - acc: 0.6055\n",
      "Epoch 41/100\n",
      "398/398 [==============================] - 0s 98us/sample - loss: 0.6709 - acc: 0.6055\n",
      "Epoch 42/100\n",
      "398/398 [==============================] - 0s 145us/sample - loss: 0.6708 - acc: 0.6055\n",
      "Epoch 43/100\n",
      "398/398 [==============================] - 0s 93us/sample - loss: 0.6708 - acc: 0.6055\n",
      "Epoch 44/100\n",
      "398/398 [==============================] - ETA: 0s - loss: 0.6587 - acc: 0.633 - 0s 155us/sample - loss: 0.6709 - acc: 0.6055\n",
      "Epoch 45/100\n",
      "398/398 [==============================] - 0s 266us/sample - loss: 0.6708 - acc: 0.6055\n",
      "Epoch 46/100\n",
      "398/398 [==============================] - 0s 99us/sample - loss: 0.6708 - acc: 0.6055\n",
      "Epoch 47/100\n",
      "398/398 [==============================] - 0s 110us/sample - loss: 0.6709 - acc: 0.6055\n",
      "Epoch 48/100\n",
      "398/398 [==============================] - 0s 124us/sample - loss: 0.6708 - acc: 0.6055\n",
      "Epoch 49/100\n",
      "398/398 [==============================] - 0s 209us/sample - loss: 0.6709 - acc: 0.6055\n",
      "Epoch 50/100\n",
      "398/398 [==============================] - 0s 98us/sample - loss: 0.6708 - acc: 0.6055\n",
      "Epoch 51/100\n",
      "398/398 [==============================] - 0s 132us/sample - loss: 0.6709 - acc: 0.6055\n",
      "Epoch 52/100\n",
      "398/398 [==============================] - 0s 85us/sample - loss: 0.6710 - acc: 0.6055\n",
      "Epoch 53/100\n",
      "398/398 [==============================] - 0s 79us/sample - loss: 0.6708 - acc: 0.6055\n",
      "Epoch 54/100\n",
      "398/398 [==============================] - 0s 123us/sample - loss: 0.6708 - acc: 0.6055\n",
      "Epoch 55/100\n",
      "398/398 [==============================] - 0s 99us/sample - loss: 0.6707 - acc: 0.6055\n",
      "Epoch 56/100\n",
      "398/398 [==============================] - 0s 110us/sample - loss: 0.6708 - acc: 0.6055\n",
      "Epoch 57/100\n",
      "398/398 [==============================] - 0s 121us/sample - loss: 0.6709 - acc: 0.6055\n",
      "Epoch 58/100\n",
      "398/398 [==============================] - 0s 101us/sample - loss: 0.6709 - acc: 0.6055\n",
      "Epoch 59/100\n",
      "398/398 [==============================] - 0s 114us/sample - loss: 0.6708 - acc: 0.6055\n",
      "Epoch 60/100\n",
      "398/398 [==============================] - 0s 85us/sample - loss: 0.6709 - acc: 0.6055\n",
      "Epoch 61/100\n",
      "398/398 [==============================] - 0s 112us/sample - loss: 0.6709 - acc: 0.6055\n",
      "Epoch 62/100\n",
      "398/398 [==============================] - 0s 68us/sample - loss: 0.6708 - acc: 0.6055\n",
      "Epoch 63/100\n",
      "398/398 [==============================] - 0s 127us/sample - loss: 0.6708 - acc: 0.6055\n",
      "Epoch 64/100\n",
      "398/398 [==============================] - 0s 108us/sample - loss: 0.6708 - acc: 0.6055\n",
      "Epoch 65/100\n",
      "398/398 [==============================] - 0s 106us/sample - loss: 0.6709 - acc: 0.6055\n",
      "Epoch 66/100\n",
      "398/398 [==============================] - 0s 102us/sample - loss: 0.6709 - acc: 0.6055\n",
      "Epoch 67/100\n",
      "398/398 [==============================] - 0s 114us/sample - loss: 0.6708 - acc: 0.6055\n",
      "Epoch 68/100\n",
      "398/398 [==============================] - 0s 94us/sample - loss: 0.6708 - acc: 0.6055\n",
      "Epoch 69/100\n",
      "398/398 [==============================] - 0s 88us/sample - loss: 0.6709 - acc: 0.6055\n",
      "Epoch 70/100\n",
      "398/398 [==============================] - 0s 98us/sample - loss: 0.6709 - acc: 0.6055\n",
      "Epoch 71/100\n",
      "398/398 [==============================] - 0s 101us/sample - loss: 0.6708 - acc: 0.6055\n",
      "Epoch 72/100\n",
      "398/398 [==============================] - 0s 87us/sample - loss: 0.6708 - acc: 0.6055\n",
      "Epoch 73/100\n",
      "398/398 [==============================] - 0s 90us/sample - loss: 0.6708 - acc: 0.6055\n",
      "Epoch 74/100\n",
      "398/398 [==============================] - 0s 97us/sample - loss: 0.6708 - acc: 0.6055\n",
      "Epoch 75/100\n",
      "398/398 [==============================] - 0s 132us/sample - loss: 0.6708 - acc: 0.6055\n",
      "Epoch 76/100\n",
      "398/398 [==============================] - 0s 102us/sample - loss: 0.6708 - acc: 0.6055\n",
      "Epoch 77/100\n",
      "398/398 [==============================] - 0s 96us/sample - loss: 0.6707 - acc: 0.6055\n",
      "Epoch 78/100\n",
      "398/398 [==============================] - 0s 126us/sample - loss: 0.6708 - acc: 0.6055\n",
      "Epoch 79/100\n",
      "398/398 [==============================] - 0s 121us/sample - loss: 0.6708 - acc: 0.6055\n",
      "Epoch 80/100\n",
      "398/398 [==============================] - 0s 87us/sample - loss: 0.6708 - acc: 0.6055\n",
      "Epoch 81/100\n"
     ]
    },
    {
     "name": "stdout",
     "output_type": "stream",
     "text": [
      "398/398 [==============================] - 0s 81us/sample - loss: 0.6708 - acc: 0.6055\n",
      "Epoch 82/100\n",
      "398/398 [==============================] - 0s 88us/sample - loss: 0.6708 - acc: 0.6055\n",
      "Epoch 83/100\n",
      "398/398 [==============================] - 0s 72us/sample - loss: 0.6708 - acc: 0.6055\n",
      "Epoch 84/100\n",
      "398/398 [==============================] - 0s 73us/sample - loss: 0.6709 - acc: 0.6055\n",
      "Epoch 85/100\n",
      "398/398 [==============================] - 0s 68us/sample - loss: 0.6708 - acc: 0.6055\n",
      "Epoch 86/100\n",
      "398/398 [==============================] - 0s 67us/sample - loss: 0.6709 - acc: 0.6055\n",
      "Epoch 87/100\n",
      "398/398 [==============================] - 0s 75us/sample - loss: 0.6709 - acc: 0.6055\n",
      "Epoch 88/100\n",
      "398/398 [==============================] - 0s 86us/sample - loss: 0.6708 - acc: 0.6055\n",
      "Epoch 89/100\n",
      "398/398 [==============================] - 0s 73us/sample - loss: 0.6709 - acc: 0.6055\n",
      "Epoch 90/100\n",
      "398/398 [==============================] - 0s 80us/sample - loss: 0.6708 - acc: 0.6055\n",
      "Epoch 91/100\n",
      "398/398 [==============================] - 0s 86us/sample - loss: 0.6708 - acc: 0.6055\n",
      "Epoch 92/100\n",
      "398/398 [==============================] - 0s 84us/sample - loss: 0.6708 - acc: 0.6055\n",
      "Epoch 93/100\n",
      "398/398 [==============================] - 0s 89us/sample - loss: 0.6709 - acc: 0.6055\n",
      "Epoch 94/100\n",
      "398/398 [==============================] - 0s 113us/sample - loss: 0.6708 - acc: 0.6055\n",
      "Epoch 95/100\n",
      "398/398 [==============================] - 0s 71us/sample - loss: 0.6708 - acc: 0.6055\n",
      "Epoch 96/100\n",
      "398/398 [==============================] - 0s 69us/sample - loss: 0.6709 - acc: 0.6055\n",
      "Epoch 97/100\n",
      "398/398 [==============================] - 0s 72us/sample - loss: 0.6708 - acc: 0.6055\n",
      "Epoch 98/100\n",
      "398/398 [==============================] - 0s 66us/sample - loss: 0.6708 - acc: 0.6055\n",
      "Epoch 99/100\n",
      "398/398 [==============================] - 0s 67us/sample - loss: 0.6708 - acc: 0.6055\n",
      "Epoch 100/100\n",
      "398/398 [==============================] - 0s 71us/sample - loss: 0.6708 - acc: 0.6055\n"
     ]
    },
    {
     "data": {
      "text/plain": [
       "<tensorflow.python.keras.callbacks.History at 0x13e9c5ba8>"
      ]
     },
     "execution_count": 27,
     "metadata": {},
     "output_type": "execute_result"
    }
   ],
   "source": [
    "model.fit(X_train, y_train, batch_size=30, epochs=100, verbose=1)"
   ]
  },
  {
   "cell_type": "code",
   "execution_count": 28,
   "metadata": {},
   "outputs": [
    {
     "name": "stdout",
     "output_type": "stream",
     "text": [
      "\r",
      "171/1 [==========================================================================================================================================================================================================================================================================================================================================================================================================================================================================================================================================================================================================================================================================================================================================================================================================================================================================================================================================================================================================================================================================================================================================================================================================================================================================================================================================================================================================================================================================================================================================================================================================================================================================================================================================================================================================================================================================================================================================================================================================================================================================================================================================================================================================================================================================================================================================================================================================================================================================================================================================================================================================================================================================================================================================================================================================================================================================================================================================================================================================================================================================================================================================================================================================================================================================================================================================================================================================================================================================================================================================================================================================================================================================================================================================================================================================================================================================================================================================================================================================================================================================================================================================================================================================================================================================================================================================================================================================================================================================================================================================================================================================================================================================================================================================================================================================================================================================================================================================================================================================================================================================================================================================================================================================================================================================================================================================] - 0s 531us/sample - loss: 0.6482 - acc: 0.6784\n"
     ]
    }
   ],
   "source": [
    "results = model.evaluate(X_test, y_test)"
   ]
  },
  {
   "cell_type": "code",
   "execution_count": 29,
   "metadata": {},
   "outputs": [
    {
     "data": {
      "text/plain": [
       "['loss', 'acc']"
      ]
     },
     "execution_count": 29,
     "metadata": {},
     "output_type": "execute_result"
    }
   ],
   "source": [
    "model.metrics_names"
   ]
  },
  {
   "cell_type": "code",
   "execution_count": 32,
   "metadata": {},
   "outputs": [
    {
     "data": {
      "text/plain": [
       "[0.6390235424041748, 0.67836255]"
      ]
     },
     "execution_count": 32,
     "metadata": {},
     "output_type": "execute_result"
    }
   ],
   "source": [
    "results"
   ]
  },
  {
   "cell_type": "code",
   "execution_count": null,
   "metadata": {},
   "outputs": [],
   "source": []
  },
  {
   "cell_type": "code",
   "execution_count": 96,
   "metadata": {},
   "outputs": [],
   "source": [
    "tf.keras.backend.clear_session()"
   ]
  },
  {
   "cell_type": "code",
   "execution_count": null,
   "metadata": {},
   "outputs": [],
   "source": []
  },
  {
   "cell_type": "markdown",
   "metadata": {},
   "source": [
    "# 2 MLP Advanced\n",
    "\n",
    "- Weight Initialization\n",
    "- Nonlinearity (Activation function)\n",
    "- Optimizers\n",
    "- Batch Normalization\n",
    "- Dropout (Regularization)\n",
    "- Model Ensemble"
   ]
  },
  {
   "cell_type": "markdown",
   "metadata": {},
   "source": [
    "#### - Weight Initialization\n",
    "- Changing weight initialization scheme can significantly improve training of the model by preventing vanishing gradient problem up to some degree\n",
    "- He normal or Xavier normal initialization schemes are SOTA at the moment\n",
    "- Doc: https://keras.io/initializers/\n",
    "\n",
    "#### - Nonlinearity (Activation function)\n",
    "- Sigmoid functions suffer from gradient vanishing problem, making training slower\n",
    "- There are many choices apart from sigmoid and tanh; try many of them!\n",
    "    - **'relu'** (rectified linear unit) is one of the most popular ones\n",
    "    - **'selu'** (scaled exponential linear unit) is one of the most recent ones\n",
    "- Doc: https://keras.io/activations/\n",
    "\n",
    "<img src=\"http://cs231n.github.io/assets/nn1/sigmoid.jpeg\" style=\"width: 400px\"/>\n",
    "<center> **Sigmoid Activation Function** </center>\n",
    "<img src=\"http://cs231n.github.io/assets/nn1/relu.jpeg\" style=\"width: 400px\"/>\n",
    "<center> **Relu Activation Function** </center>\n",
    "\n",
    "#### - Optimizers\n",
    "- Many variants of SGD are proposed and employed nowadays\n",
    "- One of the most popular ones are Adam (Adaptive Moment Estimation)\n",
    "- Doc: https://keras.io/optimizers/\n",
    "\n",
    "<img src=\"http://cs231n.github.io/assets/nn3/opt2.gif\" style=\"width: 400px\"/>\n",
    "<br><center> **Relative convergence speed of different optimizers** </center></br>\n",
    "\n",
    "#### - Batch Normalization\n",
    "- Batch Normalization, one of the methods to prevent the \"internal covariance shift\" problem, has proven to be highly effective\n",
    "- Normalize each mini-batch before nonlinearity\n",
    "- Doc: https://keras.io/layers/normalization/\n",
    "\n",
    "<img src=\"https://raw.githubusercontent.com/torch/torch.github.io/master/blog/_posts/images/resnets_modelvariants.png\" style=\"width: 500px\"/>\n",
    "\n",
    "<br> Batch normalization layer is usually inserted after dense/convolution and before nonlinearity\n",
    "\n",
    "#### - Dropout (Regularization)\n",
    "- Dropout is one of powerful ways to prevent overfitting\n",
    "- The idea is simple. It is disconnecting some (randomly selected) neurons in each layer\n",
    "- The probability of each neuron to be disconnected, namely 'Dropout rate', has to be designated\n",
    "- Doc: https://keras.io/layers/core/#dropout\n",
    "\n",
    "<img src=\"https://image.slidesharecdn.com/lecture29-convolutionalneuralnetworks-visionspring2015-150504114140-conversion-gate02/95/lecture-29-convolutional-neural-networks-computer-vision-spring2015-62-638.jpg?cb=1430740006\" style=\"width: 500px\"/>\n",
    "\n",
    "#### - Model Ensemble\n",
    "- Model ensemble is a reliable and promising way to boost performance of the model\n",
    "- Usually create 8 to 10 independent networks and merge their results\n",
    "- Here, we resort to scikit-learn API, **VotingClassifier**\n",
    "- Doc: http://scikit-learn.org/stable/modules/generated/sklearn.ensemble.VotingClassifier.html\n",
    "\n"
   ]
  },
  {
   "cell_type": "markdown",
   "metadata": {},
   "source": [
    "## Categorical Classification Task (MNIST)"
   ]
  },
  {
   "cell_type": "code",
   "execution_count": 97,
   "metadata": {},
   "outputs": [],
   "source": [
    "import tensorflow as tf\n",
    "from tensorflow.keras.models import Sequential\n",
    "from tensorflow.keras.layers import Dense, Activation, BatchNormalization, Dropout\n",
    "from tensorflow.keras import optimizers\n",
    "from tensorflow.keras.utils import to_categorical\n",
    "from tensorflow.keras.wrappers.scikit_learn import KerasClassifier\n",
    "\n",
    "from sklearn.model_selection import train_test_split\n",
    "from sklearn.metrics import accuracy_score\n",
    "from sklearn.ensemble import VotingClassifier\n",
    "\n",
    "import numpy as np\n",
    "import matplotlib.pyplot as plt"
   ]
  },
  {
   "cell_type": "markdown",
   "metadata": {},
   "source": [
    "### Dataset\n",
    "- MNIST: http://yann.lecun.com/exdb/mnist/"
   ]
  },
  {
   "cell_type": "code",
   "execution_count": 98,
   "metadata": {},
   "outputs": [],
   "source": [
    "from tensorflow.keras.datasets import mnist"
   ]
  },
  {
   "cell_type": "code",
   "execution_count": 99,
   "metadata": {},
   "outputs": [],
   "source": [
    "(X_train, y_train),(X_test, y_test) = mnist.load_data()"
   ]
  },
  {
   "cell_type": "code",
   "execution_count": 100,
   "metadata": {},
   "outputs": [
    {
     "name": "stdout",
     "output_type": "stream",
     "text": [
      "(60000, 28, 28)\n",
      "(60000,)\n",
      "(10000, 28, 28)\n",
      "(10000,)\n"
     ]
    }
   ],
   "source": [
    "print(X_train.shape)\n",
    "print(y_train.shape)\n",
    "print(X_test.shape)\n",
    "print(y_test.shape)"
   ]
  },
  {
   "cell_type": "code",
   "execution_count": 101,
   "metadata": {},
   "outputs": [
    {
     "data": {
      "image/png": "[encoded data removed]",
      "text/plain": [
       "<Figure size 432x288 with 1 Axes>"
      ]
     },
     "metadata": {
      "needs_background": "light"
     },
     "output_type": "display_data"
    },
    {
     "name": "stdout",
     "output_type": "stream",
     "text": [
      "label:  5\n"
     ]
    }
   ],
   "source": [
    "plt.imshow(X_train[0])      # show first number in the train set\n",
    "plt.show()\n",
    "print('label: ', y_train[0])"
   ]
  },
  {
   "cell_type": "code",
   "execution_count": 102,
   "metadata": {},
   "outputs": [
    {
     "data": {
      "image/png": "[encoded data removed]",
      "text/plain": [
       "<Figure size 432x288 with 1 Axes>"
      ]
     },
     "metadata": {
      "needs_background": "light"
     },
     "output_type": "display_data"
    },
    {
     "name": "stdout",
     "output_type": "stream",
     "text": [
      "label:  7\n"
     ]
    }
   ],
   "source": [
    "plt.imshow(X_test[0])     # show first number in test set\n",
    "plt.show()\n",
    "print('label: ', y_test[0])"
   ]
  },
  {
   "cell_type": "markdown",
   "metadata": {},
   "source": [
    "### Preprocessing"
   ]
  },
  {
   "cell_type": "code",
   "execution_count": 103,
   "metadata": {},
   "outputs": [
    {
     "name": "stdout",
     "output_type": "stream",
     "text": [
      "(60000, 784)\n",
      "(10000, 784)\n"
     ]
    }
   ],
   "source": [
    "# reshaping X data: (n, 28, 28) => (n, 784)\n",
    "X_train = X_train.reshape((X_train.shape[0], -1))\n",
    "X_test = X_test.reshape((X_test.shape[0], -1))\n",
    "\n",
    "print(X_train.shape)\n",
    "print(X_test.shape)"
   ]
  },
  {
   "cell_type": "code",
   "execution_count": 104,
   "metadata": {},
   "outputs": [
    {
     "data": {
      "text/plain": [
       "array([0., 0., 0., 0., 0., 1., 0., 0., 0., 0.], dtype=float32)"
      ]
     },
     "execution_count": 104,
     "metadata": {},
     "output_type": "execute_result"
    }
   ],
   "source": [
    "# converting y data into categorical (one-hot encoding)\n",
    "y_train = to_categorical(y_train)\n",
    "y_test = to_categorical(y_test)\n",
    "\n",
    "y_train[0]  #correspoonding to 5"
   ]
  },
  {
   "cell_type": "code",
   "execution_count": 105,
   "metadata": {},
   "outputs": [
    {
     "name": "stdout",
     "output_type": "stream",
     "text": [
      "(60000, 784)\n",
      "(60000, 10)\n",
      "(10000, 784)\n",
      "(10000, 10)\n"
     ]
    }
   ],
   "source": [
    "print(X_train.shape)\n",
    "print(y_train.shape)\n",
    "print(X_test.shape)\n",
    "print(y_test.shape)"
   ]
  },
  {
   "cell_type": "markdown",
   "metadata": {},
   "source": [
    "### Model"
   ]
  },
  {
   "cell_type": "code",
   "execution_count": 106,
   "metadata": {},
   "outputs": [],
   "source": [
    "def mlp_model():\n",
    "    model = Sequential()\n",
    "    \n",
    "    model.add(Dense(50, input_shape=(784,), kernel_initializer='he_normal'))\n",
    "    model.add(BatchNormalization())\n",
    "    model.add(Activation('relu'))\n",
    "    model.add(Dropout(rate=0.2))\n",
    "    \n",
    "    model.add(Dense(50, kernel_initializer='he_normal'))\n",
    "    model.add(BatchNormalization())\n",
    "    model.add(Activation('relu'))\n",
    "    model.add(Dropout(rate=0.2))\n",
    "    \n",
    "    model.add(Dense(50, kernel_initializer='he_normal'))\n",
    "    model.add(BatchNormalization())\n",
    "    model.add(Activation('relu'))\n",
    "    model.add(Dropout(rate=0.2))\n",
    "    \n",
    "    model.add(Dense(50, kernel_initializer='he_normal'))\n",
    "    model.add(BatchNormalization())\n",
    "    model.add(Activation('relu'))\n",
    "    model.add(Dropout(rate=0.2))\n",
    "    \n",
    "    model.add(Dense(10, kernel_initializer='he_normal'))\n",
    "    model.add(Activation('softmax'))\n",
    "    \n",
    "    adam=optimizers.Adam(learning_rate=0.001)\n",
    "    model.compile(optimizers=adam, loss='categorical_crossentropy', metrics=['acc'])\n",
    "    \n",
    "    return model"
   ]
  },
  {
   "cell_type": "code",
   "execution_count": 107,
   "metadata": {},
   "outputs": [
    {
     "name": "stdout",
     "output_type": "stream",
     "text": [
      "Model: \"sequential\"\n",
      "_________________________________________________________________\n",
      "Layer (type)                 Output Shape              Param #   \n",
      "=================================================================\n",
      "dense (Dense)                (None, 50)                39250     \n",
      "_________________________________________________________________\n",
      "batch_normalization (BatchNo (None, 50)                200       \n",
      "_________________________________________________________________\n",
      "activation (Activation)      (None, 50)                0         \n",
      "_________________________________________________________________\n",
      "dropout (Dropout)            (None, 50)                0         \n",
      "_________________________________________________________________\n",
      "dense_1 (Dense)              (None, 50)                2550      \n",
      "_________________________________________________________________\n",
      "batch_normalization_1 (Batch (None, 50)                200       \n",
      "_________________________________________________________________\n",
      "activation_1 (Activation)    (None, 50)                0         \n",
      "_________________________________________________________________\n",
      "dropout_1 (Dropout)          (None, 50)                0         \n",
      "_________________________________________________________________\n",
      "dense_2 (Dense)              (None, 50)                2550      \n",
      "_________________________________________________________________\n",
      "batch_normalization_2 (Batch (None, 50)                200       \n",
      "_________________________________________________________________\n",
      "activation_2 (Activation)    (None, 50)                0         \n",
      "_________________________________________________________________\n",
      "dropout_2 (Dropout)          (None, 50)                0         \n",
      "_________________________________________________________________\n",
      "dense_3 (Dense)              (None, 50)                2550      \n",
      "_________________________________________________________________\n",
      "batch_normalization_3 (Batch (None, 50)                200       \n",
      "_________________________________________________________________\n",
      "activation_3 (Activation)    (None, 50)                0         \n",
      "_________________________________________________________________\n",
      "dropout_3 (Dropout)          (None, 50)                0         \n",
      "_________________________________________________________________\n",
      "dense_4 (Dense)              (None, 10)                510       \n",
      "_________________________________________________________________\n",
      "activation_4 (Activation)    (None, 10)                0         \n",
      "=================================================================\n",
      "Total params: 48,210\n",
      "Trainable params: 47,810\n",
      "Non-trainable params: 400\n",
      "_________________________________________________________________\n"
     ]
    }
   ],
   "source": [
    "mlp_model = mlp_model()\n",
    "\n",
    "mlp_model.summary()"
   ]
  },
  {
   "cell_type": "code",
   "execution_count": 108,
   "metadata": {},
   "outputs": [],
   "source": [
    "results = mlp_model.fit(X_train, y_train, batch_size=32, epochs=100, verbose=0, validation_split=0.3)"
   ]
  },
  {
   "cell_type": "code",
   "execution_count": 112,
   "metadata": {},
   "outputs": [
    {
     "data": {
      "text/plain": [
       "{'batch_size': 32,\n",
       " 'epochs': 100,\n",
       " 'steps': 1313,\n",
       " 'samples': 42000,\n",
       " 'verbose': 0,\n",
       " 'do_validation': True,\n",
       " 'metrics': ['loss', 'acc', 'val_loss', 'val_acc']}"
      ]
     },
     "execution_count": 112,
     "metadata": {},
     "output_type": "execute_result"
    }
   ],
   "source": [
    "results.params"
   ]
  },
  {
   "cell_type": "code",
   "execution_count": 123,
   "metadata": {},
   "outputs": [
    {
     "data": {
      "image/png": "[encoded data removed]",
      "text/plain": [
       "<Figure size 432x288 with 1 Axes>"
      ]
     },
     "metadata": {
      "needs_background": "light"
     },
     "output_type": "display_data"
    }
   ],
   "source": [
    "plt.plot(results.history['loss'])\n",
    "plt.plot(results.history['val_loss'])\n",
    "plt.legend(['training', 'validation'])\n",
    "plt.show()"
   ]
  },
  {
   "cell_type": "code",
   "execution_count": 130,
   "metadata": {},
   "outputs": [
    {
     "name": "stdout",
     "output_type": "stream",
     "text": [
      "['loss', 'acc'] [0.0964179709388176, 0.9723]\n"
     ]
    }
   ],
   "source": [
    "test_results = mlp_model.evaluate(X_test, y_test, verbose=0)\n",
    "\n",
    "print(mlp_model.metrics_names, test_results)"
   ]
  },
  {
   "cell_type": "markdown",
   "metadata": {},
   "source": [
    "### Model Ensemble"
   ]
  },
  {
   "cell_type": "code",
   "execution_count": 131,
   "metadata": {},
   "outputs": [
    {
     "name": "stdout",
     "output_type": "stream",
     "text": [
      "(60000, 784)\n",
      "(60000, 10)\n",
      "(10000, 784)\n",
      "(10000, 10)\n"
     ]
    }
   ],
   "source": [
    "print(X_train.shape)\n",
    "print(y_train.shape)\n",
    "print(X_test.shape)\n",
    "print(y_test.shape)"
   ]
  },
  {
   "cell_type": "code",
   "execution_count": 138,
   "metadata": {},
   "outputs": [],
   "source": [
    "## Convert back from one-hot-encoded to categorical numbers for ensemble classifire\n",
    "y_train = y_train.argmax(axis=1)\n",
    "y_test = y_test.argmax(axis=1)"
   ]
  },
  {
   "cell_type": "code",
   "execution_count": 141,
   "metadata": {},
   "outputs": [
    {
     "name": "stdout",
     "output_type": "stream",
     "text": [
      "(60000,)\n",
      "(10000,)\n"
     ]
    }
   ],
   "source": [
    "print(y_train.shape)\n",
    "print(y_test.shape)"
   ]
  },
  {
   "cell_type": "code",
   "execution_count": 90,
   "metadata": {},
   "outputs": [],
   "source": [
    "# create 5 models to ensemble\n",
    "model1 = KerasClassifier(build_fn=mlp_model, batch_size=32, epochs=100)\n",
    "model2 = KerasClassifier(build_fn=mlp_model, batch_size=32, epochs=100)\n",
    "model3 = KerasClassifier(build_fn=mlp_model, batch_size=32, epochs=100)\n",
    "model4 = KerasClassifier(build_fn=mlp_model, batch_size=32, epochs=100)\n",
    "model5 = KerasClassifier(build_fn=mlp_model, batch_size=32, epochs=100)"
   ]
  },
  {
   "cell_type": "code",
   "execution_count": 144,
   "metadata": {},
   "outputs": [
    {
     "name": "stdout",
     "output_type": "stream",
     "text": [
      "Train on 60000 samples\n",
      "Epoch 1/100\n",
      "60000/60000 [==============================] - 6s 105us/sample - loss: 0.7216 - acc: 0.7781\n",
      "Epoch 2/100\n",
      "60000/60000 [==============================] - 5s 79us/sample - loss: 0.4300 - acc: 0.8768\n",
      "Epoch 3/100\n",
      "60000/60000 [==============================] - 5s 79us/sample - loss: 0.3742 - acc: 0.8950\n",
      "Epoch 4/100\n",
      "60000/60000 [==============================] - 5s 76us/sample - loss: 0.3441 - acc: 0.9031\n",
      "Epoch 5/100\n",
      "60000/60000 [==============================] - 5s 80us/sample - loss: 0.3240 - acc: 0.9108\n",
      "Epoch 6/100\n",
      "60000/60000 [==============================] - 5s 89us/sample - loss: 0.3066 - acc: 0.9140\n",
      "Epoch 7/100\n",
      "60000/60000 [==============================] - 5s 81us/sample - loss: 0.2982 - acc: 0.9173\n",
      "Epoch 8/100\n",
      "60000/60000 [==============================] - 5s 79us/sample - loss: 0.2909 - acc: 0.9205\n",
      "Epoch 9/100\n",
      "60000/60000 [==============================] - 4s 70us/sample - loss: 0.2737 - acc: 0.9255\n",
      "Epoch 10/100\n",
      "60000/60000 [==============================] - 7s 109us/sample - loss: 0.2769 - acc: 0.9233\n",
      "Epoch 11/100\n",
      "60000/60000 [==============================] - 7s 111us/sample - loss: 0.2702 - acc: 0.9271\n",
      "Epoch 12/100\n",
      "60000/60000 [==============================] - 6s 103us/sample - loss: 0.2655 - acc: 0.9283\n",
      "Epoch 13/100\n",
      "60000/60000 [==============================] - 7s 119us/sample - loss: 0.2642 - acc: 0.9284\n",
      "Epoch 14/100\n",
      "60000/60000 [==============================] - 6s 103us/sample - loss: 0.2598 - acc: 0.9291\n",
      "Epoch 15/100\n",
      "60000/60000 [==============================] - 6s 100us/sample - loss: 0.2570 - acc: 0.9308\n",
      "Epoch 16/100\n",
      "60000/60000 [==============================] - 6s 105us/sample - loss: 0.2562 - acc: 0.9298\n",
      "Epoch 17/100\n",
      "60000/60000 [==============================] - 6s 99us/sample - loss: 0.2479 - acc: 0.9334\n",
      "Epoch 18/100\n",
      "60000/60000 [==============================] - 5s 91us/sample - loss: 0.2492 - acc: 0.9314\n",
      "Epoch 19/100\n",
      "60000/60000 [==============================] - 5s 87us/sample - loss: 0.2449 - acc: 0.9338\n",
      "Epoch 20/100\n",
      "60000/60000 [==============================] - 6s 98us/sample - loss: 0.2465 - acc: 0.93251s \n",
      "Epoch 21/100\n",
      "60000/60000 [==============================] - 6s 101us/sample - loss: 0.2409 - acc: 0.9345\n",
      "Epoch 22/100\n",
      "60000/60000 [==============================] - 6s 99us/sample - loss: 0.2391 - acc: 0.9354\n",
      "Epoch 23/100\n",
      "60000/60000 [==============================] - 5s 88us/sample - loss: 0.2405 - acc: 0.9342\n",
      "Epoch 24/100\n",
      "60000/60000 [==============================] - 5s 87us/sample - loss: 0.2362 - acc: 0.9354\n",
      "Epoch 25/100\n",
      "60000/60000 [==============================] - 6s 98us/sample - loss: 0.2378 - acc: 0.9355\n",
      "Epoch 26/100\n",
      "60000/60000 [==============================] - 5s 91us/sample - loss: 0.2290 - acc: 0.9363\n",
      "Epoch 27/100\n",
      "60000/60000 [==============================] - 5s 81us/sample - loss: 0.2304 - acc: 0.93811s - loss: 0.2295 - acc: 0.9 - ETA: 1s \n",
      "Epoch 28/100\n",
      "60000/60000 [==============================] - 5s 81us/sample - loss: 0.2344 - acc: 0.9352\n",
      "Epoch 29/100\n",
      "60000/60000 [==============================] - 5s 80us/sample - loss: 0.2281 - acc: 0.9373\n",
      "Epoch 30/100\n",
      "60000/60000 [==============================] - 5s 80us/sample - loss: 0.2289 - acc: 0.9368\n",
      "Epoch 31/100\n",
      "60000/60000 [==============================] - 5s 80us/sample - loss: 0.2243 - acc: 0.9388\n",
      "Epoch 32/100\n",
      "60000/60000 [==============================] - 5s 81us/sample - loss: 0.2205 - acc: 0.9395\n",
      "Epoch 33/100\n",
      "60000/60000 [==============================] - 5s 80us/sample - loss: 0.2216 - acc: 0.9384\n",
      "Epoch 34/100\n",
      "60000/60000 [==============================] - 5s 82us/sample - loss: 0.2260 - acc: 0.9386\n",
      "Epoch 35/100\n",
      "60000/60000 [==============================] - 5s 83us/sample - loss: 0.2121 - acc: 0.9408\n",
      "Epoch 36/100\n",
      "60000/60000 [==============================] - 5s 81us/sample - loss: 0.2184 - acc: 0.9406\n",
      "Epoch 37/100\n",
      "60000/60000 [==============================] - 5s 85us/sample - loss: 0.2184 - acc: 0.9401\n",
      "Epoch 38/100\n",
      "60000/60000 [==============================] - 5s 82us/sample - loss: 0.2119 - acc: 0.9421\n",
      "Epoch 39/100\n",
      "60000/60000 [==============================] - 5s 81us/sample - loss: 0.2165 - acc: 0.9401\n",
      "Epoch 40/100\n",
      "60000/60000 [==============================] - 5s 82us/sample - loss: 0.2102 - acc: 0.9420\n",
      "Epoch 41/100\n",
      "60000/60000 [==============================] - 5s 81us/sample - loss: 0.2086 - acc: 0.9432\n",
      "Epoch 42/100\n",
      "60000/60000 [==============================] - 5s 81us/sample - loss: 0.2168 - acc: 0.9417\n",
      "Epoch 43/100\n",
      "60000/60000 [==============================] - 5s 81us/sample - loss: 0.2136 - acc: 0.9410\n",
      "Epoch 44/100\n",
      "60000/60000 [==============================] - 5s 84us/sample - loss: 0.2112 - acc: 0.9425\n",
      "Epoch 45/100\n",
      "60000/60000 [==============================] - 5s 81us/sample - loss: 0.2059 - acc: 0.9428\n",
      "Epoch 46/100\n",
      "60000/60000 [==============================] - 5s 82us/sample - loss: 0.2023 - acc: 0.9433\n",
      "Epoch 47/100\n",
      "60000/60000 [==============================] - 5s 83us/sample - loss: 0.2058 - acc: 0.9435\n",
      "Epoch 48/100\n",
      "60000/60000 [==============================] - 5s 82us/sample - loss: 0.2028 - acc: 0.9440\n",
      "Epoch 49/100\n",
      "60000/60000 [==============================] - 5s 81us/sample - loss: 0.2050 - acc: 0.9434\n",
      "Epoch 50/100\n",
      "60000/60000 [==============================] - 5s 85us/sample - loss: 0.2051 - acc: 0.9431\n",
      "Epoch 51/100\n",
      "60000/60000 [==============================] - 5s 81us/sample - loss: 0.2055 - acc: 0.94351s - \n",
      "Epoch 52/100\n",
      "60000/60000 [==============================] - 5s 79us/sample - loss: 0.2045 - acc: 0.9441\n",
      "Epoch 53/100\n",
      "60000/60000 [==============================] - 5s 78us/sample - loss: 0.2061 - acc: 0.9436\n",
      "Epoch 54/100\n",
      "60000/60000 [==============================] - 5s 78us/sample - loss: 0.2030 - acc: 0.9451\n",
      "Epoch 55/100\n",
      "60000/60000 [==============================] - 5s 79us/sample - loss: 0.2020 - acc: 0.9443\n",
      "Epoch 56/100\n",
      "60000/60000 [==============================] - 5s 78us/sample - loss: 0.1989 - acc: 0.9452\n",
      "Epoch 57/100\n",
      "60000/60000 [==============================] - 5s 79us/sample - loss: 0.2011 - acc: 0.9458\n",
      "Epoch 58/100\n",
      "60000/60000 [==============================] - 5s 78us/sample - loss: 0.1982 - acc: 0.9459\n",
      "Epoch 59/100\n",
      "60000/60000 [==============================] - 5s 83us/sample - loss: 0.1996 - acc: 0.9452\n",
      "Epoch 60/100\n",
      "60000/60000 [==============================] - 5s 79us/sample - loss: 0.1965 - acc: 0.9460\n",
      "Epoch 61/100\n",
      "60000/60000 [==============================] - 5s 79us/sample - loss: 0.2017 - acc: 0.9443\n",
      "Epoch 62/100\n",
      "60000/60000 [==============================] - 5s 78us/sample - loss: 0.2013 - acc: 0.94520s - loss: 0.2015 -\n",
      "Epoch 63/100\n",
      "60000/60000 [==============================] - 5s 83us/sample - loss: 0.1978 - acc: 0.9462\n",
      "Epoch 64/100\n",
      "60000/60000 [==============================] - 5s 79us/sample - loss: 0.1949 - acc: 0.9468\n",
      "Epoch 65/100\n",
      "60000/60000 [==============================] - 5s 79us/sample - loss: 0.2007 - acc: 0.9457\n",
      "Epoch 66/100\n",
      "60000/60000 [==============================] - 5s 78us/sample - loss: 0.1972 - acc: 0.9459\n",
      "Epoch 67/100\n",
      "60000/60000 [==============================] - 5s 78us/sample - loss: 0.2023 - acc: 0.9445\n",
      "Epoch 68/100\n",
      "60000/60000 [==============================] - 5s 82us/sample - loss: 0.1953 - acc: 0.9463\n",
      "Epoch 69/100\n",
      "60000/60000 [==============================] - 5s 84us/sample - loss: 0.1974 - acc: 0.9463\n",
      "Epoch 70/100\n",
      "60000/60000 [==============================] - 5s 82us/sample - loss: 0.1977 - acc: 0.9457\n",
      "Epoch 71/100\n",
      "60000/60000 [==============================] - 5s 83us/sample - loss: 0.1899 - acc: 0.9473\n",
      "Epoch 72/100\n",
      "60000/60000 [==============================] - 5s 82us/sample - loss: 0.1948 - acc: 0.9468\n",
      "Epoch 73/100\n",
      "60000/60000 [==============================] - 5s 82us/sample - loss: 0.1946 - acc: 0.9477\n",
      "Epoch 74/100\n",
      "60000/60000 [==============================] - 6s 101us/sample - loss: 0.1921 - acc: 0.9463\n",
      "Epoch 75/100\n",
      "60000/60000 [==============================] - 5s 83us/sample - loss: 0.1929 - acc: 0.9474\n",
      "Epoch 76/100\n",
      "60000/60000 [==============================] - 5s 85us/sample - loss: 0.1975 - acc: 0.9465\n",
      "Epoch 77/100\n",
      "60000/60000 [==============================] - 5s 84us/sample - loss: 0.1919 - acc: 0.9466\n",
      "Epoch 78/100\n"
     ]
    },
    {
     "name": "stdout",
     "output_type": "stream",
     "text": [
      "60000/60000 [==============================] - 5s 76us/sample - loss: 0.1922 - acc: 0.9477\n",
      "Epoch 79/100\n",
      "60000/60000 [==============================] - 5s 76us/sample - loss: 0.1923 - acc: 0.9473\n",
      "Epoch 80/100\n",
      "60000/60000 [==============================] - 5s 76us/sample - loss: 0.1857 - acc: 0.9494\n",
      "Epoch 81/100\n",
      "60000/60000 [==============================] - 5s 76us/sample - loss: 0.1941 - acc: 0.9470\n",
      "Epoch 82/100\n",
      "60000/60000 [==============================] - 5s 76us/sample - loss: 0.1935 - acc: 0.9470\n",
      "Epoch 83/100\n",
      "60000/60000 [==============================] - 5s 77us/sample - loss: 0.1874 - acc: 0.9481\n",
      "Epoch 84/100\n",
      "60000/60000 [==============================] - 5s 79us/sample - loss: 0.1929 - acc: 0.9478\n",
      "Epoch 85/100\n",
      "60000/60000 [==============================] - 5s 78us/sample - loss: 0.1892 - acc: 0.9474\n",
      "Epoch 86/100\n",
      "60000/60000 [==============================] - 4s 75us/sample - loss: 0.1924 - acc: 0.94740s - loss: 0.1939\n",
      "Epoch 87/100\n",
      "60000/60000 [==============================] - 5s 75us/sample - loss: 0.1833 - acc: 0.9486\n",
      "Epoch 88/100\n",
      "60000/60000 [==============================] - 5s 75us/sample - loss: 0.1954 - acc: 0.9461\n",
      "Epoch 89/100\n",
      "60000/60000 [==============================] - 5s 76us/sample - loss: 0.1852 - acc: 0.9495\n",
      "Epoch 90/100\n",
      "60000/60000 [==============================] - 5s 78us/sample - loss: 0.1922 - acc: 0.9476\n",
      "Epoch 91/100\n",
      "60000/60000 [==============================] - 5s 76us/sample - loss: 0.1892 - acc: 0.9478\n",
      "Epoch 92/100\n",
      "60000/60000 [==============================] - 4s 75us/sample - loss: 0.1842 - acc: 0.9490\n",
      "Epoch 93/100\n",
      "60000/60000 [==============================] - 5s 75us/sample - loss: 0.1934 - acc: 0.9470\n",
      "Epoch 94/100\n",
      "60000/60000 [==============================] - 5s 76us/sample - loss: 0.1866 - acc: 0.9492\n",
      "Epoch 95/100\n",
      "60000/60000 [==============================] - 5s 75us/sample - loss: 0.1921 - acc: 0.9474\n",
      "Epoch 96/100\n",
      "60000/60000 [==============================] - 5s 77us/sample - loss: 0.1913 - acc: 0.9472\n",
      "Epoch 97/100\n",
      "60000/60000 [==============================] - 5s 76us/sample - loss: 0.1842 - acc: 0.9484\n",
      "Epoch 98/100\n",
      "60000/60000 [==============================] - 4s 75us/sample - loss: 0.1843 - acc: 0.9489\n",
      "Epoch 99/100\n",
      "60000/60000 [==============================] - 5s 75us/sample - loss: 0.1902 - acc: 0.9487\n",
      "Epoch 100/100\n",
      "60000/60000 [==============================] - 4s 75us/sample - loss: 0.1899 - acc: 0.9480\n",
      "Train on 60000 samples\n",
      "Epoch 1/100\n",
      "60000/60000 [==============================] - 6s 103us/sample - loss: 0.7136 - acc: 0.7846\n",
      "Epoch 2/100\n",
      "60000/60000 [==============================] - 5s 89us/sample - loss: 0.4365 - acc: 0.8769\n",
      "Epoch 3/100\n",
      "60000/60000 [==============================] - 5s 91us/sample - loss: 0.3776 - acc: 0.8943\n",
      "Epoch 4/100\n",
      "60000/60000 [==============================] - 6s 96us/sample - loss: 0.3382 - acc: 0.9056\n",
      "Epoch 5/100\n",
      "60000/60000 [==============================] - 5s 88us/sample - loss: 0.3186 - acc: 0.9125\n",
      "Epoch 6/100\n",
      "60000/60000 [==============================] - 5s 81us/sample - loss: 0.3057 - acc: 0.9155\n",
      "Epoch 7/100\n",
      "60000/60000 [==============================] - 5s 81us/sample - loss: 0.2946 - acc: 0.9184\n",
      "Epoch 8/100\n",
      "60000/60000 [==============================] - 5s 83us/sample - loss: 0.2861 - acc: 0.9222\n",
      "Epoch 9/100\n",
      "60000/60000 [==============================] - 5s 82us/sample - loss: 0.2717 - acc: 0.9253\n",
      "Epoch 10/100\n",
      "60000/60000 [==============================] - 5s 84us/sample - loss: 0.2679 - acc: 0.9278\n",
      "Epoch 11/100\n",
      "60000/60000 [==============================] - 5s 82us/sample - loss: 0.2682 - acc: 0.9254\n",
      "Epoch 12/100\n",
      "60000/60000 [==============================] - 5s 82us/sample - loss: 0.2617 - acc: 0.9295\n",
      "Epoch 13/100\n",
      "60000/60000 [==============================] - 5s 82us/sample - loss: 0.2532 - acc: 0.9301\n",
      "Epoch 14/100\n",
      "60000/60000 [==============================] - 5s 83us/sample - loss: 0.2491 - acc: 0.9316\n",
      "Epoch 15/100\n",
      "60000/60000 [==============================] - 5s 83us/sample - loss: 0.2513 - acc: 0.9309\n",
      "Epoch 16/100\n",
      "60000/60000 [==============================] - 5s 84us/sample - loss: 0.2475 - acc: 0.9329\n",
      "Epoch 17/100\n",
      "60000/60000 [==============================] - 5s 83us/sample - loss: 0.2427 - acc: 0.9340\n",
      "Epoch 18/100\n",
      "60000/60000 [==============================] - 5s 84us/sample - loss: 0.2437 - acc: 0.9354\n",
      "Epoch 19/100\n",
      "60000/60000 [==============================] - 5s 82us/sample - loss: 0.2391 - acc: 0.9347\n",
      "Epoch 20/100\n",
      "60000/60000 [==============================] - 5s 83us/sample - loss: 0.2416 - acc: 0.9340\n",
      "Epoch 21/100\n",
      "60000/60000 [==============================] - 5s 88us/sample - loss: 0.2343 - acc: 0.9362\n",
      "Epoch 22/100\n",
      "60000/60000 [==============================] - 5s 82us/sample - loss: 0.2356 - acc: 0.9365\n",
      "Epoch 23/100\n",
      "60000/60000 [==============================] - 5s 85us/sample - loss: 0.2348 - acc: 0.9363\n",
      "Epoch 24/100\n",
      "60000/60000 [==============================] - 5s 83us/sample - loss: 0.2386 - acc: 0.9355\n",
      "Epoch 25/100\n",
      "60000/60000 [==============================] - 5s 83us/sample - loss: 0.2351 - acc: 0.9371\n",
      "Epoch 26/100\n",
      "60000/60000 [==============================] - 5s 83us/sample - loss: 0.2302 - acc: 0.9377\n",
      "Epoch 27/100\n",
      "60000/60000 [==============================] - 5s 83us/sample - loss: 0.2285 - acc: 0.9380\n",
      "Epoch 28/100\n",
      "60000/60000 [==============================] - 5s 84us/sample - loss: 0.2281 - acc: 0.9385\n",
      "Epoch 29/100\n",
      "60000/60000 [==============================] - 5s 84us/sample - loss: 0.2250 - acc: 0.9391\n",
      "Epoch 30/100\n",
      "60000/60000 [==============================] - 5s 83us/sample - loss: 0.2254 - acc: 0.9393\n",
      "Epoch 31/100\n",
      "60000/60000 [==============================] - 5s 83us/sample - loss: 0.2223 - acc: 0.9393\n",
      "Epoch 32/100\n",
      "60000/60000 [==============================] - 5s 83us/sample - loss: 0.2251 - acc: 0.9392\n",
      "Epoch 33/100\n",
      "60000/60000 [==============================] - 5s 88us/sample - loss: 0.2180 - acc: 0.9405\n",
      "Epoch 34/100\n",
      "60000/60000 [==============================] - 5s 84us/sample - loss: 0.2217 - acc: 0.9394\n",
      "Epoch 35/100\n",
      "60000/60000 [==============================] - 5s 82us/sample - loss: 0.2164 - acc: 0.9403\n",
      "Epoch 36/100\n",
      "60000/60000 [==============================] - 5s 84us/sample - loss: 0.2151 - acc: 0.9421\n",
      "Epoch 37/100\n",
      "60000/60000 [==============================] - 5s 83us/sample - loss: 0.2144 - acc: 0.9414\n",
      "Epoch 38/100\n",
      "60000/60000 [==============================] - 5s 84us/sample - loss: 0.2191 - acc: 0.9405\n",
      "Epoch 39/100\n",
      "60000/60000 [==============================] - 5s 82us/sample - loss: 0.2134 - acc: 0.9425\n",
      "Epoch 40/100\n",
      "60000/60000 [==============================] - 5s 82us/sample - loss: 0.2157 - acc: 0.9409\n",
      "Epoch 41/100\n",
      "60000/60000 [==============================] - 5s 85us/sample - loss: 0.2154 - acc: 0.9404\n",
      "Epoch 42/100\n",
      "60000/60000 [==============================] - 5s 87us/sample - loss: 0.2175 - acc: 0.9408\n",
      "Epoch 43/100\n",
      "60000/60000 [==============================] - 5s 82us/sample - loss: 0.2137 - acc: 0.9414\n",
      "Epoch 44/100\n",
      "60000/60000 [==============================] - 5s 84us/sample - loss: 0.2090 - acc: 0.9430\n",
      "Epoch 45/100\n",
      "60000/60000 [==============================] - 5s 83us/sample - loss: 0.2102 - acc: 0.9429\n",
      "Epoch 46/100\n",
      "60000/60000 [==============================] - 5s 82us/sample - loss: 0.2148 - acc: 0.9423\n",
      "Epoch 47/100\n",
      "60000/60000 [==============================] - 5s 83us/sample - loss: 0.2089 - acc: 0.9421\n",
      "Epoch 48/100\n",
      "60000/60000 [==============================] - 5s 85us/sample - loss: 0.2044 - acc: 0.9446\n",
      "Epoch 49/100\n",
      "60000/60000 [==============================] - 5s 83us/sample - loss: 0.2079 - acc: 0.9444\n",
      "Epoch 50/100\n",
      "60000/60000 [==============================] - 5s 83us/sample - loss: 0.2068 - acc: 0.9439\n",
      "Epoch 51/100\n",
      "60000/60000 [==============================] - 5s 83us/sample - loss: 0.2122 - acc: 0.9434\n",
      "Epoch 52/100\n",
      "60000/60000 [==============================] - 5s 82us/sample - loss: 0.2039 - acc: 0.9441\n",
      "Epoch 53/100\n",
      "60000/60000 [==============================] - 5s 82us/sample - loss: 0.2040 - acc: 0.9449\n",
      "Epoch 54/100\n",
      "60000/60000 [==============================] - 5s 87us/sample - loss: 0.2059 - acc: 0.9438\n",
      "Epoch 55/100\n",
      "60000/60000 [==============================] - 5s 82us/sample - loss: 0.2091 - acc: 0.9437\n",
      "Epoch 56/100\n"
     ]
    },
    {
     "name": "stdout",
     "output_type": "stream",
     "text": [
      "60000/60000 [==============================] - 5s 77us/sample - loss: 0.2032 - acc: 0.9446\n",
      "Epoch 57/100\n",
      "60000/60000 [==============================] - 5s 76us/sample - loss: 0.2027 - acc: 0.9449\n",
      "Epoch 58/100\n",
      "60000/60000 [==============================] - 5s 77us/sample - loss: 0.2008 - acc: 0.9454\n",
      "Epoch 59/100\n",
      "60000/60000 [==============================] - 5s 76us/sample - loss: 0.2028 - acc: 0.9442\n",
      "Epoch 60/100\n",
      "60000/60000 [==============================] - 5s 82us/sample - loss: 0.1985 - acc: 0.9454\n",
      "Epoch 61/100\n",
      "60000/60000 [==============================] - 5s 84us/sample - loss: 0.2032 - acc: 0.9446\n",
      "Epoch 62/100\n",
      "60000/60000 [==============================] - 5s 76us/sample - loss: 0.2007 - acc: 0.9449\n",
      "Epoch 63/100\n",
      "60000/60000 [==============================] - 5s 77us/sample - loss: 0.1989 - acc: 0.9456\n",
      "Epoch 64/100\n",
      "60000/60000 [==============================] - 5s 77us/sample - loss: 0.1999 - acc: 0.9450\n",
      "Epoch 65/100\n",
      "60000/60000 [==============================] - 5s 76us/sample - loss: 0.1993 - acc: 0.9454\n",
      "Epoch 66/100\n",
      "60000/60000 [==============================] - 5s 83us/sample - loss: 0.2023 - acc: 0.9443\n",
      "Epoch 67/100\n",
      "60000/60000 [==============================] - 5s 78us/sample - loss: 0.1984 - acc: 0.9466\n",
      "Epoch 68/100\n",
      "60000/60000 [==============================] - 5s 78us/sample - loss: 0.1984 - acc: 0.9453\n",
      "Epoch 69/100\n",
      "60000/60000 [==============================] - 5s 76us/sample - loss: 0.1976 - acc: 0.9464\n",
      "Epoch 70/100\n",
      "60000/60000 [==============================] - 5s 75us/sample - loss: 0.1963 - acc: 0.9465\n",
      "Epoch 71/100\n",
      "60000/60000 [==============================] - 4s 75us/sample - loss: 0.1948 - acc: 0.9463\n",
      "Epoch 72/100\n",
      "60000/60000 [==============================] - 4s 75us/sample - loss: 0.1988 - acc: 0.9454\n",
      "Epoch 73/100\n",
      "60000/60000 [==============================] - 5s 75us/sample - loss: 0.1922 - acc: 0.9478\n",
      "Epoch 74/100\n",
      "60000/60000 [==============================] - 4s 75us/sample - loss: 0.2001 - acc: 0.9449\n",
      "Epoch 75/100\n",
      "60000/60000 [==============================] - 4s 75us/sample - loss: 0.1992 - acc: 0.9459\n",
      "Epoch 76/100\n",
      "60000/60000 [==============================] - 5s 75us/sample - loss: 0.1925 - acc: 0.9472\n",
      "Epoch 77/100\n",
      "60000/60000 [==============================] - 4s 75us/sample - loss: 0.1959 - acc: 0.9461\n",
      "Epoch 78/100\n",
      "60000/60000 [==============================] - 4s 75us/sample - loss: 0.1903 - acc: 0.9475\n",
      "Epoch 79/100\n",
      "60000/60000 [==============================] - 4s 75us/sample - loss: 0.1922 - acc: 0.9472\n",
      "Epoch 80/100\n",
      "60000/60000 [==============================] - 4s 75us/sample - loss: 0.1956 - acc: 0.9471\n",
      "Epoch 81/100\n",
      "60000/60000 [==============================] - 5s 76us/sample - loss: 0.1931 - acc: 0.9473\n",
      "Epoch 82/100\n",
      "60000/60000 [==============================] - 5s 76us/sample - loss: 0.1931 - acc: 0.9474\n",
      "Epoch 83/100\n",
      "60000/60000 [==============================] - 5s 77us/sample - loss: 0.1918 - acc: 0.9487\n",
      "Epoch 84/100\n",
      "60000/60000 [==============================] - 4s 75us/sample - loss: 0.1982 - acc: 0.9459\n",
      "Epoch 85/100\n",
      "60000/60000 [==============================] - 5s 75us/sample - loss: 0.1932 - acc: 0.9479\n",
      "Epoch 86/100\n",
      "60000/60000 [==============================] - 5s 76us/sample - loss: 0.1939 - acc: 0.9483\n",
      "Epoch 87/100\n",
      "60000/60000 [==============================] - 4s 75us/sample - loss: 0.1913 - acc: 0.9490\n",
      "Epoch 88/100\n",
      "60000/60000 [==============================] - 4s 75us/sample - loss: 0.1937 - acc: 0.9463\n",
      "Epoch 89/100\n",
      "60000/60000 [==============================] - 4s 75us/sample - loss: 0.1957 - acc: 0.9463\n",
      "Epoch 90/100\n",
      "60000/60000 [==============================] - 4s 75us/sample - loss: 0.1951 - acc: 0.9472\n",
      "Epoch 91/100\n",
      "60000/60000 [==============================] - 5s 75us/sample - loss: 0.1918 - acc: 0.9471\n",
      "Epoch 92/100\n",
      "60000/60000 [==============================] - 4s 75us/sample - loss: 0.1959 - acc: 0.9462\n",
      "Epoch 93/100\n",
      "60000/60000 [==============================] - 4s 75us/sample - loss: 0.1932 - acc: 0.9474\n",
      "Epoch 94/100\n",
      "60000/60000 [==============================] - 5s 75us/sample - loss: 0.1905 - acc: 0.9474\n",
      "Epoch 95/100\n",
      "60000/60000 [==============================] - 5s 76us/sample - loss: 0.1911 - acc: 0.9484\n",
      "Epoch 96/100\n",
      "60000/60000 [==============================] - 5s 77us/sample - loss: 0.1901 - acc: 0.9483\n",
      "Epoch 97/100\n",
      "60000/60000 [==============================] - 4s 75us/sample - loss: 0.1935 - acc: 0.9470\n",
      "Epoch 98/100\n",
      "60000/60000 [==============================] - 4s 75us/sample - loss: 0.1896 - acc: 0.94840s - loss: 0.1906 - acc:\n",
      "Epoch 99/100\n",
      "60000/60000 [==============================] - 4s 75us/sample - loss: 0.1912 - acc: 0.9471\n",
      "Epoch 100/100\n",
      "60000/60000 [==============================] - 4s 75us/sample - loss: 0.1977 - acc: 0.9465\n",
      "Train on 60000 samples\n",
      "Epoch 1/100\n",
      "60000/60000 [==============================] - 6s 106us/sample - loss: 0.7226 - acc: 0.7796\n",
      "Epoch 2/100\n",
      "60000/60000 [==============================] - 5s 79us/sample - loss: 0.4359 - acc: 0.8767\n",
      "Epoch 3/100\n",
      "60000/60000 [==============================] - 5s 75us/sample - loss: 0.3797 - acc: 0.8943\n",
      "Epoch 4/100\n",
      "60000/60000 [==============================] - 4s 75us/sample - loss: 0.3488 - acc: 0.9031\n",
      "Epoch 5/100\n",
      "60000/60000 [==============================] - 4s 75us/sample - loss: 0.3249 - acc: 0.9093\n",
      "Epoch 6/100\n",
      "60000/60000 [==============================] - 5s 75us/sample - loss: 0.3098 - acc: 0.9150\n",
      "Epoch 7/100\n",
      "60000/60000 [==============================] - 5s 76us/sample - loss: 0.3004 - acc: 0.9169\n",
      "Epoch 8/100\n",
      "60000/60000 [==============================] - 5s 76us/sample - loss: 0.2912 - acc: 0.9194\n",
      "Epoch 9/100\n",
      "60000/60000 [==============================] - 5s 78us/sample - loss: 0.2807 - acc: 0.9229\n",
      "Epoch 10/100\n",
      "60000/60000 [==============================] - 5s 76us/sample - loss: 0.2782 - acc: 0.9239\n",
      "Epoch 11/100\n",
      "60000/60000 [==============================] - 4s 75us/sample - loss: 0.2704 - acc: 0.9263\n",
      "Epoch 12/100\n",
      "60000/60000 [==============================] - 4s 75us/sample - loss: 0.2646 - acc: 0.9271\n",
      "Epoch 13/100\n",
      "60000/60000 [==============================] - 5s 75us/sample - loss: 0.2563 - acc: 0.9298\n",
      "Epoch 14/100\n",
      "60000/60000 [==============================] - 5s 75us/sample - loss: 0.2602 - acc: 0.9297\n",
      "Epoch 15/100\n",
      "60000/60000 [==============================] - 5s 76us/sample - loss: 0.2545 - acc: 0.9298\n",
      "Epoch 16/100\n",
      "60000/60000 [==============================] - 4s 75us/sample - loss: 0.2502 - acc: 0.9311\n",
      "Epoch 17/100\n",
      "60000/60000 [==============================] - 4s 75us/sample - loss: 0.2479 - acc: 0.9315\n",
      "Epoch 18/100\n",
      "60000/60000 [==============================] - 5s 75us/sample - loss: 0.2457 - acc: 0.9323\n",
      "Epoch 19/100\n",
      "60000/60000 [==============================] - 5s 75us/sample - loss: 0.2434 - acc: 0.9336\n",
      "Epoch 20/100\n",
      "60000/60000 [==============================] - 5s 75us/sample - loss: 0.2403 - acc: 0.9338\n",
      "Epoch 21/100\n",
      "60000/60000 [==============================] - 4s 75us/sample - loss: 0.2376 - acc: 0.93540s - loss: 0.2360 -\n",
      "Epoch 22/100\n",
      "60000/60000 [==============================] - 5s 77us/sample - loss: 0.2418 - acc: 0.9342\n",
      "Epoch 23/100\n",
      "60000/60000 [==============================] - 5s 78us/sample - loss: 0.2400 - acc: 0.9347\n",
      "Epoch 24/100\n",
      "60000/60000 [==============================] - 5s 79us/sample - loss: 0.2401 - acc: 0.9356\n",
      "Epoch 25/100\n",
      "60000/60000 [==============================] - 5s 76us/sample - loss: 0.2375 - acc: 0.9355\n",
      "Epoch 26/100\n",
      "60000/60000 [==============================] - 5s 76us/sample - loss: 0.2297 - acc: 0.9375\n",
      "Epoch 27/100\n",
      "60000/60000 [==============================] - 5s 76us/sample - loss: 0.2304 - acc: 0.9388\n",
      "Epoch 28/100\n",
      "60000/60000 [==============================] - 5s 75us/sample - loss: 0.2291 - acc: 0.9367\n",
      "Epoch 29/100\n",
      "60000/60000 [==============================] - 5s 75us/sample - loss: 0.2329 - acc: 0.9376\n",
      "Epoch 30/100\n",
      "60000/60000 [==============================] - 5s 75us/sample - loss: 0.2194 - acc: 0.9401\n",
      "Epoch 31/100\n",
      "60000/60000 [==============================] - 5s 76us/sample - loss: 0.2229 - acc: 0.9397\n",
      "Epoch 32/100\n",
      "60000/60000 [==============================] - 5s 76us/sample - loss: 0.2259 - acc: 0.9374\n",
      "Epoch 33/100\n",
      "60000/60000 [==============================] - 5s 75us/sample - loss: 0.2260 - acc: 0.9382\n",
      "Epoch 34/100\n"
     ]
    },
    {
     "name": "stdout",
     "output_type": "stream",
     "text": [
      "60000/60000 [==============================] - 4s 75us/sample - loss: 0.2231 - acc: 0.9396\n",
      "Epoch 35/100\n",
      "60000/60000 [==============================] - 5s 78us/sample - loss: 0.2212 - acc: 0.9402\n",
      "Epoch 36/100\n",
      "60000/60000 [==============================] - 4s 69us/sample - loss: 0.2210 - acc: 0.9391\n",
      "Epoch 37/100\n",
      "60000/60000 [==============================] - 4s 70us/sample - loss: 0.2202 - acc: 0.9397\n",
      "Epoch 38/100\n",
      "60000/60000 [==============================] - 4s 70us/sample - loss: 0.2153 - acc: 0.9407\n",
      "Epoch 39/100\n",
      "60000/60000 [==============================] - 4s 70us/sample - loss: 0.2159 - acc: 0.9410\n",
      "Epoch 40/100\n",
      "60000/60000 [==============================] - 1815s 30ms/sample - loss: 0.2180 - acc: 0.9404:15 - loss: 0.\n",
      "Epoch 41/100\n",
      "60000/60000 [==============================] - 8s 136us/sample - loss: 0.2152 - acc: 0.9410\n",
      "Epoch 42/100\n",
      "60000/60000 [==============================] - 7s 111us/sample - loss: 0.2125 - acc: 0.9412\n",
      "Epoch 43/100\n",
      "60000/60000 [==============================] - 6s 105us/sample - loss: 0.2160 - acc: 0.9419\n",
      "Epoch 44/100\n",
      "60000/60000 [==============================] - 7s 120us/sample - loss: 0.2119 - acc: 0.9417\n",
      "Epoch 45/100\n",
      "60000/60000 [==============================] - 7s 116us/sample - loss: 0.2116 - acc: 0.9420\n",
      "Epoch 46/100\n",
      "60000/60000 [==============================] - 6s 106us/sample - loss: 0.2143 - acc: 0.9408\n",
      "Epoch 47/100\n",
      "60000/60000 [==============================] - 5s 91us/sample - loss: 0.2087 - acc: 0.9428\n",
      "Epoch 48/100\n",
      "60000/60000 [==============================] - 6s 104us/sample - loss: 0.2066 - acc: 0.9430\n",
      "Epoch 49/100\n",
      "60000/60000 [==============================] - 6s 97us/sample - loss: 0.2134 - acc: 0.9414\n",
      "Epoch 50/100\n",
      "60000/60000 [==============================] - 7s 124us/sample - loss: 0.2097 - acc: 0.9435\n",
      "Epoch 51/100\n",
      "60000/60000 [==============================] - 6s 101us/sample - loss: 0.2064 - acc: 0.9436s - loss: 0.2064 - acc: 0.\n",
      "Epoch 52/100\n",
      "60000/60000 [==============================] - 5s 80us/sample - loss: 0.2015 - acc: 0.9442\n",
      "Epoch 53/100\n",
      "60000/60000 [==============================] - 5s 85us/sample - loss: 0.2033 - acc: 0.9439\n",
      "Epoch 54/100\n",
      "60000/60000 [==============================] - 5s 86us/sample - loss: 0.2029 - acc: 0.9440\n",
      "Epoch 55/100\n",
      "60000/60000 [==============================] - 5s 85us/sample - loss: 0.2096 - acc: 0.9427\n",
      "Epoch 56/100\n",
      "60000/60000 [==============================] - 6s 100us/sample - loss: 0.2045 - acc: 0.9439\n",
      "Epoch 57/100\n",
      "60000/60000 [==============================] - 4s 72us/sample - loss: 0.2074 - acc: 0.9422\n",
      "Epoch 58/100\n",
      "60000/60000 [==============================] - 5s 76us/sample - loss: 0.2037 - acc: 0.9434\n",
      "Epoch 59/100\n",
      "60000/60000 [==============================] - 5s 80us/sample - loss: 0.2030 - acc: 0.9436\n",
      "Epoch 60/100\n",
      "60000/60000 [==============================] - 5s 85us/sample - loss: 0.1996 - acc: 0.9454\n",
      "Epoch 61/100\n",
      "60000/60000 [==============================] - 5s 80us/sample - loss: 0.1963 - acc: 0.9455\n",
      "Epoch 62/100\n",
      "60000/60000 [==============================] - 6s 101us/sample - loss: 0.2021 - acc: 0.9452\n",
      "Epoch 63/100\n",
      "60000/60000 [==============================] - 6s 96us/sample - loss: 0.2039 - acc: 0.9440\n",
      "Epoch 64/100\n",
      "60000/60000 [==============================] - 6s 101us/sample - loss: 0.2008 - acc: 0.9434\n",
      "Epoch 65/100\n",
      "60000/60000 [==============================] - 4s 72us/sample - loss: 0.2017 - acc: 0.9446\n",
      "Epoch 66/100\n",
      "60000/60000 [==============================] - 5s 79us/sample - loss: 0.2000 - acc: 0.9446\n",
      "Epoch 67/100\n",
      "60000/60000 [==============================] - 6s 96us/sample - loss: 0.2012 - acc: 0.94524s \n",
      "Epoch 68/100\n",
      "60000/60000 [==============================] - 5s 88us/sample - loss: 0.1990 - acc: 0.9455\n",
      "Epoch 69/100\n",
      "60000/60000 [==============================] - 5s 75us/sample - loss: 0.1965 - acc: 0.9459\n",
      "Epoch 70/100\n",
      "60000/60000 [==============================] - 5s 75us/sample - loss: 0.2001 - acc: 0.9454\n",
      "Epoch 71/100\n",
      "60000/60000 [==============================] - 4s 73us/sample - loss: 0.1993 - acc: 0.9466\n",
      "Epoch 72/100\n",
      "60000/60000 [==============================] - 4s 75us/sample - loss: 0.1997 - acc: 0.9449\n",
      "Epoch 73/100\n",
      "60000/60000 [==============================] - 4s 74us/sample - loss: 0.1951 - acc: 0.9471\n",
      "Epoch 74/100\n",
      "60000/60000 [==============================] - 4s 72us/sample - loss: 0.2036 - acc: 0.9443\n",
      "Epoch 75/100\n",
      "60000/60000 [==============================] - 4s 73us/sample - loss: 0.1963 - acc: 0.9460\n",
      "Epoch 76/100\n",
      "60000/60000 [==============================] - 4s 72us/sample - loss: 0.1949 - acc: 0.9473\n",
      "Epoch 77/100\n",
      "60000/60000 [==============================] - 4s 72us/sample - loss: 0.1974 - acc: 0.9458\n",
      "Epoch 78/100\n",
      "60000/60000 [==============================] - 6s 105us/sample - loss: 0.1943 - acc: 0.9475\n",
      "Epoch 79/100\n",
      "60000/60000 [==============================] - 11s 176us/sample - loss: 0.2001 - acc: 0.9462\n",
      "Epoch 80/100\n",
      "60000/60000 [==============================] - 10s 162us/sample - loss: 0.1962 - acc: 0.9460\n",
      "Epoch 81/100\n",
      "60000/60000 [==============================] - 8s 136us/sample - loss: 0.1927 - acc: 0.9465\n",
      "Epoch 82/100\n",
      "60000/60000 [==============================] - 9s 147us/sample - loss: 0.1971 - acc: 0.9454s - loss: \n",
      "Epoch 83/100\n",
      "60000/60000 [==============================] - 8s 127us/sample - loss: 0.1878 - acc: 0.9482\n",
      "Epoch 84/100\n",
      "60000/60000 [==============================] - 6s 106us/sample - loss: 0.1940 - acc: 0.9463\n",
      "Epoch 85/100\n",
      "60000/60000 [==============================] - 6s 95us/sample - loss: 0.1914 - acc: 0.9482\n",
      "Epoch 86/100\n",
      "60000/60000 [==============================] - 6s 98us/sample - loss: 0.1895 - acc: 0.9474\n",
      "Epoch 87/100\n",
      "60000/60000 [==============================] - 5s 88us/sample - loss: 0.1875 - acc: 0.9484\n",
      "Epoch 88/100\n",
      "60000/60000 [==============================] - 6s 92us/sample - loss: 0.1948 - acc: 0.9471\n",
      "Epoch 89/100\n",
      "60000/60000 [==============================] - 6s 94us/sample - loss: 0.1903 - acc: 0.9480\n",
      "Epoch 90/100\n",
      "60000/60000 [==============================] - 7s 118us/sample - loss: 0.1915 - acc: 0.9480\n",
      "Epoch 91/100\n",
      "60000/60000 [==============================] - 6s 104us/sample - loss: 0.1948 - acc: 0.9462\n",
      "Epoch 92/100\n",
      "60000/60000 [==============================] - 6s 98us/sample - loss: 0.1946 - acc: 0.9468\n",
      "Epoch 93/100\n",
      "60000/60000 [==============================] - 6s 100us/sample - loss: 0.1895 - acc: 0.9476\n",
      "Epoch 94/100\n",
      "60000/60000 [==============================] - 6s 105us/sample - loss: 0.1943 - acc: 0.9475\n",
      "Epoch 95/100\n",
      "60000/60000 [==============================] - 6s 103us/sample - loss: 0.1947 - acc: 0.9470\n",
      "Epoch 96/100\n",
      "60000/60000 [==============================] - 7s 112us/sample - loss: 0.1903 - acc: 0.9477\n",
      "Epoch 97/100\n",
      "60000/60000 [==============================] - 6s 107us/sample - loss: 0.1871 - acc: 0.9485\n",
      "Epoch 98/100\n",
      "60000/60000 [==============================] - 7s 120us/sample - loss: 0.1926 - acc: 0.9478\n",
      "Epoch 99/100\n",
      "60000/60000 [==============================] - 6s 101us/sample - loss: 0.1872 - acc: 0.9484\n",
      "Epoch 100/100\n",
      "60000/60000 [==============================] - 6s 95us/sample - loss: 0.1859 - acc: 0.9485\n",
      "Train on 60000 samples\n",
      "Epoch 1/100\n",
      "60000/60000 [==============================] - 7s 124us/sample - loss: 0.7224 - acc: 0.7811\n",
      "Epoch 2/100\n",
      "60000/60000 [==============================] - 6s 98us/sample - loss: 0.4294 - acc: 0.8786\n",
      "Epoch 3/100\n",
      "60000/60000 [==============================] - 6s 102us/sample - loss: 0.3732 - acc: 0.8953\n",
      "Epoch 4/100\n",
      "60000/60000 [==============================] - 6s 98us/sample - loss: 0.3474 - acc: 0.9048\n",
      "Epoch 5/100\n",
      "60000/60000 [==============================] - 6s 98us/sample - loss: 0.3273 - acc: 0.9090\n",
      "Epoch 6/100\n",
      "60000/60000 [==============================] - 6s 98us/sample - loss: 0.3028 - acc: 0.9143\n",
      "Epoch 7/100\n",
      "60000/60000 [==============================] - 6s 97us/sample - loss: 0.2974 - acc: 0.9188\n",
      "Epoch 8/100\n",
      "60000/60000 [==============================] - 6s 98us/sample - loss: 0.2862 - acc: 0.9219\n",
      "Epoch 9/100\n",
      "60000/60000 [==============================] - 6s 99us/sample - loss: 0.2773 - acc: 0.9242\n",
      "Epoch 10/100\n",
      "60000/60000 [==============================] - 6s 96us/sample - loss: 0.2735 - acc: 0.9246\n",
      "Epoch 11/100\n"
     ]
    },
    {
     "name": "stdout",
     "output_type": "stream",
     "text": [
      "60000/60000 [==============================] - 5s 90us/sample - loss: 0.2731 - acc: 0.9241\n",
      "Epoch 12/100\n",
      "60000/60000 [==============================] - 5s 91us/sample - loss: 0.2620 - acc: 0.9276\n",
      "Epoch 13/100\n",
      "60000/60000 [==============================] - 5s 90us/sample - loss: 0.2574 - acc: 0.9305\n",
      "Epoch 14/100\n",
      "60000/60000 [==============================] - 6s 93us/sample - loss: 0.2570 - acc: 0.9294\n",
      "Epoch 15/100\n",
      "60000/60000 [==============================] - 6s 92us/sample - loss: 0.2552 - acc: 0.9297\n",
      "Epoch 16/100\n",
      "60000/60000 [==============================] - 7s 120us/sample - loss: 0.2520 - acc: 0.9316\n",
      "Epoch 17/100\n",
      "60000/60000 [==============================] - 7s 122us/sample - loss: 0.2414 - acc: 0.9330\n",
      "Epoch 18/100\n",
      "60000/60000 [==============================] - 6s 103us/sample - loss: 0.2482 - acc: 0.9313\n",
      "Epoch 19/100\n",
      "60000/60000 [==============================] - 6s 97us/sample - loss: 0.2466 - acc: 0.9321\n",
      "Epoch 20/100\n",
      "60000/60000 [==============================] - 5s 89us/sample - loss: 0.2425 - acc: 0.9335\n",
      "Epoch 21/100\n",
      "60000/60000 [==============================] - 6s 101us/sample - loss: 0.2390 - acc: 0.9347\n",
      "Epoch 22/100\n",
      "60000/60000 [==============================] - 5s 90us/sample - loss: 0.2400 - acc: 0.9345\n",
      "Epoch 23/100\n",
      "60000/60000 [==============================] - 5s 91us/sample - loss: 0.2359 - acc: 0.9363\n",
      "Epoch 24/100\n",
      "60000/60000 [==============================] - 5s 89us/sample - loss: 0.2296 - acc: 0.9363\n",
      "Epoch 25/100\n",
      "60000/60000 [==============================] - 6s 100us/sample - loss: 0.2355 - acc: 0.9355\n",
      "Epoch 26/100\n",
      "60000/60000 [==============================] - 6s 93us/sample - loss: 0.2269 - acc: 0.93790s - loss: 0.2281 - acc: 0.9\n",
      "Epoch 27/100\n",
      "60000/60000 [==============================] - 6s 97us/sample - loss: 0.2297 - acc: 0.9379\n",
      "Epoch 28/100\n",
      "60000/60000 [==============================] - 7s 109us/sample - loss: 0.2225 - acc: 0.9388s - loss: 0.2229 - acc: 0.\n",
      "Epoch 29/100\n",
      "60000/60000 [==============================] - 6s 93us/sample - loss: 0.2208 - acc: 0.9396\n",
      "Epoch 30/100\n",
      "60000/60000 [==============================] - 6s 101us/sample - loss: 0.2233 - acc: 0.9387\n",
      "Epoch 31/100\n",
      "60000/60000 [==============================] - 6s 100us/sample - loss: 0.2230 - acc: 0.9389\n",
      "Epoch 32/100\n",
      "60000/60000 [==============================] - 6s 94us/sample - loss: 0.2229 - acc: 0.9392\n",
      "Epoch 33/100\n",
      "60000/60000 [==============================] - 6s 98us/sample - loss: 0.2240 - acc: 0.9376\n",
      "Epoch 34/100\n",
      "60000/60000 [==============================] - 6s 95us/sample - loss: 0.2166 - acc: 0.9405\n",
      "Epoch 35/100\n",
      "60000/60000 [==============================] - 5s 91us/sample - loss: 0.2140 - acc: 0.9416\n",
      "Epoch 36/100\n",
      "60000/60000 [==============================] - 5s 91us/sample - loss: 0.2135 - acc: 0.9418\n",
      "Epoch 37/100\n",
      "60000/60000 [==============================] - 6s 97us/sample - loss: 0.2116 - acc: 0.9422\n",
      "Epoch 38/100\n",
      "60000/60000 [==============================] - 5s 92us/sample - loss: 0.2171 - acc: 0.9399\n",
      "Epoch 39/100\n",
      "60000/60000 [==============================] - 5s 90us/sample - loss: 0.2136 - acc: 0.9415\n",
      "Epoch 40/100\n",
      "60000/60000 [==============================] - 6s 95us/sample - loss: 0.2100 - acc: 0.9424\n",
      "Epoch 41/100\n",
      "60000/60000 [==============================] - 6s 95us/sample - loss: 0.2100 - acc: 0.9422\n",
      "Epoch 42/100\n",
      "60000/60000 [==============================] - 6s 95us/sample - loss: 0.2129 - acc: 0.9427\n",
      "Epoch 43/100\n",
      "60000/60000 [==============================] - 6s 97us/sample - loss: 0.2139 - acc: 0.9421\n",
      "Epoch 44/100\n",
      "60000/60000 [==============================] - 6s 96us/sample - loss: 0.2101 - acc: 0.9428\n",
      "Epoch 45/100\n",
      "60000/60000 [==============================] - 6s 101us/sample - loss: 0.2114 - acc: 0.9412s - loss: 0.\n",
      "Epoch 46/100\n",
      "60000/60000 [==============================] - 6s 96us/sample - loss: 0.2064 - acc: 0.9427\n",
      "Epoch 47/100\n",
      "60000/60000 [==============================] - 6s 104us/sample - loss: 0.2070 - acc: 0.9440\n",
      "Epoch 48/100\n",
      "60000/60000 [==============================] - 6s 99us/sample - loss: 0.2069 - acc: 0.9443\n",
      "Epoch 49/100\n",
      "60000/60000 [==============================] - 6s 97us/sample - loss: 0.2057 - acc: 0.9435\n",
      "Epoch 50/100\n",
      "60000/60000 [==============================] - 6s 99us/sample - loss: 0.2026 - acc: 0.94430s - loss: 0.203\n",
      "Epoch 51/100\n",
      "60000/60000 [==============================] - 6s 98us/sample - loss: 0.2044 - acc: 0.9449\n",
      "Epoch 52/100\n",
      "60000/60000 [==============================] - 6s 96us/sample - loss: 0.2027 - acc: 0.9449\n",
      "Epoch 53/100\n",
      "60000/60000 [==============================] - 6s 97us/sample - loss: 0.2095 - acc: 0.9437\n",
      "Epoch 54/100\n",
      "60000/60000 [==============================] - 6s 96us/sample - loss: 0.2077 - acc: 0.9434\n",
      "Epoch 55/100\n",
      "60000/60000 [==============================] - 6s 97us/sample - loss: 0.2012 - acc: 0.9449\n",
      "Epoch 56/100\n",
      "60000/60000 [==============================] - 6s 98us/sample - loss: 0.2002 - acc: 0.9444\n",
      "Epoch 57/100\n",
      "60000/60000 [==============================] - 6s 100us/sample - loss: 0.2022 - acc: 0.9452\n",
      "Epoch 58/100\n",
      "60000/60000 [==============================] - 5s 84us/sample - loss: 0.2003 - acc: 0.9458\n",
      "Epoch 59/100\n",
      "60000/60000 [==============================] - 5s 86us/sample - loss: 0.1995 - acc: 0.9449\n",
      "Epoch 60/100\n",
      "60000/60000 [==============================] - 5s 86us/sample - loss: 0.2015 - acc: 0.9454\n",
      "Epoch 61/100\n",
      "60000/60000 [==============================] - 5s 87us/sample - loss: 0.2045 - acc: 0.9442\n",
      "Epoch 62/100\n",
      "60000/60000 [==============================] - 5s 84us/sample - loss: 0.2017 - acc: 0.9444\n",
      "Epoch 63/100\n",
      "60000/60000 [==============================] - 5s 85us/sample - loss: 0.1965 - acc: 0.9465\n",
      "Epoch 64/100\n",
      "60000/60000 [==============================] - 5s 83us/sample - loss: 0.1980 - acc: 0.9458\n",
      "Epoch 65/100\n",
      "60000/60000 [==============================] - 5s 82us/sample - loss: 0.1951 - acc: 0.9462\n",
      "Epoch 66/100\n",
      "60000/60000 [==============================] - 5s 85us/sample - loss: 0.1952 - acc: 0.9460\n",
      "Epoch 67/100\n",
      "60000/60000 [==============================] - 5s 84us/sample - loss: 0.1972 - acc: 0.9463\n",
      "Epoch 68/100\n",
      "60000/60000 [==============================] - 5s 85us/sample - loss: 0.1979 - acc: 0.9451\n",
      "Epoch 69/100\n",
      "60000/60000 [==============================] - 5s 84us/sample - loss: 0.1990 - acc: 0.9453\n",
      "Epoch 70/100\n",
      "60000/60000 [==============================] - 5s 83us/sample - loss: 0.1971 - acc: 0.9453\n",
      "Epoch 71/100\n",
      "60000/60000 [==============================] - 5s 83us/sample - loss: 0.1920 - acc: 0.9471\n",
      "Epoch 72/100\n",
      "60000/60000 [==============================] - 5s 84us/sample - loss: 0.1948 - acc: 0.9452\n",
      "Epoch 73/100\n",
      "60000/60000 [==============================] - 5s 85us/sample - loss: 0.1930 - acc: 0.9480\n",
      "Epoch 74/100\n",
      "60000/60000 [==============================] - 5s 84us/sample - loss: 0.1944 - acc: 0.9460\n",
      "Epoch 75/100\n",
      "60000/60000 [==============================] - 5s 84us/sample - loss: 0.1943 - acc: 0.9473\n",
      "Epoch 76/100\n",
      "60000/60000 [==============================] - 5s 83us/sample - loss: 0.1936 - acc: 0.9469\n",
      "Epoch 77/100\n",
      "60000/60000 [==============================] - 5s 84us/sample - loss: 0.1873 - acc: 0.94841s - l\n",
      "Epoch 78/100\n",
      "60000/60000 [==============================] - 5s 83us/sample - loss: 0.1981 - acc: 0.9459\n",
      "Epoch 79/100\n",
      "60000/60000 [==============================] - 5s 84us/sample - loss: 0.1957 - acc: 0.9473\n",
      "Epoch 80/100\n",
      "60000/60000 [==============================] - 5s 83us/sample - loss: 0.1926 - acc: 0.9469\n",
      "Epoch 81/100\n",
      "60000/60000 [==============================] - 5s 84us/sample - loss: 0.1973 - acc: 0.9456\n",
      "Epoch 82/100\n",
      "60000/60000 [==============================] - 5s 85us/sample - loss: 0.1866 - acc: 0.9488\n",
      "Epoch 83/100\n",
      "60000/60000 [==============================] - 5s 88us/sample - loss: 0.1933 - acc: 0.9463\n",
      "Epoch 84/100\n",
      "60000/60000 [==============================] - 6s 96us/sample - loss: 0.1867 - acc: 0.9482\n",
      "Epoch 85/100\n",
      "60000/60000 [==============================] - 6s 99us/sample - loss: 0.1955 - acc: 0.9467\n",
      "Epoch 86/100\n",
      "60000/60000 [==============================] - 5s 84us/sample - loss: 0.1932 - acc: 0.9473\n",
      "Epoch 87/100\n",
      "60000/60000 [==============================] - 5s 87us/sample - loss: 0.1909 - acc: 0.9483\n",
      "Epoch 88/100\n",
      "60000/60000 [==============================] - 5s 86us/sample - loss: 0.1959 - acc: 0.9465\n"
     ]
    },
    {
     "name": "stdout",
     "output_type": "stream",
     "text": [
      "Epoch 89/100\n",
      "60000/60000 [==============================] - 5s 89us/sample - loss: 0.1869 - acc: 0.9487\n",
      "Epoch 90/100\n",
      "60000/60000 [==============================] - 6s 106us/sample - loss: 0.1890 - acc: 0.9483\n",
      "Epoch 91/100\n",
      "60000/60000 [==============================] - 5s 83us/sample - loss: 0.1867 - acc: 0.9499\n",
      "Epoch 92/100\n",
      "60000/60000 [==============================] - 6s 93us/sample - loss: 0.1946 - acc: 0.9471\n",
      "Epoch 93/100\n",
      "60000/60000 [==============================] - 6s 101us/sample - loss: 0.1872 - acc: 0.9482\n",
      "Epoch 94/100\n",
      "60000/60000 [==============================] - 5s 88us/sample - loss: 0.1933 - acc: 0.9470\n",
      "Epoch 95/100\n",
      "60000/60000 [==============================] - 5s 83us/sample - loss: 0.1889 - acc: 0.9481\n",
      "Epoch 96/100\n",
      "60000/60000 [==============================] - 6s 93us/sample - loss: 0.1899 - acc: 0.9477\n",
      "Epoch 97/100\n",
      "60000/60000 [==============================] - 5s 84us/sample - loss: 0.1883 - acc: 0.9492\n",
      "Epoch 98/100\n",
      "60000/60000 [==============================] - 6s 103us/sample - loss: 0.1914 - acc: 0.9474\n",
      "Epoch 99/100\n",
      "60000/60000 [==============================] - 5s 84us/sample - loss: 0.1893 - acc: 0.9489\n",
      "Epoch 100/100\n",
      "60000/60000 [==============================] - 5s 84us/sample - loss: 0.1885 - acc: 0.9480\n",
      "Train on 60000 samples\n",
      "Epoch 1/100\n",
      "60000/60000 [==============================] - 7s 119us/sample - loss: 0.7249 - acc: 0.7821\n",
      "Epoch 2/100\n",
      "60000/60000 [==============================] - 5s 83us/sample - loss: 0.4311 - acc: 0.8766\n",
      "Epoch 3/100\n",
      "60000/60000 [==============================] - 7s 117us/sample - loss: 0.3765 - acc: 0.8934s -\n",
      "Epoch 4/100\n",
      "60000/60000 [==============================] - 5s 85us/sample - loss: 0.3439 - acc: 0.9054\n",
      "Epoch 5/100\n",
      "60000/60000 [==============================] - 5s 83us/sample - loss: 0.3183 - acc: 0.9111\n",
      "Epoch 6/100\n",
      "60000/60000 [==============================] - 5s 83us/sample - loss: 0.3130 - acc: 0.9124\n",
      "Epoch 7/100\n",
      "60000/60000 [==============================] - 5s 84us/sample - loss: 0.2971 - acc: 0.9177\n",
      "Epoch 8/100\n",
      "60000/60000 [==============================] - 5s 87us/sample - loss: 0.2827 - acc: 0.9210\n",
      "Epoch 9/100\n",
      "60000/60000 [==============================] - 5s 83us/sample - loss: 0.2829 - acc: 0.9213\n",
      "Epoch 10/100\n",
      "60000/60000 [==============================] - 6s 98us/sample - loss: 0.2748 - acc: 0.9244\n",
      "Epoch 11/100\n",
      "60000/60000 [==============================] - 6s 100us/sample - loss: 0.2690 - acc: 0.9260\n",
      "Epoch 12/100\n",
      "60000/60000 [==============================] - 5s 83us/sample - loss: 0.2680 - acc: 0.9269\n",
      "Epoch 13/100\n",
      "60000/60000 [==============================] - 5s 79us/sample - loss: 0.2636 - acc: 0.9278\n",
      "Epoch 14/100\n",
      "60000/60000 [==============================] - 6s 96us/sample - loss: 0.2576 - acc: 0.9287\n",
      "Epoch 15/100\n",
      "60000/60000 [==============================] - 5s 78us/sample - loss: 0.2603 - acc: 0.9287\n",
      "Epoch 16/100\n",
      "60000/60000 [==============================] - 5s 85us/sample - loss: 0.2493 - acc: 0.9321\n",
      "Epoch 17/100\n",
      "60000/60000 [==============================] - 5s 90us/sample - loss: 0.2519 - acc: 0.9308\n",
      "Epoch 18/100\n",
      "60000/60000 [==============================] - 6s 106us/sample - loss: 0.2475 - acc: 0.9314\n",
      "Epoch 19/100\n",
      "60000/60000 [==============================] - 6s 101us/sample - loss: 0.2443 - acc: 0.9326\n",
      "Epoch 20/100\n",
      "60000/60000 [==============================] - 5s 89us/sample - loss: 0.2462 - acc: 0.9327\n",
      "Epoch 21/100\n",
      "60000/60000 [==============================] - 5s 90us/sample - loss: 0.2379 - acc: 0.9349\n",
      "Epoch 22/100\n",
      "60000/60000 [==============================] - 5s 91us/sample - loss: 0.2382 - acc: 0.9344\n",
      "Epoch 23/100\n",
      "60000/60000 [==============================] - 5s 76us/sample - loss: 0.2355 - acc: 0.9361\n",
      "Epoch 24/100\n",
      "60000/60000 [==============================] - 5s 89us/sample - loss: 0.2375 - acc: 0.9366\n",
      "Epoch 25/100\n",
      "60000/60000 [==============================] - 5s 79us/sample - loss: 0.2343 - acc: 0.9357\n",
      "Epoch 26/100\n",
      "60000/60000 [==============================] - 4s 73us/sample - loss: 0.2304 - acc: 0.9355\n",
      "Epoch 27/100\n",
      "60000/60000 [==============================] - 6s 94us/sample - loss: 0.2327 - acc: 0.9368\n",
      "Epoch 28/100\n",
      "60000/60000 [==============================] - 4s 74us/sample - loss: 0.2311 - acc: 0.9368\n",
      "Epoch 29/100\n",
      "60000/60000 [==============================] - 6s 107us/sample - loss: 0.2268 - acc: 0.9387\n",
      "Epoch 30/100\n",
      "60000/60000 [==============================] - 5s 77us/sample - loss: 0.2269 - acc: 0.9371\n",
      "Epoch 31/100\n",
      "60000/60000 [==============================] - 4s 71us/sample - loss: 0.2217 - acc: 0.9402\n",
      "Epoch 32/100\n",
      "60000/60000 [==============================] - 4s 73us/sample - loss: 0.2219 - acc: 0.9384\n",
      "Epoch 33/100\n",
      "60000/60000 [==============================] - 4s 73us/sample - loss: 0.2231 - acc: 0.9396\n",
      "Epoch 34/100\n",
      "60000/60000 [==============================] - 4s 71us/sample - loss: 0.2181 - acc: 0.9396\n",
      "Epoch 35/100\n",
      "60000/60000 [==============================] - 5s 79us/sample - loss: 0.2249 - acc: 0.9377\n",
      "Epoch 36/100\n",
      "60000/60000 [==============================] - 4s 74us/sample - loss: 0.2156 - acc: 0.9408\n",
      "Epoch 37/100\n",
      "60000/60000 [==============================] - 4s 72us/sample - loss: 0.2168 - acc: 0.9405\n",
      "Epoch 38/100\n",
      "60000/60000 [==============================] - 4s 69us/sample - loss: 0.2173 - acc: 0.9407\n",
      "Epoch 39/100\n",
      "60000/60000 [==============================] - 4s 73us/sample - loss: 0.2174 - acc: 0.9403\n",
      "Epoch 40/100\n",
      "60000/60000 [==============================] - 4s 71us/sample - loss: 0.2130 - acc: 0.9427\n",
      "Epoch 41/100\n",
      "60000/60000 [==============================] - 4s 71us/sample - loss: 0.2153 - acc: 0.9416\n",
      "Epoch 42/100\n",
      "60000/60000 [==============================] - 5s 78us/sample - loss: 0.2152 - acc: 0.9408\n",
      "Epoch 43/100\n",
      "60000/60000 [==============================] - 5s 75us/sample - loss: 0.2142 - acc: 0.9417\n",
      "Epoch 44/100\n",
      "60000/60000 [==============================] - 4s 74us/sample - loss: 0.2095 - acc: 0.9421\n",
      "Epoch 45/100\n",
      "60000/60000 [==============================] - 4s 70us/sample - loss: 0.2130 - acc: 0.9407\n",
      "Epoch 46/100\n",
      "60000/60000 [==============================] - 4s 69us/sample - loss: 0.2121 - acc: 0.9420\n",
      "Epoch 47/100\n",
      "60000/60000 [==============================] - 4s 70us/sample - loss: 0.2082 - acc: 0.9424\n",
      "Epoch 48/100\n",
      "60000/60000 [==============================] - 4s 70us/sample - loss: 0.2091 - acc: 0.9417\n",
      "Epoch 49/100\n",
      "60000/60000 [==============================] - 4s 70us/sample - loss: 0.2090 - acc: 0.9436\n",
      "Epoch 50/100\n",
      "60000/60000 [==============================] - 4s 70us/sample - loss: 0.2100 - acc: 0.9426\n",
      "Epoch 51/100\n",
      "60000/60000 [==============================] - 4s 72us/sample - loss: 0.2073 - acc: 0.9436\n",
      "Epoch 52/100\n",
      "60000/60000 [==============================] - 4s 75us/sample - loss: 0.2129 - acc: 0.9416\n",
      "Epoch 53/100\n",
      "60000/60000 [==============================] - 4s 73us/sample - loss: 0.2072 - acc: 0.9429\n",
      "Epoch 54/100\n",
      "60000/60000 [==============================] - 5s 78us/sample - loss: 0.2086 - acc: 0.9438\n",
      "Epoch 55/100\n",
      "60000/60000 [==============================] - 5s 81us/sample - loss: 0.2017 - acc: 0.9441\n",
      "Epoch 56/100\n",
      "60000/60000 [==============================] - 4s 75us/sample - loss: 0.2022 - acc: 0.9448\n",
      "Epoch 57/100\n",
      "60000/60000 [==============================] - 5s 91us/sample - loss: 0.2035 - acc: 0.9438\n",
      "Epoch 58/100\n",
      "60000/60000 [==============================] - 6s 96us/sample - loss: 0.2010 - acc: 0.9446\n",
      "Epoch 59/100\n",
      "60000/60000 [==============================] - 5s 79us/sample - loss: 0.2007 - acc: 0.9441\n",
      "Epoch 60/100\n",
      "60000/60000 [==============================] - 5s 83us/sample - loss: 0.2017 - acc: 0.9450\n",
      "Epoch 61/100\n",
      "60000/60000 [==============================] - 6s 93us/sample - loss: 0.2004 - acc: 0.9451\n",
      "Epoch 62/100\n",
      "60000/60000 [==============================] - 6s 97us/sample - loss: 0.2018 - acc: 0.9454\n",
      "Epoch 63/100\n",
      "60000/60000 [==============================] - 5s 86us/sample - loss: 0.1996 - acc: 0.9449\n",
      "Epoch 64/100\n",
      "60000/60000 [==============================] - 5s 91us/sample - loss: 0.1992 - acc: 0.9458\n",
      "Epoch 65/100\n",
      "60000/60000 [==============================] - 6s 94us/sample - loss: 0.1955 - acc: 0.9468\n",
      "Epoch 66/100\n",
      "60000/60000 [==============================] - 5s 88us/sample - loss: 0.2033 - acc: 0.9453\n",
      "Epoch 67/100\n"
     ]
    },
    {
     "name": "stdout",
     "output_type": "stream",
     "text": [
      "60000/60000 [==============================] - 6s 94us/sample - loss: 0.2012 - acc: 0.9461\n",
      "Epoch 68/100\n",
      "60000/60000 [==============================] - 5s 80us/sample - loss: 0.1978 - acc: 0.9463\n",
      "Epoch 69/100\n",
      "60000/60000 [==============================] - 5s 81us/sample - loss: 0.1962 - acc: 0.9470\n",
      "Epoch 70/100\n",
      "60000/60000 [==============================] - 5s 91us/sample - loss: 0.2017 - acc: 0.9453\n",
      "Epoch 71/100\n",
      "60000/60000 [==============================] - 6s 100us/sample - loss: 0.1968 - acc: 0.9463\n",
      "Epoch 72/100\n",
      "60000/60000 [==============================] - 8s 132us/sample - loss: 0.1963 - acc: 0.9460\n",
      "Epoch 73/100\n",
      "60000/60000 [==============================] - 6s 93us/sample - loss: 0.1965 - acc: 0.9466\n",
      "Epoch 74/100\n",
      "60000/60000 [==============================] - 6s 101us/sample - loss: 0.1974 - acc: 0.9460\n",
      "Epoch 75/100\n",
      "60000/60000 [==============================] - 5s 82us/sample - loss: 0.1940 - acc: 0.9467\n",
      "Epoch 76/100\n",
      "60000/60000 [==============================] - 5s 79us/sample - loss: 0.1910 - acc: 0.9464\n",
      "Epoch 77/100\n",
      "60000/60000 [==============================] - 5s 81us/sample - loss: 0.1919 - acc: 0.9471\n",
      "Epoch 78/100\n",
      "60000/60000 [==============================] - 5s 81us/sample - loss: 0.1959 - acc: 0.9462\n",
      "Epoch 79/100\n",
      "60000/60000 [==============================] - 5s 80us/sample - loss: 0.1927 - acc: 0.9468\n",
      "Epoch 80/100\n",
      "60000/60000 [==============================] - 5s 79us/sample - loss: 0.1914 - acc: 0.9477\n",
      "Epoch 81/100\n",
      "60000/60000 [==============================] - 5s 79us/sample - loss: 0.1912 - acc: 0.9476\n",
      "Epoch 82/100\n",
      "60000/60000 [==============================] - 6s 106us/sample - loss: 0.1913 - acc: 0.9469\n",
      "Epoch 83/100\n",
      "60000/60000 [==============================] - 5s 80us/sample - loss: 0.1896 - acc: 0.9462\n",
      "Epoch 84/100\n",
      "60000/60000 [==============================] - 5s 80us/sample - loss: 0.1903 - acc: 0.9479\n",
      "Epoch 85/100\n",
      "60000/60000 [==============================] - 5s 79us/sample - loss: 0.1907 - acc: 0.9483\n",
      "Epoch 86/100\n",
      "60000/60000 [==============================] - 5s 82us/sample - loss: 0.1894 - acc: 0.94750s - loss: 0.18\n",
      "Epoch 87/100\n",
      "60000/60000 [==============================] - 5s 81us/sample - loss: 0.1909 - acc: 0.9481\n",
      "Epoch 88/100\n",
      "60000/60000 [==============================] - 5s 79us/sample - loss: 0.1924 - acc: 0.9476\n",
      "Epoch 89/100\n",
      "60000/60000 [==============================] - 5s 79us/sample - loss: 0.1922 - acc: 0.9475\n",
      "Epoch 90/100\n",
      "60000/60000 [==============================] - 5s 79us/sample - loss: 0.1880 - acc: 0.9478\n",
      "Epoch 91/100\n",
      "60000/60000 [==============================] - 5s 79us/sample - loss: 0.1893 - acc: 0.94870s - loss: 0.1890 - acc: 0.9\n",
      "Epoch 92/100\n",
      "60000/60000 [==============================] - 5s 79us/sample - loss: 0.1929 - acc: 0.9481\n",
      "Epoch 93/100\n",
      "60000/60000 [==============================] - 5s 77us/sample - loss: 0.1906 - acc: 0.9477\n",
      "Epoch 94/100\n",
      "60000/60000 [==============================] - 5s 77us/sample - loss: 0.1868 - acc: 0.9493\n",
      "Epoch 95/100\n",
      "60000/60000 [==============================] - 5s 79us/sample - loss: 0.1934 - acc: 0.9477\n",
      "Epoch 96/100\n",
      "60000/60000 [==============================] - 5s 80us/sample - loss: 0.1912 - acc: 0.9475\n",
      "Epoch 97/100\n",
      "60000/60000 [==============================] - 5s 77us/sample - loss: 0.1874 - acc: 0.9485\n",
      "Epoch 98/100\n",
      "60000/60000 [==============================] - 6s 97us/sample - loss: 0.1918 - acc: 0.9476\n",
      "Epoch 99/100\n",
      "60000/60000 [==============================] - 5s 89us/sample - loss: 0.1958 - acc: 0.9455\n",
      "Epoch 100/100\n",
      "60000/60000 [==============================] - 5s 88us/sample - loss: 0.1886 - acc: 0.9478\n"
     ]
    },
    {
     "data": {
      "text/plain": [
       "VotingClassifier(estimators=[('model1', <tensorflow.python.keras.wrappers.scikit_learn.KerasClassifier object at 0x14ef6ecf8>), ('model2', <tensorflow.python.keras.wrappers.scikit_learn.KerasClassifier object at 0x14ef6ea20>), ('model3', <tensorflow.python.keras.wrappers.scikit_learn.KerasClassifier object at 0x14ef..., ('model5', <tensorflow.python.keras.wrappers.scikit_learn.KerasClassifier object at 0x14ef6eda0>)],\n",
       "         flatten_transform=None, n_jobs=None, voting='soft', weights=None)"
      ]
     },
     "execution_count": 144,
     "metadata": {},
     "output_type": "execute_result"
    }
   ],
   "source": [
    "ensemble_clf = VotingClassifier(estimators=[('model1', model1), ('model2', model2), ('model3', model3), ('model4', model4), ('model5', model5)], \\\n",
    "                    voting='soft')\n",
    "\n",
    "ensemble_clf.fit(X_train, y_train)"
   ]
  },
  {
   "cell_type": "code",
   "execution_count": 148,
   "metadata": {},
   "outputs": [
    {
     "data": {
      "text/plain": [
       "0.9793"
      ]
     },
     "execution_count": 148,
     "metadata": {},
     "output_type": "execute_result"
    }
   ],
   "source": [
    "y_pred = ensemble_clf.predict(X_test)\n",
    "\n",
    "test_acc = accuracy_score(y_test, y_pred)\n",
    "test_acc"
   ]
  },
  {
   "cell_type": "code",
   "execution_count": null,
   "metadata": {},
   "outputs": [],
   "source": []
  },
  {
   "cell_type": "code",
   "execution_count": null,
   "metadata": {},
   "outputs": [],
   "source": []
  }
 ],
 "metadata": {
  "kernelspec": {
   "display_name": "Python 3",
   "language": "python",
   "name": "python3"
  },
  "language_info": {
   "codemirror_mode": {
    "name": "ipython",
    "version": 3
   },
   "file_extension": ".py",
   "mimetype": "text/x-python",
   "name": "python",
   "nbconvert_exporter": "python",
   "pygments_lexer": "ipython3",
   "version": "3.6.8"
  }
 },
 "nbformat": 4,
 "nbformat_minor": 2
}
