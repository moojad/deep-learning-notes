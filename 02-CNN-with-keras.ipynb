{
 "cells": [
  {
   "cell_type": "markdown",
   "metadata": {},
   "source": [
    "# 0. CNN Fundamentals\n",
    "Convolutional Neural Networks"
   ]
  },
  {
   "cell_type": "markdown",
   "metadata": {},
   "source": [
    "<img src=\"https://adeshpande3.github.io/assets/Cover.png\" style=\"width: 800px\"/>"
   ]
  },
  {
   "cell_type": "markdown",
   "metadata": {},
   "source": [
    "- Fundamental CNN structures: CNNs are similar to MLPs since they only feed signals forward (feedforward nets), but have different kind of layers unique to CNNs\n",
    "    - **Convolutional layer** : process data in a small receptive field (i.e., filter)\n",
    "    - **Pooling layer** : downsample along 2 dimensions (usually width and height) \n",
    "    - **Dense (fully connected) layer** : similar to hidden layers of MLPs"
   ]
  },
  {
   "cell_type": "markdown",
   "metadata": {},
   "source": [
    "<img src=\"https://miro.medium.com/max/2510/1*XbuW8WuRrAY5pC4t-9DZAQ.jpeg\" style=\"width: 800px\"/>\n",
    "<br>"
   ]
  },
  {
   "cell_type": "markdown",
   "metadata": {},
   "source": [
    "### 0.1. Image Inputs\n",
    "- Input of image-format data is usually 4-D array in Tensorflow\n",
    "<br> **(num_instance, width, height, depth)** </br>\n",
    "    - **num_instance:** number of data instances. Usually designated as **None** to accomodate fluctuating data size\n",
    "    - **width:** width of an image\n",
    "    - **height:** height of an image\n",
    "    - **depth:** depth of an image. Color images are usually with depth = 3 (3 channels for RGB). Black/white images are usually with depth = 1 (only one channel)\n",
    "    \n",
    "<img src=\"http://xrds.acm.org/blog/wp-content/uploads/2016/06/Figure1.png\" style=\"width: 400px\"/>"
   ]
  },
  {
   "cell_type": "code",
   "execution_count": 7,
   "metadata": {},
   "outputs": [],
   "source": [
    "from tensorflow.keras.preprocessing import image"
   ]
  },
  {
   "cell_type": "markdown",
   "metadata": {},
   "source": [
    "- Loading image\n",
    "    - Images can be loaded using load_img() function\n",
    "    - Images can be converted to numpy array using img_to_array() function"
   ]
  },
  {
   "cell_type": "code",
   "execution_count": 12,
   "metadata": {},
   "outputs": [
    {
     "data": {
      "image/png": "[encoded data removed]",
      "text/plain": [
       "<PIL.Image.Image image mode=RGB size=100x100 at 0x13548BE48>"
      ]
     },
     "execution_count": 12,
     "metadata": {},
     "output_type": "execute_result"
    }
   ],
   "source": [
    "img = image.load_img('dog.jpg', target_size=(100,100))\n",
    "img"
   ]
  },
  {
   "cell_type": "code",
   "execution_count": 17,
   "metadata": {},
   "outputs": [
    {
     "data": {
      "text/plain": [
       "(100, 100, 3)"
      ]
     },
     "execution_count": 17,
     "metadata": {},
     "output_type": "execute_result"
    }
   ],
   "source": [
    "img_arr = image.img_to_array(img)\n",
    "img_arr.shape"
   ]
  },
  {
   "cell_type": "markdown",
   "metadata": {},
   "source": [
    "# 1. CNN - Basics\n",
    " - Categorical Classification (Handwritten Digits)"
   ]
  },
  {
   "cell_type": "markdown",
   "metadata": {},
   "source": [
    "### Dataset (+preprocessing)\n",
    "- Digits dataset in sklearn\n",
    "- Doc: http://scikit-learn.org/stable/auto_examples/datasets/plot_digits_last_image.html"
   ]
  },
  {
   "cell_type": "code",
   "execution_count": 32,
   "metadata": {},
   "outputs": [],
   "source": [
    "import numpy as np\n",
    "import matplotlib.pyplot as plt\n",
    "\n",
    "from sklearn import datasets\n",
    "from sklearn.model_selection import train_test_split\n",
    "\n",
    "from tensorflow.keras.preprocessing import image\n",
    "from tensorflow.keras.utils import to_categorical"
   ]
  },
  {
   "cell_type": "code",
   "execution_count": 33,
   "metadata": {},
   "outputs": [],
   "source": [
    "data = datasets.load_digits()"
   ]
  },
  {
   "cell_type": "code",
   "execution_count": 34,
   "metadata": {},
   "outputs": [
    {
     "name": "stdout",
     "output_type": "stream",
     "text": [
      "(1797, 8, 8)\n",
      "(1797,)\n"
     ]
    }
   ],
   "source": [
    "X_data = data.images\n",
    "y_data = data.target\n",
    "\n",
    "print(X_data.shape)\n",
    "print(y_data.shape)"
   ]
  },
  {
   "cell_type": "code",
   "execution_count": 35,
   "metadata": {},
   "outputs": [
    {
     "data": {
      "image/png": "[encoded data removed]",
      "text/plain": [
       "<Figure size 432x288 with 1 Axes>"
      ]
     },
     "metadata": {
      "needs_background": "light"
     },
     "output_type": "display_data"
    },
    {
     "name": "stdout",
     "output_type": "stream",
     "text": [
      "label:  0\n"
     ]
    }
   ],
   "source": [
    "plt.imshow(X_data[0])\n",
    "plt.show()\n",
    "\n",
    "print('label: ', y_data[0])"
   ]
  },
  {
   "cell_type": "code",
   "execution_count": 36,
   "metadata": {},
   "outputs": [
    {
     "name": "stdout",
     "output_type": "stream",
     "text": [
      "(1797, 8, 8, 1)\n"
     ]
    }
   ],
   "source": [
    "# reshape X_data into 3-D format\n",
    "# note that this follows image format of Tensorflow backend\n",
    "X_data = X_data.reshape((X_data.shape[0], X_data.shape[1], X_data.shape[2], 1))\n",
    "\n",
    "print(X_data.shape)"
   ]
  },
  {
   "cell_type": "code",
   "execution_count": 37,
   "metadata": {},
   "outputs": [
    {
     "name": "stdout",
     "output_type": "stream",
     "text": [
      "(1797, 10)\n"
     ]
    }
   ],
   "source": [
    "# one-hot encoding of y_data\n",
    "y_data = to_categorical(y_data)\n",
    "\n",
    "print(y_data.shape)"
   ]
  },
  {
   "cell_type": "code",
   "execution_count": 38,
   "metadata": {},
   "outputs": [
    {
     "name": "stdout",
     "output_type": "stream",
     "text": [
      "(1257, 8, 8, 1)\n",
      "(1257, 10)\n",
      "(540, 8, 8, 1)\n",
      "(540, 10)\n"
     ]
    }
   ],
   "source": [
    "# partition data into train/test sets\n",
    "X_train, X_test, y_train, y_test = train_test_split(X_data, y_data, test_size = 0.3, random_state = 42)\n",
    "\n",
    "print(X_train.shape)\n",
    "print(y_train.shape)\n",
    "print(X_test.shape)\n",
    "print(y_test.shape)"
   ]
  },
  {
   "cell_type": "markdown",
   "metadata": {},
   "source": [
    "### CNN Model"
   ]
  },
  {
   "cell_type": "code",
   "execution_count": 46,
   "metadata": {},
   "outputs": [],
   "source": [
    "import tensorflow as tf\n",
    "\n",
    "from tensorflow.keras.models import Model, Sequential\n",
    "from tensorflow.keras.layers import Input, Dense, Activation, Flatten, Conv2D, MaxPooling2D, AveragePooling2D, GlobalMaxPooling2D\n",
    "from tensorflow.keras import optimizers\n"
   ]
  },
  {
   "cell_type": "code",
   "execution_count": 47,
   "metadata": {},
   "outputs": [],
   "source": [
    "model = Sequential()"
   ]
  },
  {
   "cell_type": "markdown",
   "metadata": {},
   "source": [
    "###  - Convolutional Layer\n",
    "- In general, 2D convolutional layer is used for image processing\n",
    "- Doc: https://keras.io/layers/convolutional/\n",
    "<img src=\"http://cs231n.github.io/assets/cnn/depthcol.jpeg\" style=\"width: 400px\"/>\n",
    "\n",
    "\n",
    "- **Filters/Kernel_size:**\n",
    "    - Number of filters (designated by 'filters' parameter) is equals to the **depth of next layer**\n",
    "    - Size of filter (designated by 'kernel_size' parameter) defines **width and height of receptive field**\n",
    "\n",
    "- **Strides** \n",
    "    - (designated by 'strides' parameter) is **how far a filter makes change in its position** for each move\n",
    "- **Padding**\n",
    "    - Image can be **zero-padded** in order to prevent getting too small (designated by 'padding' parameter)\n",
    "    - Two types of padding options\n",
    "        - **'valid'**: no padding (drop right-most columns & bottom-most rows)\n",
    "        - **'same'**: padding size **p = [k/2]** when kernel_size = **k**\n",
    "    - Customized paddings can be given with ZeroPadding**n**2D layer\n",
    "        \n",
    "<img src=\"https://miro.medium.com/max/922/1*kYSsNpy0b3fIonQya66VSQ.png\" style=\"width: 400px\"/>"
   ]
  },
  {
   "cell_type": "code",
   "execution_count": 48,
   "metadata": {},
   "outputs": [
    {
     "name": "stdout",
     "output_type": "stream",
     "text": [
      "(None, 6, 6, 10)\n"
     ]
    }
   ],
   "source": [
    "model.add(Conv2D(input_shape=(8,8,1), filters=10, kernel_size=(3,3), strides=(1,1), padding='valid'))\n",
    "\n",
    "print(model.output_shape)"
   ]
  },
  {
   "cell_type": "markdown",
   "metadata": {},
   "source": [
    "### - Activation Layer\n",
    "- In general, relu is used as well\n",
    "- Doc: http://cs231n.github.io/assets/cnn/depthcol.jpeg"
   ]
  },
  {
   "cell_type": "code",
   "execution_count": 49,
   "metadata": {},
   "outputs": [
    {
     "name": "stdout",
     "output_type": "stream",
     "text": [
      "(None, 6, 6, 10)\n"
     ]
    }
   ],
   "source": [
    "model.add(Activation('relu'))\n",
    "\n",
    "print(model.output_shape)"
   ]
  },
  {
   "cell_type": "markdown",
   "metadata": {},
   "source": [
    "### - Pooling layer\n",
    "- Reduces number of parameters\n",
    "- Usually, max pooling is applied for rectangular region\n",
    "- pooling size, padding type, and strides can be set similar to convolutional layer\n",
    "- Doc: https://keras.io/layers/pooling/\n",
    "<img src=\"http://cs231n.github.io/assets/cnn/maxpool.jpeg\" style=\"width: 600px\"/>"
   ]
  },
  {
   "cell_type": "code",
   "execution_count": 50,
   "metadata": {},
   "outputs": [
    {
     "name": "stdout",
     "output_type": "stream",
     "text": [
      "(None, 3, 3, 10)\n"
     ]
    }
   ],
   "source": [
    "model.add(MaxPooling2D(pool_size=(2,2))) #If strides=None, it will default to `pool_size`.\n",
    "\n",
    "print(model.output_shape)"
   ]
  },
  {
   "cell_type": "markdown",
   "metadata": {},
   "source": [
    "### - Flattening\n",
    "- To be connected to fully connected layer (dense layer), convolutional/pooling layer should be **\"flattened\"**\n",
    "- Resulting shape = **(Number of instances, width X height X depth)**"
   ]
  },
  {
   "cell_type": "code",
   "execution_count": 51,
   "metadata": {},
   "outputs": [
    {
     "name": "stdout",
     "output_type": "stream",
     "text": [
      "(None, 90)\n"
     ]
    }
   ],
   "source": [
    "model.add(Flatten())\n",
    "\n",
    "print(model.output_shape)"
   ]
  },
  {
   "cell_type": "markdown",
   "metadata": {},
   "source": [
    "### - Dense (fully connected layer)\n",
    "- After flattening layer, fully connected layer can be added\n",
    "- output shape (number of nodes) should be designated\n",
    "- Sometimes, dense layers can be omitted\n",
    "- Doc: https://keras.io/layers/core/"
   ]
  },
  {
   "cell_type": "code",
   "execution_count": 52,
   "metadata": {},
   "outputs": [],
   "source": [
    "# dense layer with 50 neurons\n",
    "model.add(Dense(50, activation = 'relu'))\n",
    "\n",
    "# final layer with 10 neurons to classify the instances\n",
    "model.add(Dense(10, activation = 'softmax'))"
   ]
  },
  {
   "cell_type": "code",
   "execution_count": 53,
   "metadata": {},
   "outputs": [
    {
     "name": "stdout",
     "output_type": "stream",
     "text": [
      "Model: \"sequential_2\"\n",
      "_________________________________________________________________\n",
      "Layer (type)                 Output Shape              Param #   \n",
      "=================================================================\n",
      "conv2d_2 (Conv2D)            (None, 6, 6, 10)          100       \n",
      "_________________________________________________________________\n",
      "activation_1 (Activation)    (None, 6, 6, 10)          0         \n",
      "_________________________________________________________________\n",
      "max_pooling2d_1 (MaxPooling2 (None, 3, 3, 10)          0         \n",
      "_________________________________________________________________\n",
      "flatten (Flatten)            (None, 90)                0         \n",
      "_________________________________________________________________\n",
      "dense (Dense)                (None, 50)                4550      \n",
      "_________________________________________________________________\n",
      "dense_1 (Dense)              (None, 10)                510       \n",
      "=================================================================\n",
      "Total params: 5,160\n",
      "Trainable params: 5,160\n",
      "Non-trainable params: 0\n",
      "_________________________________________________________________\n"
     ]
    }
   ],
   "source": [
    "model.summary()"
   ]
  },
  {
   "cell_type": "markdown",
   "metadata": {},
   "source": [
    "### - Model Compile & Fit (train)"
   ]
  },
  {
   "cell_type": "code",
   "execution_count": 54,
   "metadata": {},
   "outputs": [],
   "source": [
    "adam = optimizers.Adam(lr=0.001)\n",
    "model.compile(optimizer=adam, loss='categorical_crossentropy', metrics=['acc'])"
   ]
  },
  {
   "cell_type": "code",
   "execution_count": 55,
   "metadata": {},
   "outputs": [],
   "source": [
    "history = model.fit(X_train, y_train, batch_size=64, epochs=100, validation_split=0.2, verbose=0)"
   ]
  },
  {
   "cell_type": "code",
   "execution_count": 59,
   "metadata": {},
   "outputs": [
    {
     "data": {
      "image/png": "[encoded data removed]",
      "text/plain": [
       "<Figure size 432x288 with 1 Axes>"
      ]
     },
     "metadata": {
      "needs_background": "light"
     },
     "output_type": "display_data"
    }
   ],
   "source": [
    "plt.plot(history.history['acc'])\n",
    "plt.plot(history.history['val_acc'])\n",
    "plt.legend(['Training', 'Validation'])\n",
    "plt.show()"
   ]
  },
  {
   "cell_type": "markdown",
   "metadata": {},
   "source": [
    "### - Model Evaluate"
   ]
  },
  {
   "cell_type": "code",
   "execution_count": 60,
   "metadata": {},
   "outputs": [
    {
     "data": {
      "text/plain": [
       "[0.05760304333159217, 0.9851852]"
      ]
     },
     "execution_count": 60,
     "metadata": {},
     "output_type": "execute_result"
    }
   ],
   "source": [
    "model.evaluate(X_test, y_test, verbose=0)"
   ]
  },
  {
   "cell_type": "code",
   "execution_count": 61,
   "metadata": {},
   "outputs": [
    {
     "data": {
      "text/plain": [
       "['loss', 'acc']"
      ]
     },
     "execution_count": 61,
     "metadata": {},
     "output_type": "execute_result"
    }
   ],
   "source": [
    "model.metrics_names"
   ]
  },
  {
   "cell_type": "markdown",
   "metadata": {},
   "source": [
    "# 2- CNN - Deep"
   ]
  },
  {
   "cell_type": "markdown",
   "metadata": {},
   "source": [
    "## Deeper Networks\n",
    "- It is one of definite trends that CNN models submitted to ILSVRC are getting deeper and deeper\n",
    "<img src=\"https://cdn-images-1.medium.com/max/756/1*Io-I-fOM0jGftDb_nne4KQ.png\" style=\"width: 600px\"/>\n",
    "\n",
    "<br>\n",
    "- Deeper networks are able to learn more \"abstract\" representations by comprising more operations and nonlinearities \n",
    "- However, they are difficult and costly to train and prone to overfitting\n",
    "\n",
    "<img src=\"http://cs231n.github.io/assets/cnnvis/filt1.jpeg\" style=\"width: 400px\"/>"
   ]
  },
  {
   "cell_type": "markdown",
   "metadata": {},
   "source": [
    "## 2.1. Deep CNN-1\n",
    "- Deeper network with 6 convolutional layers and 3 pooling layers\n",
    "- Note that two (3x3) convolutional layers are stacked\n",
    "    - It is equivalent to using one (5X5) convolutional layer, but with fewer parameters\n",
    "    - Similar to the structured used in VGGnet\n",
    "\n",
    "<img src=\"http://www.hirokatsukataoka.net/research/cnnfeatureevaluation/cnnarchitecture.jpg\" style=\"width: 600px\"/>"
   ]
  },
  {
   "cell_type": "markdown",
   "metadata": {},
   "source": [
    "### Dataset (+preprocessing)\n",
    "- MNIST Dataset\n",
    "- Doc: https://keras.io/datasets/"
   ]
  },
  {
   "cell_type": "code",
   "execution_count": 68,
   "metadata": {},
   "outputs": [],
   "source": [
    "from tensorflow.keras.datasets import mnist\n",
    "from tensorflow.keras.utils import to_categorical\n",
    "\n",
    "import numpy as np\n",
    "import matplotlib.pyplot as plt"
   ]
  },
  {
   "cell_type": "code",
   "execution_count": 66,
   "metadata": {},
   "outputs": [
    {
     "name": "stdout",
     "output_type": "stream",
     "text": [
      "(60000, 28, 28)\n",
      "(60000,)\n",
      "(10000, 28, 28)\n",
      "(10000,)\n"
     ]
    }
   ],
   "source": [
    "(X_train, y_train), (X_test, y_test) = mnist.load_data()\n",
    "\n",
    "print(X_train.shape)\n",
    "print(y_train.shape)\n",
    "print(X_test.shape)\n",
    "print(y_test.shape)"
   ]
  },
  {
   "cell_type": "code",
   "execution_count": 67,
   "metadata": {},
   "outputs": [],
   "source": [
    "# reshaping X data: (n, 28, 28) => (n, 28, 28, 1)\n",
    "X_train = X_train.reshape((X_train.shape[0], X_train.shape[1], X_train.shape[2], 1))\n",
    "X_test = X_test.reshape((X_test.shape[0], X_test.shape[1], X_test.shape[2], 1))"
   ]
  },
  {
   "cell_type": "code",
   "execution_count": 69,
   "metadata": {},
   "outputs": [],
   "source": [
    "# converting y data into categorical (one-hot encoding)\n",
    "y_train = to_categorical(y_train)\n",
    "y_test = to_categorical(y_test)"
   ]
  },
  {
   "cell_type": "code",
   "execution_count": 70,
   "metadata": {},
   "outputs": [
    {
     "name": "stdout",
     "output_type": "stream",
     "text": [
      "(60000, 28, 28, 1)\n",
      "(60000, 10)\n",
      "(10000, 28, 28, 1)\n",
      "(10000, 10)\n"
     ]
    }
   ],
   "source": [
    "print(X_train.shape)\n",
    "print(y_train.shape)\n",
    "print(X_test.shape)\n",
    "print(y_test.shape)"
   ]
  },
  {
   "cell_type": "markdown",
   "metadata": {},
   "source": [
    "### CNN Model - VGGNet"
   ]
  },
  {
   "cell_type": "code",
   "execution_count": 71,
   "metadata": {},
   "outputs": [],
   "source": [
    "import tensorflow as tf\n",
    "from tensorflow.keras.models import Model, Sequential\n",
    "from tensorflow.keras.layers import Dense, Activation, Conv2D, MaxPooling2D, Flatten, Dropout, BatchNormalization\n",
    "from tensorflow.keras import optimizers"
   ]
  },
  {
   "cell_type": "code",
   "execution_count": 86,
   "metadata": {},
   "outputs": [],
   "source": [
    "tf.keras.backend.clear_session()"
   ]
  },
  {
   "cell_type": "code",
   "execution_count": 73,
   "metadata": {},
   "outputs": [],
   "source": [
    "def deep_cnn_VGGNet():\n",
    "    model = Sequential()\n",
    "    \n",
    "    model.add(Conv2D(input_shape=(28,28,1), filters=50, kernel_size=(3,3), strides=(1,1), padding='same')) ## Input Layer included\n",
    "    model.add(Activation('relu'))\n",
    "    model.add(Conv2D(filters=50, kernel_size=(3,3), strides=(1,1), padding='same'))\n",
    "    model.add(Activation('relu'))\n",
    "    model.add(MaxPooling2D(pool_size=(2,2))) ### Layer1\n",
    "    \n",
    "    model.add(Conv2D(filters=50, kernel_size=(3,3), strides=(1,1), padding='same'))\n",
    "    model.add(Activation('relu'))\n",
    "    model.add(Conv2D(filters=50, kernel_size=(3,3), strides=(1,1), padding='same'))\n",
    "    model.add(Activation('relu'))\n",
    "    model.add(MaxPooling2D(pool_size=(2,2)))  ### Layer2\n",
    "    \n",
    "    model.add(Conv2D(filters=50, kernel_size=(3,3), strides=(1,1), padding='same'))\n",
    "    model.add(Activation('relu'))\n",
    "    model.add(Conv2D(filters=50, kernel_size=(3,3), strides=(1,1), padding='same'))\n",
    "    model.add(Activation('relu'))\n",
    "    model.add(MaxPooling2D(pool_size=(2,2)))  ### Layer3 (Layer 4 and 5 in VGGNet are neglected)\n",
    "    \n",
    "    model.add(Flatten())\n",
    "    model.add(Dense(50, activation='relu')) ### Layer 6\n",
    "    \n",
    "    model.add(Dense(10, activation='softmax'))  ### Layer 8 (Layer 7 in VGGNet is neglected)\n",
    "    \n",
    "    \n",
    "    \n",
    "    adam = optimizers.Adam(lr = 0.001)\n",
    "    model.compile(optimizer=adam, loss='categorical_crossentropy', metrics=['acc'])\n",
    "    \n",
    "    return model"
   ]
  },
  {
   "cell_type": "code",
   "execution_count": 81,
   "metadata": {},
   "outputs": [
    {
     "name": "stdout",
     "output_type": "stream",
     "text": [
      "Model: \"sequential\"\n",
      "_________________________________________________________________\n",
      "Layer (type)                 Output Shape              Param #   \n",
      "=================================================================\n",
      "conv2d (Conv2D)              (None, 28, 28, 50)        500       \n",
      "_________________________________________________________________\n",
      "activation (Activation)      (None, 28, 28, 50)        0         \n",
      "_________________________________________________________________\n",
      "conv2d_1 (Conv2D)            (None, 28, 28, 50)        22550     \n",
      "_________________________________________________________________\n",
      "activation_1 (Activation)    (None, 28, 28, 50)        0         \n",
      "_________________________________________________________________\n",
      "max_pooling2d (MaxPooling2D) (None, 14, 14, 50)        0         \n",
      "_________________________________________________________________\n",
      "conv2d_2 (Conv2D)            (None, 14, 14, 50)        22550     \n",
      "_________________________________________________________________\n",
      "activation_2 (Activation)    (None, 14, 14, 50)        0         \n",
      "_________________________________________________________________\n",
      "conv2d_3 (Conv2D)            (None, 14, 14, 50)        22550     \n",
      "_________________________________________________________________\n",
      "activation_3 (Activation)    (None, 14, 14, 50)        0         \n",
      "_________________________________________________________________\n",
      "max_pooling2d_1 (MaxPooling2 (None, 7, 7, 50)          0         \n",
      "_________________________________________________________________\n",
      "conv2d_4 (Conv2D)            (None, 7, 7, 50)          22550     \n",
      "_________________________________________________________________\n",
      "activation_4 (Activation)    (None, 7, 7, 50)          0         \n",
      "_________________________________________________________________\n",
      "conv2d_5 (Conv2D)            (None, 7, 7, 50)          22550     \n",
      "_________________________________________________________________\n",
      "activation_5 (Activation)    (None, 7, 7, 50)          0         \n",
      "_________________________________________________________________\n",
      "max_pooling2d_2 (MaxPooling2 (None, 3, 3, 50)          0         \n",
      "_________________________________________________________________\n",
      "flatten (Flatten)            (None, 450)               0         \n",
      "_________________________________________________________________\n",
      "dense (Dense)                (None, 50)                22550     \n",
      "_________________________________________________________________\n",
      "dense_1 (Dense)              (None, 10)                510       \n",
      "=================================================================\n",
      "Total params: 136,310\n",
      "Trainable params: 136,310\n",
      "Non-trainable params: 0\n",
      "_________________________________________________________________\n"
     ]
    }
   ],
   "source": [
    "model = deep_cnn_VGGNet()\n",
    "\n",
    "model.summary()"
   ]
  },
  {
   "cell_type": "code",
   "execution_count": null,
   "metadata": {},
   "outputs": [],
   "source": [
    "%%time\n",
    "history = model.fit(X_train, y_train, batch_size=64, epochs=100, verbose=0, validation_split=0.2)"
   ]
  },
  {
   "cell_type": "code",
   "execution_count": null,
   "metadata": {},
   "outputs": [],
   "source": [
    "plt.plot(history.history['acc'])\n",
    "plt.plot(history.history['val_acc'])\n",
    "plt.legend(['training', 'validation'], loc =0)\n",
    "plt.show()"
   ]
  },
  {
   "cell_type": "markdown",
   "metadata": {},
   "source": [
    "Training is rather unstable; accuracy falling down after around 80 epochs"
   ]
  },
  {
   "cell_type": "code",
   "execution_count": 84,
   "metadata": {},
   "outputs": [],
   "source": [
    "results = model.evaluate(X_test, y_test, verbose=0)"
   ]
  },
  {
   "cell_type": "code",
   "execution_count": 85,
   "metadata": {},
   "outputs": [
    {
     "name": "stdout",
     "output_type": "stream",
     "text": [
      "Test accuracy:  0.9898\n"
     ]
    }
   ],
   "source": [
    "print('Test accuracy: ', results[1])"
   ]
  },
  {
   "cell_type": "markdown",
   "metadata": {},
   "source": [
    "## 2.2. Deep CNN-2"
   ]
  },
  {
   "cell_type": "markdown",
   "metadata": {},
   "source": [
    "Same dataset as Deep CNN-1"
   ]
  },
  {
   "cell_type": "markdown",
   "metadata": {},
   "source": [
    "### CNN Model - VGGNet - Advanced\n",
    "- Measures used to enhance the performance of MLPs are employed\n",
    "    - Weight Initialization\n",
    "    - Batch Normalization\n",
    "    - Dropout"
   ]
  },
  {
   "cell_type": "code",
   "execution_count": 92,
   "metadata": {},
   "outputs": [],
   "source": [
    "tf.keras.backend.clear_session()"
   ]
  },
  {
   "cell_type": "code",
   "execution_count": 93,
   "metadata": {},
   "outputs": [],
   "source": [
    "def deep_cnn_VGGNet_advanced():\n",
    "    model = Sequential()\n",
    "    \n",
    "    model.add(Conv2D(input_shape=(28,28,1), filters=50, kernel_size=(3,3), strides=(1,1), padding='same', kernel_initializer='he_normal'))\n",
    "    model.add(BatchNormalization())\n",
    "    model.add(Activation('relu'))\n",
    "    model.add(Conv2D(filters=50, kernel_size=(3,3), strides=(1,1), padding='same', kernel_initializer='he_normal'))\n",
    "    model.add(BatchNormalization())\n",
    "    model.add(Activation('relu'))\n",
    "    model.add(MaxPooling2D(pool_size=(2,2))) ### Layer 1\n",
    "    \n",
    "    model.add(Conv2D(filters=50, kernel_size=(3,3), strides=(1,1), padding='same', kernel_initializer='he_normal'))\n",
    "    model.add(BatchNormalization())\n",
    "    model.add(Activation('relu'))\n",
    "    model.add(Conv2D(filters=50, kernel_size=(3,3), strides=(1,1), padding='same', kernel_initializer='he_normal'))\n",
    "    model.add(BatchNormalization())\n",
    "    model.add(Activation('relu'))\n",
    "    model.add(MaxPooling2D(pool_size=(2,2))) ### Layer 2\n",
    "    \n",
    "    model.add(Conv2D(filters=50, kernel_size=(3,3), strides=(1,1), padding='same', kernel_initializer='he_normal'))\n",
    "    model.add(BatchNormalization())\n",
    "    model.add(Activation('relu'))\n",
    "    model.add(Conv2D(filters=50, kernel_size=(3,3), strides=(1,1), padding='same', kernel_initializer='he_normal'))\n",
    "    model.add(BatchNormalization())\n",
    "    model.add(Activation('relu'))\n",
    "    model.add(MaxPooling2D(pool_size=(2,2))) ### Layer 3 (Layer 4 and 5 in VGGNet are neglected)\n",
    "    \n",
    "    model.add(Flatten())\n",
    "    model.add(Dense(50, kernel_initializer='he_normal'))\n",
    "    model.add(BatchNormalization())\n",
    "    model.add(Activation('relu'))\n",
    "    model.add(Dropout(rate=0.5))  ### Layer 6 - Dropout here\n",
    "    \n",
    "    model.add(Dense(10, kernel_initializer='he_normal', activation='softmax'))  ### Layer 8 (Layer 7 in VGGNet is neglected) - No BatchNormalization here\n",
    "    \n",
    "    adam = optimizers.Adam(lr=0.001)\n",
    "    model.compile(optimizer=adam, loss='categorical_crossentropy', metrics=['acc'])\n",
    "    \n",
    "    return model"
   ]
  },
  {
   "cell_type": "code",
   "execution_count": 94,
   "metadata": {},
   "outputs": [
    {
     "name": "stdout",
     "output_type": "stream",
     "text": [
      "Model: \"sequential\"\n",
      "_________________________________________________________________\n",
      "Layer (type)                 Output Shape              Param #   \n",
      "=================================================================\n",
      "conv2d (Conv2D)              (None, 28, 28, 50)        500       \n",
      "_________________________________________________________________\n",
      "batch_normalization (BatchNo (None, 28, 28, 50)        200       \n",
      "_________________________________________________________________\n",
      "activation (Activation)      (None, 28, 28, 50)        0         \n",
      "_________________________________________________________________\n",
      "conv2d_1 (Conv2D)            (None, 28, 28, 50)        22550     \n",
      "_________________________________________________________________\n",
      "batch_normalization_1 (Batch (None, 28, 28, 50)        200       \n",
      "_________________________________________________________________\n",
      "activation_1 (Activation)    (None, 28, 28, 50)        0         \n",
      "_________________________________________________________________\n",
      "max_pooling2d (MaxPooling2D) (None, 14, 14, 50)        0         \n",
      "_________________________________________________________________\n",
      "conv2d_2 (Conv2D)            (None, 14, 14, 50)        22550     \n",
      "_________________________________________________________________\n",
      "batch_normalization_2 (Batch (None, 14, 14, 50)        200       \n",
      "_________________________________________________________________\n",
      "activation_2 (Activation)    (None, 14, 14, 50)        0         \n",
      "_________________________________________________________________\n",
      "conv2d_3 (Conv2D)            (None, 14, 14, 50)        22550     \n",
      "_________________________________________________________________\n",
      "batch_normalization_3 (Batch (None, 14, 14, 50)        200       \n",
      "_________________________________________________________________\n",
      "activation_3 (Activation)    (None, 14, 14, 50)        0         \n",
      "_________________________________________________________________\n",
      "max_pooling2d_1 (MaxPooling2 (None, 7, 7, 50)          0         \n",
      "_________________________________________________________________\n",
      "conv2d_4 (Conv2D)            (None, 7, 7, 50)          22550     \n",
      "_________________________________________________________________\n",
      "batch_normalization_4 (Batch (None, 7, 7, 50)          200       \n",
      "_________________________________________________________________\n",
      "activation_4 (Activation)    (None, 7, 7, 50)          0         \n",
      "_________________________________________________________________\n",
      "conv2d_5 (Conv2D)            (None, 7, 7, 50)          22550     \n",
      "_________________________________________________________________\n",
      "batch_normalization_5 (Batch (None, 7, 7, 50)          200       \n",
      "_________________________________________________________________\n",
      "activation_5 (Activation)    (None, 7, 7, 50)          0         \n",
      "_________________________________________________________________\n",
      "max_pooling2d_2 (MaxPooling2 (None, 3, 3, 50)          0         \n",
      "_________________________________________________________________\n",
      "flatten (Flatten)            (None, 450)               0         \n",
      "_________________________________________________________________\n",
      "dense (Dense)                (None, 50)                22550     \n",
      "_________________________________________________________________\n",
      "batch_normalization_6 (Batch (None, 50)                200       \n",
      "_________________________________________________________________\n",
      "activation_6 (Activation)    (None, 50)                0         \n",
      "_________________________________________________________________\n",
      "dropout (Dropout)            (None, 50)                0         \n",
      "_________________________________________________________________\n",
      "dense_1 (Dense)              (None, 10)                510       \n",
      "=================================================================\n",
      "Total params: 137,710\n",
      "Trainable params: 137,010\n",
      "Non-trainable params: 700\n",
      "_________________________________________________________________\n"
     ]
    }
   ],
   "source": [
    "model = deep_cnn_VGGNet_advanced()\n",
    "\n",
    "model.summary()"
   ]
  },
  {
   "cell_type": "code",
   "execution_count": null,
   "metadata": {},
   "outputs": [],
   "source": [
    "%%time\n",
    "history = model.fit(X_train, y_train, batch_size=64, epochs=100, verbose=0, validation_split=0.2)"
   ]
  },
  {
   "cell_type": "code",
   "execution_count": null,
   "metadata": {},
   "outputs": [],
   "source": [
    "plt.plot(history.history['acc'])\n",
    "plt.plot(history.history['val_acc'])\n",
    "plt.legend(['training', 'validation'], loc =0)\n",
    "plt.show()"
   ]
  },
  {
   "cell_type": "markdown",
   "metadata": {},
   "source": [
    "Stable and comparable result is obtained"
   ]
  },
  {
   "cell_type": "code",
   "execution_count": null,
   "metadata": {},
   "outputs": [],
   "source": [
    "results = model.evaluate(X_test, y_test, verbose=0)\n",
    "\n",
    "print('Test accuracy: ', results[1])"
   ]
  },
  {
   "cell_type": "code",
   "execution_count": null,
   "metadata": {},
   "outputs": [],
   "source": []
  },
  {
   "cell_type": "code",
   "execution_count": null,
   "metadata": {},
   "outputs": [],
   "source": []
  },
  {
   "cell_type": "code",
   "execution_count": null,
   "metadata": {},
   "outputs": [],
   "source": []
  }
 ],
 "metadata": {
  "kernelspec": {
   "display_name": "Python 3",
   "language": "python",
   "name": "python3"
  },
  "language_info": {
   "codemirror_mode": {
    "name": "ipython",
    "version": 3
   },
   "file_extension": ".py",
   "mimetype": "text/x-python",
   "name": "python",
   "nbconvert_exporter": "python",
   "pygments_lexer": "ipython3",
   "version": "3.6.8"
  }
 },
 "nbformat": 4,
 "nbformat_minor": 2
}
